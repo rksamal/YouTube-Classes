{
 "cells": [
  {
   "cell_type": "markdown",
   "id": "6e4d8917",
   "metadata": {},
   "source": [
    "<img src=https://lstms-brainybits.s3.ap-south-1.amazonaws.com/green+logo.png width=\"300\" height=\"200\" style=\"float: left; margin-right: 8px;\">"
   ]
  },
  {
   "cell_type": "markdown",
   "id": "4225a942",
   "metadata": {},
   "source": [
    "We believe in empowering individuals with the\n",
    "knowledge and skills they need to become lifelong\n",
    "learners. Our self-learning website offers a diverse\n",
    "range of high-quality, interactive courses.\n",
    "**All rights reserved to BrainyBits. Unauthorized reproduction or distribution of this content is prohibited.** "
   ]
  },
  {
   "cell_type": "markdown",
   "id": "4414d114",
   "metadata": {},
   "source": [
    "# Custom Functions"
   ]
  },
  {
   "cell_type": "markdown",
   "id": "5b569ebb",
   "metadata": {},
   "source": [
    "### 1. Simple custom function"
   ]
  },
  {
   "cell_type": "code",
   "execution_count": 1,
   "id": "a41aeb1b",
   "metadata": {},
   "outputs": [
    {
     "name": "stdout",
     "output_type": "stream",
     "text": [
      "Welcome to BrainyBits\n",
      "Hello! Welcome to the world of functions.\n"
     ]
    }
   ],
   "source": [
    "def greet():\n",
    "    print(\"Welcome to BrainyBits\")\n",
    "    print(\"Hello! Welcome to the world of functions.\")\n",
    "    \n",
    "greet()\n"
   ]
  },
  {
   "cell_type": "code",
   "execution_count": 2,
   "id": "130770c8",
   "metadata": {},
   "outputs": [],
   "source": [
    "def function_one():\n",
    "    list_new = [1, 2, 3, 4]\n",
    "    for i in list_new:\n",
    "        print(i)"
   ]
  },
  {
   "cell_type": "code",
   "execution_count": 3,
   "id": "56584825",
   "metadata": {},
   "outputs": [
    {
     "name": "stdout",
     "output_type": "stream",
     "text": [
      "1\n",
      "2\n",
      "3\n",
      "4\n"
     ]
    }
   ],
   "source": [
    "function_one()"
   ]
  },
  {
   "cell_type": "markdown",
   "id": "277a529e",
   "metadata": {},
   "source": [
    "### 2. Custom Function with input parameters"
   ]
  },
  {
   "cell_type": "code",
   "execution_count": 4,
   "id": "2e37bddd",
   "metadata": {},
   "outputs": [],
   "source": [
    "def multiply(a, b):\n",
    "    result = a * b\n",
    "    print(f\"The product of {a} and {b} is: {result}\")\n"
   ]
  },
  {
   "cell_type": "code",
   "execution_count": 6,
   "id": "cdf22599",
   "metadata": {},
   "outputs": [
    {
     "name": "stdout",
     "output_type": "stream",
     "text": [
      "The product of 100 and 50 is: 5000\n"
     ]
    }
   ],
   "source": [
    "# Call the function with arguments\n",
    "multiply(100, 50)"
   ]
  },
  {
   "cell_type": "code",
   "execution_count": 7,
   "id": "311e22ab",
   "metadata": {},
   "outputs": [],
   "source": [
    "def name_age_function(name, age):\n",
    "    string_print = str(\"My name is \" + name + \", age is \" + age)\n",
    "    print(string_print)"
   ]
  },
  {
   "cell_type": "code",
   "execution_count": 9,
   "id": "1a490736",
   "metadata": {},
   "outputs": [
    {
     "name": "stdout",
     "output_type": "stream",
     "text": [
      "My name is Ranjith Kumar, age is 30\n"
     ]
    }
   ],
   "source": [
    "name_age_function(\"Ranjith Kumar\", \"30\")"
   ]
  },
  {
   "cell_type": "markdown",
   "id": "9a03bd43",
   "metadata": {},
   "source": [
    "### 3. Custom Function with return operation"
   ]
  },
  {
   "cell_type": "code",
   "execution_count": 10,
   "id": "933f84f8",
   "metadata": {},
   "outputs": [],
   "source": [
    "def calculate_area(radius):\n",
    "    area = 3.14 * radius ** 2\n",
    "    return area\n"
   ]
  },
  {
   "cell_type": "code",
   "execution_count": 11,
   "id": "e968d6b3",
   "metadata": {},
   "outputs": [
    {
     "name": "stdout",
     "output_type": "stream",
     "text": [
      "The area of the circle is: 50.24\n"
     ]
    }
   ],
   "source": [
    "# Call the function and store the result in a variable\n",
    "circle_area = calculate_area(4)\n",
    "print(f\"The area of the circle is: {circle_area}\")\n"
   ]
  },
  {
   "cell_type": "code",
   "execution_count": 12,
   "id": "f380eba3",
   "metadata": {},
   "outputs": [],
   "source": [
    "def calculate_area(radius):\n",
    "    if radius:\n",
    "        area = 3.14 * radius ** 2\n",
    "        return area\n",
    "    else:\n",
    "        return \"Enter an integer instead of other data type\""
   ]
  },
  {
   "cell_type": "code",
   "execution_count": 13,
   "id": "015de3aa",
   "metadata": {},
   "outputs": [
    {
     "name": "stdout",
     "output_type": "stream",
     "text": [
      "50.24\n"
     ]
    }
   ],
   "source": [
    "circle_area = calculate_area(4)\n",
    "print(circle_area)"
   ]
  },
  {
   "cell_type": "code",
   "execution_count": 14,
   "id": "8d2b3123",
   "metadata": {},
   "outputs": [
    {
     "name": "stdout",
     "output_type": "stream",
     "text": [
      "Enter an integer instead of other data type\n"
     ]
    }
   ],
   "source": [
    "circle_area = calculate_area(\"\")\n",
    "print(circle_area)"
   ]
  },
  {
   "cell_type": "markdown",
   "id": "79e51ecb",
   "metadata": {},
   "source": [
    "### 4. Custom Function with loops and conditions"
   ]
  },
  {
   "cell_type": "code",
   "execution_count": 15,
   "id": "f48aa412",
   "metadata": {},
   "outputs": [
    {
     "name": "stdout",
     "output_type": "stream",
     "text": [
      "2\n",
      "4\n",
      "6\n",
      "8\n",
      "10\n"
     ]
    }
   ],
   "source": [
    "def print_even_numbers(start, end):\n",
    "    for num in range(start, end + 1):\n",
    "        if num % 2 == 0:\n",
    "            print(num)\n",
    "\n",
    "# Call the function with arguments\n",
    "print_even_numbers(1, 10)\n"
   ]
  }
 ],
 "metadata": {
  "kernelspec": {
   "display_name": "Python 3 (ipykernel)",
   "language": "python",
   "name": "python3"
  },
  "language_info": {
   "codemirror_mode": {
    "name": "ipython",
    "version": 3
   },
   "file_extension": ".py",
   "mimetype": "text/x-python",
   "name": "python",
   "nbconvert_exporter": "python",
   "pygments_lexer": "ipython3",
   "version": "3.9.17"
  }
 },
 "nbformat": 4,
 "nbformat_minor": 5
}
