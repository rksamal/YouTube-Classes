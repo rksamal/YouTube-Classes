{
 "cells": [
  {
   "cell_type": "markdown",
   "id": "6e4d8917",
   "metadata": {},
   "source": [
    "<img src=https://lstms-brainybits.s3.ap-south-1.amazonaws.com/green+logo.png width=\"300\" height=\"200\" style=\"float: left; margin-right: 8px;\">"
   ]
  },
  {
   "cell_type": "markdown",
   "id": "4225a942",
   "metadata": {},
   "source": [
    "We believe in empowering individuals with the\n",
    "knowledge and skills they need to become lifelong\n",
    "learners. Our self-learning website offers a diverse\n",
    "range of high-quality, interactive courses.\n",
    "**All rights reserved to BrainyBits. Unauthorized reproduction or distribution of this content is prohibited.** "
   ]
  },
  {
   "cell_type": "markdown",
   "id": "4414d114",
   "metadata": {},
   "source": [
    "# Custom Functions"
   ]
  },
  {
   "cell_type": "markdown",
   "id": "5b569ebb",
   "metadata": {},
   "source": [
    "**1. Write a function that takes an integer as an argument and returns \"Even\" if the number is even and \"Odd\" if it's odd.**"
   ]
  },
  {
   "cell_type": "code",
   "execution_count": 1,
   "id": "a41aeb1b",
   "metadata": {},
   "outputs": [
    {
     "name": "stdout",
     "output_type": "stream",
     "text": [
      "Enter a number: 18\n"
     ]
    },
    {
     "data": {
      "text/plain": [
       "'Even'"
      ]
     },
     "execution_count": 1,
     "metadata": {},
     "output_type": "execute_result"
    }
   ],
   "source": [
    "## Write your code below ##\n",
    "def even_or_odd(number):\n",
    "    if number % 2 == 0:\n",
    "        return \"Even\"\n",
    "    else:\n",
    "        return \"Odd\"\n",
    "\n",
    "number = int(input(\"Enter a number: \"))\n",
    "even_or_odd(number)"
   ]
  },
  {
   "cell_type": "markdown",
   "id": "277a529e",
   "metadata": {},
   "source": [
    "**2. Create a function that converts Celsius to Fahrenheit. The formula is: F = (C * 9/5) + 32.**"
   ]
  },
  {
   "cell_type": "code",
   "execution_count": 2,
   "id": "2e37bddd",
   "metadata": {},
   "outputs": [
    {
     "name": "stdout",
     "output_type": "stream",
     "text": [
      "Enter celsius temperature: 32\n",
      "The converted temperature in fahrenheit is: 89.6\n"
     ]
    }
   ],
   "source": [
    "## Write your code below ##\n",
    "\n",
    "def celsius_to_fahrenheit(celsius):\n",
    "    result = (celsius * 9/5) + 32\n",
    "    return result\n",
    "\n",
    "celsius = float(input(\"Enter celsius temperature: \"))\n",
    "result = celsius_to_fahrenheit(celsius)\n",
    "print(\"The converted temperature in fahrenheit is:\", result)"
   ]
  },
  {
   "cell_type": "markdown",
   "id": "c8accf1d",
   "metadata": {},
   "source": [
    "**3. Write a function that takes a list of numbers as an argument and returns the sum of all the elements in the list.**"
   ]
  },
  {
   "cell_type": "code",
   "execution_count": 3,
   "id": "6d620564",
   "metadata": {},
   "outputs": [
    {
     "name": "stdout",
     "output_type": "stream",
     "text": [
      "The sum of list of numbers is: 21\n"
     ]
    }
   ],
   "source": [
    "## Write your code below ##\n",
    "\n",
    "def list_sum(numbers):\n",
    "    result = sum(numbers)\n",
    "    return result\n",
    "\n",
    "numbers = [1, 2, 3, 4, 5, 6]\n",
    "result = list_sum(numbers)\n",
    "print(\"The sum of list of numbers is:\", result)"
   ]
  },
  {
   "cell_type": "markdown",
   "id": "5f699989",
   "metadata": {},
   "source": [
    "**4. Implement a function to calculate the factorial of a given positive integer. The factorial of n is the product of all positive integers up to n.**"
   ]
  },
  {
   "cell_type": "code",
   "execution_count": 4,
   "id": "bfaa1a19",
   "metadata": {},
   "outputs": [
    {
     "name": "stdout",
     "output_type": "stream",
     "text": [
      "Enter a number: 5\n",
      "Factorial of number is: 120\n"
     ]
    }
   ],
   "source": [
    "## Write your code below ##\n",
    "def factorial(n):\n",
    "    if n == 0 or n == 1:\n",
    "        return 1\n",
    "    else:\n",
    "        return n * factorial(n - 1)\n",
    "    \n",
    "number = int(input(\"Enter a number: \"))\n",
    "result = factorial(number)\n",
    "print(\"Factorial of number is:\", result)"
   ]
  },
  {
   "cell_type": "markdown",
   "id": "078af0b7",
   "metadata": {},
   "source": [
    "**5. Create a function that checks if a given string is a palindrome (reads the same backward as forward).**"
   ]
  },
  {
   "cell_type": "code",
   "execution_count": 6,
   "id": "ae629787",
   "metadata": {},
   "outputs": [
    {
     "name": "stdout",
     "output_type": "stream",
     "text": [
      "Enter a word: cat\n"
     ]
    },
    {
     "data": {
      "text/plain": [
       "'Its not a Palidrome'"
      ]
     },
     "execution_count": 6,
     "metadata": {},
     "output_type": "execute_result"
    }
   ],
   "source": [
    "## Write your code below ##\n",
    "\n",
    "def is_palindrome(word):\n",
    "    word_rev = word[::-1]\n",
    "    if word_rev == word:\n",
    "        return \"Its a Palidrome\" \n",
    "    else:\n",
    "        return \"Its not a Palidrome\" \n",
    "\n",
    "word = input(\"Enter a word: \")\n",
    "is_palindrome(word)"
   ]
  },
  {
   "cell_type": "markdown",
   "id": "cf245588",
   "metadata": {},
   "source": [
    "**6. Write a function that takes an integer n as input and returns the sum of the squares of all integers from 1 to n.**"
   ]
  },
  {
   "cell_type": "code",
   "execution_count": 7,
   "id": "16f72928",
   "metadata": {},
   "outputs": [
    {
     "name": "stdout",
     "output_type": "stream",
     "text": [
      "Enter a number: 10\n",
      "Sum of squares is: 385\n"
     ]
    }
   ],
   "source": [
    "## Write your code below ##\n",
    "\n",
    "def sum_of_squares(n):\n",
    "    result = 0\n",
    "    for i in range(1, n + 1):\n",
    "        result += i ** 2\n",
    "    return result\n",
    "\n",
    "number = int(input(\"Enter a number: \"))\n",
    "result = sum_of_squares(number)\n",
    "print(\"Sum of squares is:\", result)"
   ]
  },
  {
   "cell_type": "markdown",
   "id": "f2bb1d74",
   "metadata": {},
   "source": [
    "**7. Create a function that takes an integer n as input and prints the multiplication table for that number from 1 to 10.**"
   ]
  },
  {
   "cell_type": "code",
   "execution_count": 8,
   "id": "84b886c2",
   "metadata": {},
   "outputs": [
    {
     "name": "stdout",
     "output_type": "stream",
     "text": [
      "Enter a number: 13\n",
      "13 x 1 = 13\n",
      "13 x 2 = 26\n",
      "13 x 3 = 39\n",
      "13 x 4 = 52\n",
      "13 x 5 = 65\n",
      "13 x 6 = 78\n",
      "13 x 7 = 91\n",
      "13 x 8 = 104\n",
      "13 x 9 = 117\n",
      "13 x 10 = 130\n"
     ]
    }
   ],
   "source": [
    "## Write your code below ##\n",
    "\n",
    "def multiplication_table(n):\n",
    "    for i in range(1, 11):\n",
    "        print(f\"{n} x {i} = {n * i}\")\n",
    "\n",
    "number = int(input(\"Enter a number: \"))\n",
    "multiplication_table(number)"
   ]
  },
  {
   "cell_type": "markdown",
   "id": "9985cff1",
   "metadata": {},
   "source": [
    "**8. Write a function that takes an integer n as input and prints \"Fizz\" for multiples of 3, \"Buzz\" for multiples of 5, and \"FizzBuzz\" for multiples of both 3 and 5. For other numbers, print the number itself.**"
   ]
  },
  {
   "cell_type": "code",
   "execution_count": 9,
   "id": "29129a50",
   "metadata": {},
   "outputs": [
    {
     "name": "stdout",
     "output_type": "stream",
     "text": [
      "Enter a number: 15\n",
      "1\n",
      "2\n",
      "Fizz\n",
      "4\n",
      "Buzz\n",
      "Fizz\n",
      "7\n",
      "8\n",
      "Fizz\n",
      "Buzz\n",
      "11\n",
      "Fizz\n",
      "13\n",
      "14\n",
      "FizzBuzz\n"
     ]
    }
   ],
   "source": [
    "## Write your code below ##\n",
    "\n",
    "def fizzbuzz(n):\n",
    "    for i in range(1, n + 1):\n",
    "        if i % 3 == 0 and i % 5 == 0:\n",
    "            print(\"FizzBuzz\")\n",
    "        elif i % 3 == 0:\n",
    "            print(\"Fizz\")\n",
    "        elif i % 5 == 0:\n",
    "            print(\"Buzz\")\n",
    "        else:\n",
    "            print(i)\n",
    "\n",
    "number = int(input(\"Enter a number: \"))\n",
    "fizzbuzz(number)"
   ]
  },
  {
   "cell_type": "markdown",
   "id": "7273531d",
   "metadata": {},
   "source": [
    "**9. Write a function that checks if a given year is a leap year. Leap years are divisible by 4, but if they are divisible by 100, they must also be divisible by 400.**"
   ]
  },
  {
   "cell_type": "code",
   "execution_count": 10,
   "id": "f5921833",
   "metadata": {
    "scrolled": true
   },
   "outputs": [
    {
     "name": "stdout",
     "output_type": "stream",
     "text": [
      "Enter a year: 2024\n"
     ]
    },
    {
     "data": {
      "text/plain": [
       "True"
      ]
     },
     "execution_count": 10,
     "metadata": {},
     "output_type": "execute_result"
    }
   ],
   "source": [
    "## Write your code below ##\n",
    "\n",
    "def is_leap_year(year):\n",
    "    if (year % 4 == 0 and year % 100 != 0) or (year % 400 == 0):\n",
    "        return True\n",
    "    else:\n",
    "        return False\n",
    "    \n",
    "    \n",
    "year = int(input(\"Enter a year: \"))\n",
    "is_leap_year(year)"
   ]
  },
  {
   "cell_type": "markdown",
   "id": "673f69aa",
   "metadata": {},
   "source": [
    "**10. Develop a function that takes an integer n as input and returns True if it's a prime number, and False otherwise.**"
   ]
  },
  {
   "cell_type": "code",
   "execution_count": 13,
   "id": "1a7cd71f",
   "metadata": {},
   "outputs": [
    {
     "name": "stdout",
     "output_type": "stream",
     "text": [
      "Enter a number: 17\n"
     ]
    },
    {
     "data": {
      "text/plain": [
       "True"
      ]
     },
     "execution_count": 13,
     "metadata": {},
     "output_type": "execute_result"
    }
   ],
   "source": [
    "## Write your code below ##\n",
    "\n",
    "def is_prime(n):\n",
    "    if n < 2:\n",
    "        return False\n",
    "    for i in range(2, int(n**0.5) + 1):\n",
    "        if n % i == 0:\n",
    "            return False\n",
    "    return True\n",
    "\n",
    "number = int(input(\"Enter a number: \"))\n",
    "is_prime(number)"
   ]
  }
 ],
 "metadata": {
  "kernelspec": {
   "display_name": "Python 3 (ipykernel)",
   "language": "python",
   "name": "python3"
  },
  "language_info": {
   "codemirror_mode": {
    "name": "ipython",
    "version": 3
   },
   "file_extension": ".py",
   "mimetype": "text/x-python",
   "name": "python",
   "nbconvert_exporter": "python",
   "pygments_lexer": "ipython3",
   "version": "3.9.17"
  }
 },
 "nbformat": 4,
 "nbformat_minor": 5
}
