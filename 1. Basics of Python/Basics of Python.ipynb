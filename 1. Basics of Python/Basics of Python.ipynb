{
 "cells": [
  {
   "cell_type": "markdown",
   "id": "d6f6c472",
   "metadata": {},
   "source": [
    "<img src=https://lstms-brainybits.s3.ap-south-1.amazonaws.com/green+logo.png width=\"300\" height=\"200\" style=\"float: left; margin-right: 8px;\">"
   ]
  },
  {
   "cell_type": "markdown",
   "id": "9b00b280",
   "metadata": {},
   "source": [
    "We believe in empowering individuals with the\n",
    "knowledge and skills they need to become lifelong\n",
    "learners. Our self-learning website offers a diverse\n",
    "range of high-quality, interactive courses.\n",
    "**All rights reserved to BrainyBits. Unauthorized reproduction or distribution of this content is prohibited.** "
   ]
  },
  {
   "cell_type": "markdown",
   "id": "4eb32d95",
   "metadata": {},
   "source": [
    "# Variables"
   ]
  },
  {
   "cell_type": "code",
   "execution_count": 1,
   "id": "00816cfb",
   "metadata": {},
   "outputs": [],
   "source": [
    "new_variable = \"BrainyBits Institute\"    "
   ]
  },
  {
   "cell_type": "code",
   "execution_count": 2,
   "id": "1ebc3eb4",
   "metadata": {},
   "outputs": [
    {
     "name": "stdout",
     "output_type": "stream",
     "text": [
      "BrainyBits Institute\n"
     ]
    }
   ],
   "source": [
    "print(new_variable)"
   ]
  },
  {
   "cell_type": "code",
   "execution_count": 3,
   "id": "f1b20b07",
   "metadata": {},
   "outputs": [],
   "source": [
    "my_data = 123456"
   ]
  },
  {
   "cell_type": "code",
   "execution_count": 4,
   "id": "d1fa4fba",
   "metadata": {},
   "outputs": [
    {
     "name": "stdout",
     "output_type": "stream",
     "text": [
      "123456\n"
     ]
    }
   ],
   "source": [
    "print(my_data)"
   ]
  },
  {
   "cell_type": "code",
   "execution_count": 5,
   "id": "76c0b3ed",
   "metadata": {},
   "outputs": [],
   "source": [
    "my_other_number = 11.75"
   ]
  },
  {
   "cell_type": "code",
   "execution_count": 6,
   "id": "3b6422a5",
   "metadata": {},
   "outputs": [
    {
     "name": "stdout",
     "output_type": "stream",
     "text": [
      "11.75\n"
     ]
    }
   ],
   "source": [
    "print(my_other_number)"
   ]
  },
  {
   "cell_type": "code",
   "execution_count": 7,
   "id": "26b0a4d7",
   "metadata": {},
   "outputs": [
    {
     "name": "stdout",
     "output_type": "stream",
     "text": [
      "123467.75\n"
     ]
    }
   ],
   "source": [
    "print(my_data + my_other_number)"
   ]
  },
  {
   "cell_type": "code",
   "execution_count": null,
   "id": "26f47cca",
   "metadata": {},
   "outputs": [],
   "source": []
  },
  {
   "cell_type": "markdown",
   "id": "77fa25b1",
   "metadata": {},
   "source": [
    "# Basic syntax\n",
    "* Print statements\n",
    "* Input function\n",
    "* Type command\n",
    "* len command for string\n",
    "* Data type conversion"
   ]
  },
  {
   "cell_type": "code",
   "execution_count": 8,
   "id": "380f5284",
   "metadata": {},
   "outputs": [],
   "source": [
    "fruits = \"Apples\"\n",
    "number = 3"
   ]
  },
  {
   "cell_type": "code",
   "execution_count": 9,
   "id": "4366ae50",
   "metadata": {},
   "outputs": [
    {
     "name": "stdout",
     "output_type": "stream",
     "text": [
      "I have  3 Apples\n"
     ]
    }
   ],
   "source": [
    "print(\"I have \", number, fruits)"
   ]
  },
  {
   "cell_type": "code",
   "execution_count": 10,
   "id": "c563991f",
   "metadata": {},
   "outputs": [
    {
     "name": "stdout",
     "output_type": "stream",
     "text": [
      "I have 3 Apples\n"
     ]
    }
   ],
   "source": [
    "print(f\"I have {number} {fruits}\")"
   ]
  },
  {
   "cell_type": "code",
   "execution_count": 11,
   "id": "e6856746",
   "metadata": {},
   "outputs": [
    {
     "name": "stdout",
     "output_type": "stream",
     "text": [
      "Enter a new text: This is BrainyBits institute\n"
     ]
    }
   ],
   "source": [
    "new_value = input(\"Enter a new text: \")"
   ]
  },
  {
   "cell_type": "code",
   "execution_count": 12,
   "id": "b4d578db",
   "metadata": {},
   "outputs": [
    {
     "name": "stdout",
     "output_type": "stream",
     "text": [
      "This is BrainyBits institute\n"
     ]
    }
   ],
   "source": [
    "print(new_value)"
   ]
  },
  {
   "cell_type": "code",
   "execution_count": 16,
   "id": "71758f04",
   "metadata": {},
   "outputs": [
    {
     "name": "stdout",
     "output_type": "stream",
     "text": [
      "Enter a number: 1000\n"
     ]
    }
   ],
   "source": [
    "new_number = int(input(\"Enter a number: \"))"
   ]
  },
  {
   "cell_type": "code",
   "execution_count": 17,
   "id": "305a8d6e",
   "metadata": {},
   "outputs": [
    {
     "data": {
      "text/plain": [
       "1000"
      ]
     },
     "execution_count": 17,
     "metadata": {},
     "output_type": "execute_result"
    }
   ],
   "source": [
    "new_number"
   ]
  },
  {
   "cell_type": "code",
   "execution_count": 24,
   "id": "dca667f8",
   "metadata": {},
   "outputs": [
    {
     "data": {
      "text/plain": [
       "bool"
      ]
     },
     "execution_count": 24,
     "metadata": {},
     "output_type": "execute_result"
    }
   ],
   "source": [
    "type(False)"
   ]
  },
  {
   "cell_type": "code",
   "execution_count": 25,
   "id": "5da24445",
   "metadata": {},
   "outputs": [
    {
     "data": {
      "text/plain": [
       "6"
      ]
     },
     "execution_count": 25,
     "metadata": {},
     "output_type": "execute_result"
    }
   ],
   "source": [
    "len(fruits)"
   ]
  },
  {
   "cell_type": "code",
   "execution_count": 31,
   "id": "b79258c1",
   "metadata": {},
   "outputs": [],
   "source": [
    "number = 123"
   ]
  },
  {
   "cell_type": "code",
   "execution_count": 27,
   "id": "ac145b6d",
   "metadata": {},
   "outputs": [
    {
     "data": {
      "text/plain": [
       "str"
      ]
     },
     "execution_count": 27,
     "metadata": {},
     "output_type": "execute_result"
    }
   ],
   "source": [
    "type(number)"
   ]
  },
  {
   "cell_type": "code",
   "execution_count": 28,
   "id": "cda824b6",
   "metadata": {},
   "outputs": [],
   "source": [
    "number_new = int(number)"
   ]
  },
  {
   "cell_type": "code",
   "execution_count": 29,
   "id": "8c0daf10",
   "metadata": {},
   "outputs": [
    {
     "data": {
      "text/plain": [
       "int"
      ]
     },
     "execution_count": 29,
     "metadata": {},
     "output_type": "execute_result"
    }
   ],
   "source": [
    "type(number_new)"
   ]
  },
  {
   "cell_type": "code",
   "execution_count": 30,
   "id": "b0891fd8",
   "metadata": {},
   "outputs": [
    {
     "data": {
      "text/plain": [
       "123"
      ]
     },
     "execution_count": 30,
     "metadata": {},
     "output_type": "execute_result"
    }
   ],
   "source": [
    "number_new"
   ]
  },
  {
   "cell_type": "code",
   "execution_count": null,
   "id": "1cf14094",
   "metadata": {},
   "outputs": [],
   "source": []
  },
  {
   "cell_type": "code",
   "execution_count": null,
   "id": "07cd6203",
   "metadata": {},
   "outputs": [],
   "source": []
  },
  {
   "cell_type": "markdown",
   "id": "52b6a1eb",
   "metadata": {},
   "source": [
    "# Arithmatic Operators\n",
    "* (+) addition\n",
    "* (-) substraction\n",
    "* (*) Multiplication\n",
    "* (/) division for quotient with decimal point\n",
    "* (%) division for reminder\n",
    " "
   ]
  },
  {
   "cell_type": "code",
   "execution_count": 32,
   "id": "6c1b0d70",
   "metadata": {},
   "outputs": [],
   "source": [
    "number_total = number + number_new"
   ]
  },
  {
   "cell_type": "code",
   "execution_count": 33,
   "id": "a7be8e43",
   "metadata": {},
   "outputs": [
    {
     "name": "stdout",
     "output_type": "stream",
     "text": [
      "246\n"
     ]
    }
   ],
   "source": [
    "print(number_total)"
   ]
  },
  {
   "cell_type": "code",
   "execution_count": 34,
   "id": "931ad9e1",
   "metadata": {},
   "outputs": [
    {
     "name": "stdout",
     "output_type": "stream",
     "text": [
      "123\n"
     ]
    }
   ],
   "source": [
    "print(number_total - number_new)"
   ]
  },
  {
   "cell_type": "code",
   "execution_count": 35,
   "id": "93e8684b",
   "metadata": {},
   "outputs": [
    {
     "name": "stdout",
     "output_type": "stream",
     "text": [
      "15129\n"
     ]
    }
   ],
   "source": [
    "print(number_new * number_new)"
   ]
  },
  {
   "cell_type": "code",
   "execution_count": 37,
   "id": "4eeae090",
   "metadata": {},
   "outputs": [
    {
     "data": {
      "text/plain": [
       "26"
      ]
     },
     "execution_count": 37,
     "metadata": {},
     "output_type": "execute_result"
    }
   ],
   "source": [
    "100 % 37"
   ]
  },
  {
   "cell_type": "code",
   "execution_count": null,
   "id": "e7bbc255",
   "metadata": {},
   "outputs": [],
   "source": []
  },
  {
   "cell_type": "code",
   "execution_count": null,
   "id": "9776b995",
   "metadata": {},
   "outputs": [],
   "source": []
  },
  {
   "cell_type": "code",
   "execution_count": null,
   "id": "ebd7d41c",
   "metadata": {},
   "outputs": [],
   "source": []
  },
  {
   "cell_type": "markdown",
   "id": "429d2aeb",
   "metadata": {},
   "source": [
    "# Comparison Operators\n",
    "* (==) equal \n",
    "* (!=) Not equal\n",
    "* (<) less than\n",
    "* (>) more than"
   ]
  },
  {
   "cell_type": "code",
   "execution_count": 45,
   "id": "88f93534",
   "metadata": {},
   "outputs": [
    {
     "data": {
      "text/plain": [
       "True"
      ]
     },
     "execution_count": 45,
     "metadata": {},
     "output_type": "execute_result"
    }
   ],
   "source": [
    "number_total  > number_new"
   ]
  },
  {
   "cell_type": "code",
   "execution_count": 44,
   "id": "92265527",
   "metadata": {},
   "outputs": [
    {
     "data": {
      "text/plain": [
       "123"
      ]
     },
     "execution_count": 44,
     "metadata": {},
     "output_type": "execute_result"
    }
   ],
   "source": [
    "number_new"
   ]
  },
  {
   "cell_type": "code",
   "execution_count": 46,
   "id": "d1aa89d5",
   "metadata": {},
   "outputs": [
    {
     "data": {
      "text/plain": [
       "246"
      ]
     },
     "execution_count": 46,
     "metadata": {},
     "output_type": "execute_result"
    }
   ],
   "source": [
    "number_total"
   ]
  },
  {
   "cell_type": "code",
   "execution_count": null,
   "id": "f19e9ce8",
   "metadata": {},
   "outputs": [],
   "source": []
  },
  {
   "cell_type": "code",
   "execution_count": null,
   "id": "72a26530",
   "metadata": {},
   "outputs": [],
   "source": []
  },
  {
   "cell_type": "code",
   "execution_count": null,
   "id": "1c3ea1f1",
   "metadata": {},
   "outputs": [],
   "source": []
  }
 ],
 "metadata": {
  "kernelspec": {
   "display_name": "Python 3 (ipykernel)",
   "language": "python",
   "name": "python3"
  },
  "language_info": {
   "codemirror_mode": {
    "name": "ipython",
    "version": 3
   },
   "file_extension": ".py",
   "mimetype": "text/x-python",
   "name": "python",
   "nbconvert_exporter": "python",
   "pygments_lexer": "ipython3",
   "version": "3.9.17"
  }
 },
 "nbformat": 4,
 "nbformat_minor": 5
}
