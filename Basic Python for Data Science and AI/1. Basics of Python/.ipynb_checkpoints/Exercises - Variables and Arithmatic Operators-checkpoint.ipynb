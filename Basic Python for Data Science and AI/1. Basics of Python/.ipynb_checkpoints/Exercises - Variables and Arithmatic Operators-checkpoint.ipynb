{
 "cells": [
  {
   "cell_type": "markdown",
   "id": "d6f6c472",
   "metadata": {},
   "source": [
    "<img src=https://lstms-brainybits.s3.ap-south-1.amazonaws.com/green+logo.png width=\"300\" height=\"200\" style=\"float: left; margin-right: 8px;\">"
   ]
  },
  {
   "cell_type": "markdown",
   "id": "9b00b280",
   "metadata": {},
   "source": [
    "We believe in empowering individuals with the\n",
    "knowledge and skills they need to become lifelong\n",
    "learners. Our self-learning website offers a diverse\n",
    "range of high-quality, interactive courses.\n",
    "**All rights reserved to BrainyBits. Unauthorized reproduction or distribution of this content is prohibited.** "
   ]
  },
  {
   "cell_type": "markdown",
   "id": "4eb32d95",
   "metadata": {},
   "source": [
    "# Variables"
   ]
  },
  {
   "cell_type": "markdown",
   "id": "97be22d4",
   "metadata": {},
   "source": [
    "**1. Create three variables representing the following information and print them:**\n",
    "\n",
    "* Your name\n",
    "* Your age\n",
    "* Your favorite programming language"
   ]
  },
  {
   "cell_type": "code",
   "execution_count": null,
   "id": "f1b20b07",
   "metadata": {},
   "outputs": [],
   "source": [
    "## Write your code below ##\n",
    "\n",
    "\n",
    "\n",
    "\n",
    "\n",
    "\n",
    "\n"
   ]
  },
  {
   "cell_type": "markdown",
   "id": "d32d89bd",
   "metadata": {},
   "source": [
    "**2. Write a program that takes user input for their name and age, and then prints a message using variables to display the information.**"
   ]
  },
  {
   "cell_type": "code",
   "execution_count": null,
   "id": "a750efc2",
   "metadata": {},
   "outputs": [],
   "source": [
    "## Write your code below ##\n",
    "\n",
    "\n",
    "\n",
    "\n",
    "\n",
    "\n",
    "\n"
   ]
  },
  {
   "cell_type": "markdown",
   "id": "769ed2a1",
   "metadata": {},
   "source": [
    "# Basic syntax using Arithmatic Operators"
   ]
  },
  {
   "cell_type": "markdown",
   "id": "82aa6e67",
   "metadata": {},
   "source": [
    "**3. Perform arithmetic operations using variables:**\n",
    "\n",
    "* Create two variables representing any numeric values.\n",
    "* Add, subtract, multiply, and divide these variables.\n",
    "* Print the results."
   ]
  },
  {
   "cell_type": "code",
   "execution_count": null,
   "id": "76c0b3ed",
   "metadata": {},
   "outputs": [],
   "source": [
    "## Write your code below ##\n",
    "\n",
    "\n",
    "\n",
    "\n",
    "\n",
    "\n",
    "\n"
   ]
  },
  {
   "cell_type": "markdown",
   "id": "f7025ed7",
   "metadata": {},
   "source": [
    "**4. Write a Python program that takes two numbers as input from the user and performs the following operations:**\n",
    "\n",
    "* Addition\n",
    "* Subtraction\n",
    "* Multiplication\n",
    "* Division"
   ]
  },
  {
   "cell_type": "code",
   "execution_count": null,
   "id": "5da24445",
   "metadata": {},
   "outputs": [],
   "source": [
    "## Write your code below ##\n",
    "\n",
    "\n",
    "\n",
    "\n",
    "\n",
    "\n",
    "\n"
   ]
  },
  {
   "cell_type": "markdown",
   "id": "e1b67606",
   "metadata": {},
   "source": [
    "**5. Given the following variables: a = 7, b = 3, c = 5. Write Python expressions to calculate and print the results of the following operations:**\n",
    "\n",
    "* The sum of a and b squared.\n",
    "* The remainder when a is divided by b.\n",
    "* The result of c raised to the power of a."
   ]
  },
  {
   "cell_type": "code",
   "execution_count": null,
   "id": "ac145b6d",
   "metadata": {},
   "outputs": [],
   "source": [
    "## Write your code below ##\n",
    "\n",
    "\n",
    "\n",
    "\n",
    "\n",
    "\n",
    "\n"
   ]
  },
  {
   "cell_type": "code",
   "execution_count": null,
   "id": "07cd6203",
   "metadata": {},
   "outputs": [],
   "source": []
  }
 ],
 "metadata": {
  "kernelspec": {
   "display_name": "Python 3 (ipykernel)",
   "language": "python",
   "name": "python3"
  },
  "language_info": {
   "codemirror_mode": {
    "name": "ipython",
    "version": 3
   },
   "file_extension": ".py",
   "mimetype": "text/x-python",
   "name": "python",
   "nbconvert_exporter": "python",
   "pygments_lexer": "ipython3",
   "version": "3.9.17"
  }
 },
 "nbformat": 4,
 "nbformat_minor": 5
}
