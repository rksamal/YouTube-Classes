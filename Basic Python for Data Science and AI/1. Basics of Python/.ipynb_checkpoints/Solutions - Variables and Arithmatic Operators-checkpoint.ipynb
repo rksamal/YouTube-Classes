{
 "cells": [
  {
   "cell_type": "markdown",
   "id": "d6f6c472",
   "metadata": {},
   "source": [
    "<img src=https://lstms-brainybits.s3.ap-south-1.amazonaws.com/green+logo.png width=\"300\" height=\"200\" style=\"float: left; margin-right: 8px;\">"
   ]
  },
  {
   "cell_type": "markdown",
   "id": "9b00b280",
   "metadata": {},
   "source": [
    "We believe in empowering individuals with the\n",
    "knowledge and skills they need to become lifelong\n",
    "learners. Our self-learning website offers a diverse\n",
    "range of high-quality, interactive courses.\n",
    "**All rights reserved to BrainyBits. Unauthorized reproduction or distribution of this content is prohibited.** "
   ]
  },
  {
   "cell_type": "markdown",
   "id": "4eb32d95",
   "metadata": {},
   "source": [
    "# Variables"
   ]
  },
  {
   "cell_type": "markdown",
   "id": "97be22d4",
   "metadata": {},
   "source": [
    "**1. Create three variables representing the following information and print them:**\n",
    "\n",
    "* Your name\n",
    "* Your age\n",
    "* Your favorite programming language"
   ]
  },
  {
   "cell_type": "code",
   "execution_count": 1,
   "id": "f1b20b07",
   "metadata": {},
   "outputs": [
    {
     "name": "stdout",
     "output_type": "stream",
     "text": [
      "Name: John Doe\n",
      "Age: 25\n",
      "Favorite Programming Language: Python\n"
     ]
    }
   ],
   "source": [
    "## Write your code below ##\n",
    "name = \"John Doe\"\n",
    "age = 25\n",
    "favorite_language = \"Python\"\n",
    "\n",
    "print(\"Name:\", name)\n",
    "print(\"Age:\", age)\n",
    "print(\"Favorite Programming Language:\", favorite_language)"
   ]
  },
  {
   "cell_type": "markdown",
   "id": "d32d89bd",
   "metadata": {},
   "source": [
    "**2. Write a program that takes user input for their name and age, and then prints a message using variables to display the information.**"
   ]
  },
  {
   "cell_type": "code",
   "execution_count": 2,
   "id": "a750efc2",
   "metadata": {},
   "outputs": [
    {
     "name": "stdout",
     "output_type": "stream",
     "text": [
      "Enter your name: Sachin\n",
      "Enter your age: 25\n",
      "Hello, Sachin! You are 25 years old.\n"
     ]
    }
   ],
   "source": [
    "## Write your code below ##\n",
    "name = input(\"Enter your name: \")\n",
    "age = input(\"Enter your age: \")\n",
    "\n",
    "print(\"Hello, \" + name + \"! You are \" + age + \" years old.\")"
   ]
  },
  {
   "cell_type": "markdown",
   "id": "769ed2a1",
   "metadata": {},
   "source": [
    "# Basic syntax using Arithmatic Operators"
   ]
  },
  {
   "cell_type": "markdown",
   "id": "82aa6e67",
   "metadata": {},
   "source": [
    "**3. Perform arithmetic operations using variables:**\n",
    "\n",
    "* Create two variables representing any numeric values.\n",
    "* Add, subtract, multiply, and divide these variables.\n",
    "* Print the results."
   ]
  },
  {
   "cell_type": "code",
   "execution_count": 3,
   "id": "76c0b3ed",
   "metadata": {},
   "outputs": [
    {
     "name": "stdout",
     "output_type": "stream",
     "text": [
      "Addition: 15\n",
      "Subtraction: 5\n",
      "Multiplication: 50\n",
      "Division: 2.0\n"
     ]
    }
   ],
   "source": [
    "## Write your code below ##\n",
    "variable1 = 10\n",
    "variable2 = 5\n",
    "\n",
    "addition_result = variable1 + variable2\n",
    "subtraction_result = variable1 - variable2\n",
    "multiplication_result = variable1 * variable2\n",
    "division_result = variable1 / variable2\n",
    "\n",
    "print(\"Addition:\", addition_result)\n",
    "print(\"Subtraction:\", subtraction_result)\n",
    "print(\"Multiplication:\", multiplication_result)\n",
    "print(\"Division:\", division_result)"
   ]
  },
  {
   "cell_type": "markdown",
   "id": "f7025ed7",
   "metadata": {},
   "source": [
    "**4. Write a Python program that takes two numbers as input from the user and performs the following operations:**\n",
    "\n",
    "* Addition\n",
    "* Subtraction\n",
    "* Multiplication\n",
    "* Division"
   ]
  },
  {
   "cell_type": "code",
   "execution_count": 4,
   "id": "5da24445",
   "metadata": {},
   "outputs": [
    {
     "name": "stdout",
     "output_type": "stream",
     "text": [
      "Enter the first number: 10\n",
      "Enter the second number: 5\n",
      "Addition: 15.0\n",
      "Subtraction: 5.0\n",
      "Multiplication: 50.0\n"
     ]
    }
   ],
   "source": [
    "## Write your code below ##\n",
    "num1 = float(input(\"Enter the first number: \"))\n",
    "num2 = float(input(\"Enter the second number: \"))\n",
    "\n",
    "# Perform arithmetic operations\n",
    "addition_result = num1 + num2\n",
    "subtraction_result = num1 - num2\n",
    "multiplication_result = num1 * num2\n",
    "\n",
    "# Print the results of addition, subtraction, and multiplication\n",
    "print(\"Addition:\", addition_result)\n",
    "print(\"Subtraction:\", subtraction_result)\n",
    "print(\"Multiplication:\", multiplication_result)"
   ]
  },
  {
   "cell_type": "markdown",
   "id": "e1b67606",
   "metadata": {},
   "source": [
    "**5. Given the following variables: a = 7, b = 3, c = 5. Write Python expressions to calculate and print the results of the following operations:**\n",
    "\n",
    "* The sum of a and b squared.\n",
    "* The remainder when a is divided by b.\n",
    "* The result of c raised to the power of a."
   ]
  },
  {
   "cell_type": "code",
   "execution_count": 5,
   "id": "ac145b6d",
   "metadata": {},
   "outputs": [
    {
     "name": "stdout",
     "output_type": "stream",
     "text": [
      "The sum of a and b squared: 100\n",
      "The remainder when a is divided by b: 1\n",
      "The result of c raised to the power of a: 78125\n"
     ]
    }
   ],
   "source": [
    "## Write your code below ##\n",
    "a = 7\n",
    "b = 3\n",
    "c = 5\n",
    "\n",
    "sum_squared = (a + b) ** 2\n",
    "remainder = a % b\n",
    "c_raised_to_a = c ** a\n",
    "\n",
    "print(\"The sum of a and b squared:\", sum_squared)\n",
    "print(\"The remainder when a is divided by b:\", remainder)\n",
    "print(\"The result of c raised to the power of a:\", c_raised_to_a)"
   ]
  },
  {
   "cell_type": "code",
   "execution_count": null,
   "id": "07cd6203",
   "metadata": {},
   "outputs": [],
   "source": []
  }
 ],
 "metadata": {
  "kernelspec": {
   "display_name": "Python 3 (ipykernel)",
   "language": "python",
   "name": "python3"
  },
  "language_info": {
   "codemirror_mode": {
    "name": "ipython",
    "version": 3
   },
   "file_extension": ".py",
   "mimetype": "text/x-python",
   "name": "python",
   "nbconvert_exporter": "python",
   "pygments_lexer": "ipython3",
   "version": "3.9.17"
  }
 },
 "nbformat": 4,
 "nbformat_minor": 5
}
