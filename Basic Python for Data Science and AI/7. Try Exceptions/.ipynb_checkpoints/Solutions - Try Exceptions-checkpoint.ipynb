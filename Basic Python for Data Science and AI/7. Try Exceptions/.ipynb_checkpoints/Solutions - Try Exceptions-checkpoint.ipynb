{
 "cells": [
  {
   "cell_type": "markdown",
   "id": "6e4d8917",
   "metadata": {},
   "source": [
    "<img src=https://lstms-brainybits.s3.ap-south-1.amazonaws.com/green+logo.png width=\"300\" height=\"200\" style=\"float: left; margin-right: 8px;\">"
   ]
  },
  {
   "cell_type": "markdown",
   "id": "4225a942",
   "metadata": {},
   "source": [
    "We believe in empowering individuals with the\n",
    "knowledge and skills they need to become lifelong\n",
    "learners. Our self-learning website offers a diverse\n",
    "range of high-quality, interactive courses.\n",
    "**All rights reserved to BrainyBits. Unauthorized reproduction or distribution of this content is prohibited.** "
   ]
  },
  {
   "cell_type": "markdown",
   "id": "4414d114",
   "metadata": {},
   "source": [
    "# Try & Exceptions"
   ]
  },
  {
   "cell_type": "markdown",
   "id": "5b569ebb",
   "metadata": {},
   "source": [
    "**1. Write a program that takes a list of integers as input from the user. Handle the following exceptions:**\n",
    "\n",
    "* ValueError: Display an error message if the input is not a valid integer.\n",
    "* IndexError: Display an error message if the user attempts to access an index that is out of range."
   ]
  },
  {
   "cell_type": "code",
   "execution_count": 2,
   "id": "a41aeb1b",
   "metadata": {},
   "outputs": [
    {
     "name": "stdout",
     "output_type": "stream",
     "text": [
      "Enter a list of integers separated by space: 1 2 3 characte 4 5\n",
      "Error: Please enter valid integers.\n"
     ]
    }
   ],
   "source": [
    "## Write your code below ##\n",
    "\n",
    "try:\n",
    "    # Take a list of integers as input\n",
    "    input_list = [int(x) for x in input(\"Enter a list of integers separated by space: \").split()]\n",
    "\n",
    "    # Add 5 to each element in the list\n",
    "    modified_list = [num + 5 for num in input_list]\n",
    "\n",
    "    print(\"Original List:\", input_list)\n",
    "    print(\"Modified List:\", modified_list)\n",
    "    \n",
    "     # Trying to access an index that doesn't exist in modified_list\n",
    "    print(\"Modified List (attempting to access index 10):\", modified_list[10])\n",
    "\n",
    "except ValueError:\n",
    "    print(\"Error: Please enter valid integers.\")\n",
    "\n",
    "except IndexError:\n",
    "    print(\"Error: Index out of range.\")\n"
   ]
  },
  {
   "cell_type": "markdown",
   "id": "277a529e",
   "metadata": {},
   "source": [
    "**2. Create a program that defines a dictionary with student names as keys and their corresponding scores as values. Prompt the user to enter a student name to retrieve their score. Handle the following exceptions:**\n",
    "\n",
    "* KeyError: Display an error message if the entered name is not in the dictionary.\n",
    "* ValueError: Display an error message if the user enters a non-string input.\n",
    "\n",
    "\n",
    "After handling exceptions, increment the score of the selected student by 10 and print the updated dictionary."
   ]
  },
  {
   "cell_type": "code",
   "execution_count": 4,
   "id": "2e37bddd",
   "metadata": {},
   "outputs": [
    {
     "name": "stdout",
     "output_type": "stream",
     "text": [
      "Enter a student name: Ranjith\n",
      "'Error: Student not found.'\n"
     ]
    }
   ],
   "source": [
    "## Write your code below ##\n",
    "\n",
    "try:\n",
    "    # Define a dictionary of student scores\n",
    "    student_scores = {\"Alice\": 90, \"Bob\": 85, \"Charlie\": 95}\n",
    "\n",
    "    # Prompt user for a student name\n",
    "    student_name = input(\"Enter a student name: \")\n",
    "\n",
    "    # Check if the entered name is in the dictionary\n",
    "    if student_name not in student_scores:\n",
    "        raise KeyError(\"Error: Student not found.\")\n",
    "\n",
    "    # Increment the score of the selected student by 10\n",
    "    student_scores[student_name] += 10\n",
    "\n",
    "    print(\"Updated Scores:\", student_scores)\n",
    "\n",
    "except KeyError as e:\n",
    "    print(e)\n",
    "\n",
    "except ValueError:\n",
    "    print(\"Error: Please enter a valid student name.\")\n"
   ]
  },
  {
   "cell_type": "markdown",
   "id": "c8accf1d",
   "metadata": {},
   "source": [
    "**3. Write a program that takes a set of strings as input from the user. Handle the following exceptions:**\n",
    "\n",
    "* TypeError: Display an error message if the entered value is not a string.\n",
    "* AttributeError: Display an error message if the user tries to use a set method that doesn't exist.\n",
    "\n",
    "After handling exceptions, add a new string to the set and print the modified set."
   ]
  },
  {
   "cell_type": "code",
   "execution_count": 8,
   "id": "6d620564",
   "metadata": {},
   "outputs": [
    {
     "name": "stdout",
     "output_type": "stream",
     "text": [
      "Enter a set of strings separated by space: Ranjith Kumar\n",
      "Error: Please enter valid strings.\n"
     ]
    }
   ],
   "source": [
    "## Write your code below ##\n",
    "\n",
    "try:\n",
    "    # Take a set of strings as input\n",
    "    input_set = int(input(\"Enter a set of strings separated by space: \").split())\n",
    "\n",
    "    # Add a new string to the set\n",
    "    input_set.add(\"NewString\")\n",
    "\n",
    "    print(\"Original Set:\", input_set)\n",
    "\n",
    "except TypeError:\n",
    "    print(\"Error: Please enter valid strings.\")\n",
    "\n",
    "except AttributeError:\n",
    "    print(\"Error: Set method not allowed.\")\n"
   ]
  },
  {
   "cell_type": "markdown",
   "id": "5f699989",
   "metadata": {},
   "source": [
    "**4. Create a program that defines a tuple of colors. Prompt the user to enter a color to check if it's in the tuple. Handle the following exceptions:**\n",
    "\n",
    "* TypeError: Display an error message if the entered value is not a string.\n",
    "\n",
    "After handling exceptions, concatenate a new color to the tuple and print the modified tuple."
   ]
  },
  {
   "cell_type": "code",
   "execution_count": 11,
   "id": "bfaa1a19",
   "metadata": {},
   "outputs": [
    {
     "name": "stdout",
     "output_type": "stream",
     "text": [
      "Enter a new color: Brainy Bits\n",
      "Updated Tuple: ('Red', 'Green', 'Blue', 'Brainy Bits')\n"
     ]
    }
   ],
   "source": [
    "## Write your code below ##\n",
    "\n",
    "try:\n",
    "    # Define a tuple of colors\n",
    "    colors_tuple = (\"Red\", \"Green\", \"Blue\")\n",
    "\n",
    "    # Prompt user for a color\n",
    "    new_color = input(\"Enter a new color: \")\n",
    "\n",
    "    # Check if the entered value is a string\n",
    "    if not isinstance(new_color, str):\n",
    "        raise TypeError(\"Error: Please enter a valid color.\")\n",
    "\n",
    "    # Concatenate a new color to the tuple\n",
    "    colors_tuple += (new_color,)\n",
    "\n",
    "    print(\"Updated Tuple:\", colors_tuple)\n",
    "\n",
    "except TypeError as e:\n",
    "    print(e)\n"
   ]
  }
 ],
 "metadata": {
  "kernelspec": {
   "display_name": "Python 3 (ipykernel)",
   "language": "python",
   "name": "python3"
  },
  "language_info": {
   "codemirror_mode": {
    "name": "ipython",
    "version": 3
   },
   "file_extension": ".py",
   "mimetype": "text/x-python",
   "name": "python",
   "nbconvert_exporter": "python",
   "pygments_lexer": "ipython3",
   "version": "3.9.17"
  }
 },
 "nbformat": 4,
 "nbformat_minor": 5
}
