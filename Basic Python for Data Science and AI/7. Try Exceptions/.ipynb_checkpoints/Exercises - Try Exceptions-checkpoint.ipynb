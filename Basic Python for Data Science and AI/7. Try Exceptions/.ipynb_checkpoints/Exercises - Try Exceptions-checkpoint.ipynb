{
 "cells": [
  {
   "cell_type": "markdown",
   "id": "6e4d8917",
   "metadata": {},
   "source": [
    "<img src=https://lstms-brainybits.s3.ap-south-1.amazonaws.com/green+logo.png width=\"300\" height=\"200\" style=\"float: left; margin-right: 8px;\">"
   ]
  },
  {
   "cell_type": "markdown",
   "id": "4225a942",
   "metadata": {},
   "source": [
    "We believe in empowering individuals with the\n",
    "knowledge and skills they need to become lifelong\n",
    "learners. Our self-learning website offers a diverse\n",
    "range of high-quality, interactive courses.\n",
    "**All rights reserved to BrainyBits. Unauthorized reproduction or distribution of this content is prohibited.** "
   ]
  },
  {
   "cell_type": "markdown",
   "id": "4414d114",
   "metadata": {},
   "source": [
    "# Try & Exceptions"
   ]
  },
  {
   "cell_type": "markdown",
   "id": "5b569ebb",
   "metadata": {},
   "source": [
    "**1. Write a program that takes a list of integers as input from the user. Handle the following exceptions:**\n",
    "\n",
    "* ValueError: Display an error message if the input is not a valid integer.\n",
    "* IndexError: Display an error message if the user attempts to access an index that is out of range."
   ]
  },
  {
   "cell_type": "code",
   "execution_count": null,
   "id": "a41aeb1b",
   "metadata": {},
   "outputs": [],
   "source": [
    "## Write your code below ##\n",
    "\n",
    "\n",
    "\n",
    "\n",
    "\n",
    "\n",
    "\n",
    "\n",
    "\n"
   ]
  },
  {
   "cell_type": "markdown",
   "id": "277a529e",
   "metadata": {},
   "source": [
    "**2. Create a program that defines a dictionary with student names as keys and their corresponding scores as values. Prompt the user to enter a student name to retrieve their score. Handle the following exceptions:**\n",
    "\n",
    "* KeyError: Display an error message if the entered name is not in the dictionary.\n",
    "* ValueError: Display an error message if the user enters a non-string input.\n",
    "\n",
    "\n",
    "After handling exceptions, increment the score of the selected student by 10 and print the updated dictionary."
   ]
  },
  {
   "cell_type": "code",
   "execution_count": null,
   "id": "2e37bddd",
   "metadata": {},
   "outputs": [],
   "source": [
    "## Write your code below ##\n",
    "\n",
    "\n",
    "\n",
    "\n",
    "\n",
    "\n",
    "\n",
    "\n",
    "\n",
    "\n"
   ]
  },
  {
   "cell_type": "markdown",
   "id": "c8accf1d",
   "metadata": {},
   "source": [
    "**3. Write a program that takes a set of strings as input from the user. Handle the following exceptions:**\n",
    "\n",
    "* TypeError: Display an error message if the entered value is not a string.\n",
    "* AttributeError: Display an error message if the user tries to use a set method that doesn't exist.\n",
    "\n",
    "After handling exceptions, add a new string to the set and print the modified set."
   ]
  },
  {
   "cell_type": "code",
   "execution_count": 1,
   "id": "6d620564",
   "metadata": {},
   "outputs": [],
   "source": [
    "## Write your code below ##\n",
    "\n",
    "\n",
    "\n",
    "\n",
    "\n",
    "\n",
    "\n",
    "\n"
   ]
  },
  {
   "cell_type": "markdown",
   "id": "5f699989",
   "metadata": {},
   "source": [
    "**4. Create a program that defines a tuple of colors. Prompt the user to enter a color to check if it's in the tuple. Handle the following exceptions:**\n",
    "\n",
    "* TypeError: Display an error message if the entered value is not a string.\n",
    "\n",
    "After handling exceptions, concatenate a new color to the tuple and print the modified tuple."
   ]
  },
  {
   "cell_type": "code",
   "execution_count": null,
   "id": "bfaa1a19",
   "metadata": {},
   "outputs": [],
   "source": [
    "## Write your code below ##\n",
    "\n",
    "\n",
    "\n",
    "\n",
    "\n",
    "\n",
    "\n",
    "\n"
   ]
  }
 ],
 "metadata": {
  "kernelspec": {
   "display_name": "Python 3 (ipykernel)",
   "language": "python",
   "name": "python3"
  },
  "language_info": {
   "codemirror_mode": {
    "name": "ipython",
    "version": 3
   },
   "file_extension": ".py",
   "mimetype": "text/x-python",
   "name": "python",
   "nbconvert_exporter": "python",
   "pygments_lexer": "ipython3",
   "version": "3.9.17"
  }
 },
 "nbformat": 4,
 "nbformat_minor": 5
}
