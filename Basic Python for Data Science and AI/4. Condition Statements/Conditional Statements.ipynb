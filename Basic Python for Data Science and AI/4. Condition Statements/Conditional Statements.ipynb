{
 "cells": [
  {
   "cell_type": "markdown",
   "id": "6e4d8917",
   "metadata": {},
   "source": [
    "<img src=https://lstms-brainybits.s3.ap-south-1.amazonaws.com/green+logo.png width=\"300\" height=\"200\" style=\"float: left; margin-right: 8px;\">"
   ]
  },
  {
   "cell_type": "markdown",
   "id": "4225a942",
   "metadata": {},
   "source": [
    "We believe in empowering individuals with the\n",
    "knowledge and skills they need to become lifelong\n",
    "learners. Our self-learning website offers a diverse\n",
    "range of high-quality, interactive courses.\n",
    "**All rights reserved to BrainyBits. Unauthorized reproduction or distribution of this content is prohibited.** "
   ]
  },
  {
   "cell_type": "markdown",
   "id": "4414d114",
   "metadata": {},
   "source": [
    "# Condition Statements"
   ]
  },
  {
   "cell_type": "markdown",
   "id": "5b569ebb",
   "metadata": {},
   "source": [
    "### 1. IF Conditions"
   ]
  },
  {
   "cell_type": "code",
   "execution_count": 1,
   "id": "a41aeb1b",
   "metadata": {},
   "outputs": [
    {
     "name": "stdout",
     "output_type": "stream",
     "text": [
      "Yes its true\n"
     ]
    }
   ],
   "source": [
    "a = 10\n",
    "#\n",
    "if a == 10:\n",
    "    print(\"Yes its true\")"
   ]
  },
  {
   "cell_type": "code",
   "execution_count": 2,
   "id": "f1662796",
   "metadata": {},
   "outputs": [
    {
     "name": "stdout",
     "output_type": "stream",
     "text": [
      "abc has something in it\n"
     ]
    }
   ],
   "source": [
    "abc = \"BrainyBits\"\n",
    "\n",
    "if abc:\n",
    "    print(\"abc has something in it\")"
   ]
  },
  {
   "cell_type": "code",
   "execution_count": 3,
   "id": "64b170e1",
   "metadata": {},
   "outputs": [],
   "source": [
    "del abc"
   ]
  },
  {
   "cell_type": "code",
   "execution_count": 7,
   "id": "bb857090",
   "metadata": {},
   "outputs": [],
   "source": [
    "abc = \"BrainyBits\""
   ]
  },
  {
   "cell_type": "code",
   "execution_count": 8,
   "id": "7e7e001d",
   "metadata": {},
   "outputs": [],
   "source": [
    "if abc == 0:\n",
    "    print(\"abc has something in it\")"
   ]
  },
  {
   "cell_type": "markdown",
   "id": "277a529e",
   "metadata": {},
   "source": [
    "### 2. IF ELSE Conditions"
   ]
  },
  {
   "cell_type": "code",
   "execution_count": 10,
   "id": "2e37bddd",
   "metadata": {},
   "outputs": [
    {
     "name": "stdout",
     "output_type": "stream",
     "text": [
      "Its not a string.\n"
     ]
    }
   ],
   "source": [
    "abc = 1234\n",
    "\n",
    "if type(abc) == str:\n",
    "    length = len(abc)\n",
    "    print(\"Its a string with \", length, \" characters.\")\n",
    "else:\n",
    "    print(\"Its not a string.\")"
   ]
  },
  {
   "cell_type": "code",
   "execution_count": null,
   "id": "d694acce",
   "metadata": {},
   "outputs": [],
   "source": []
  },
  {
   "cell_type": "markdown",
   "id": "9a03bd43",
   "metadata": {},
   "source": [
    "### 3. IF ELIF ELSE Conditions"
   ]
  },
  {
   "cell_type": "code",
   "execution_count": 14,
   "id": "933f84f8",
   "metadata": {},
   "outputs": [
    {
     "name": "stdout",
     "output_type": "stream",
     "text": [
      "Its neither a string nor an integer.\n"
     ]
    }
   ],
   "source": [
    "abc = 123.456\n",
    "\n",
    "if type(abc) == str:\n",
    "    length = len(abc)\n",
    "    print(\"Its a string with \", length, \" characters.\")\n",
    "elif type(abc) == int:\n",
    "    new_abc = abc*abc\n",
    "    print(\"Yes. Its a integer, the value is \", new_abc)\n",
    "else:\n",
    "    print(\"Its neither a string nor an integer.\")"
   ]
  },
  {
   "cell_type": "code",
   "execution_count": null,
   "id": "6d620564",
   "metadata": {},
   "outputs": [],
   "source": []
  },
  {
   "cell_type": "markdown",
   "id": "79e51ecb",
   "metadata": {},
   "source": [
    "### 4. Chaining of Conditions"
   ]
  },
  {
   "cell_type": "code",
   "execution_count": 16,
   "id": "f48aa412",
   "metadata": {},
   "outputs": [
    {
     "name": "stdout",
     "output_type": "stream",
     "text": [
      "You are either a student or not an adult.\n"
     ]
    }
   ],
   "source": [
    "age = 2\n",
    "is_student = False\n",
    "\n",
    "if age > 18 and not is_student:\n",
    "    print(\"You are an adult.\")\n",
    "else:\n",
    "    print(\"You are either a student or not an adult.\")"
   ]
  },
  {
   "cell_type": "code",
   "execution_count": 18,
   "id": "ae629787",
   "metadata": {},
   "outputs": [
    {
     "name": "stdout",
     "output_type": "stream",
     "text": [
      "You might be busy with work.\n"
     ]
    }
   ],
   "source": [
    "is_weekend = False\n",
    "has_time = False\n",
    "\n",
    "if is_weekend or has_time:\n",
    "    print(\"You can relax and enjoy your time.\")\n",
    "else:\n",
    "    print(\"You might be busy with work.\")\n"
   ]
  },
  {
   "cell_type": "code",
   "execution_count": null,
   "id": "c3973155",
   "metadata": {},
   "outputs": [],
   "source": []
  }
 ],
 "metadata": {
  "kernelspec": {
   "display_name": "Python 3 (ipykernel)",
   "language": "python",
   "name": "python3"
  },
  "language_info": {
   "codemirror_mode": {
    "name": "ipython",
    "version": 3
   },
   "file_extension": ".py",
   "mimetype": "text/x-python",
   "name": "python",
   "nbconvert_exporter": "python",
   "pygments_lexer": "ipython3",
   "version": "3.9.17"
  }
 },
 "nbformat": 4,
 "nbformat_minor": 5
}
