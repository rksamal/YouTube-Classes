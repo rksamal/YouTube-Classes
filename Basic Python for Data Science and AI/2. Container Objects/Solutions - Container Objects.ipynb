{
 "cells": [
  {
   "cell_type": "markdown",
   "id": "d6f6c472",
   "metadata": {},
   "source": [
    "<img src=https://lstms-brainybits.s3.ap-south-1.amazonaws.com/green+logo.png width=\"300\" height=\"200\" style=\"float: left; margin-right: 8px;\">"
   ]
  },
  {
   "cell_type": "markdown",
   "id": "9b00b280",
   "metadata": {},
   "source": [
    "We believe in empowering individuals with the\n",
    "knowledge and skills they need to become lifelong\n",
    "learners. Our self-learning website offers a diverse\n",
    "range of high-quality, interactive courses.\n",
    "**All rights reserved to BrainyBits. Unauthorized reproduction or distribution of this content is prohibited.** "
   ]
  },
  {
   "cell_type": "markdown",
   "id": "4eb32d95",
   "metadata": {},
   "source": [
    "# List Mutation "
   ]
  },
  {
   "cell_type": "markdown",
   "id": "97be22d4",
   "metadata": {},
   "source": [
    "**1. Create a list of your favorite fruits.**\n",
    "\n",
    "* Append a new fruit to the list.\n",
    "* Extend the list by adding three more fruits."
   ]
  },
  {
   "cell_type": "code",
   "execution_count": 1,
   "id": "f1b20b07",
   "metadata": {},
   "outputs": [
    {
     "name": "stdout",
     "output_type": "stream",
     "text": [
      "Updated List of Favorite Fruits: ['apple', 'banana', 'orange', 'strawberry', 'grape', 'kiwi', 'pineapple']\n"
     ]
    }
   ],
   "source": [
    "## Write your code below ##\n",
    "favorite_fruits = ['apple', 'banana', 'orange']\n",
    "\n",
    "favorite_fruits.append('strawberry')\n",
    "\n",
    "additional_fruits = ['grape', 'kiwi', 'pineapple']\n",
    "\n",
    "favorite_fruits.extend(additional_fruits)\n",
    "\n",
    "print(\"Updated List of Favorite Fruits:\", favorite_fruits)"
   ]
  },
  {
   "cell_type": "markdown",
   "id": "d32d89bd",
   "metadata": {},
   "source": [
    "**2. Create a list of programming languages.**\n",
    "\n",
    "* Insert a new language at a specific index.\n",
    "* Remove a language from the list."
   ]
  },
  {
   "cell_type": "code",
   "execution_count": 2,
   "id": "a750efc2",
   "metadata": {},
   "outputs": [
    {
     "name": "stdout",
     "output_type": "stream",
     "text": [
      "List of Programming Languages after Insertion: ['Python', 'JavaScript', 'Go', 'Java', 'C++', 'Ruby']\n",
      "List of Programming Languages after Removal: ['Python', 'JavaScript', 'Go', 'C++', 'Ruby']\n"
     ]
    }
   ],
   "source": [
    "## Write your code below ##\n",
    "\n",
    "programming_languages = ['Python', 'JavaScript', 'Java', 'C++', 'Ruby']\n",
    "\n",
    "programming_languages.insert(2, 'Go')\n",
    "\n",
    "print(\"List of Programming Languages after Insertion:\", programming_languages)\n",
    "\n",
    "programming_languages.remove('Java')\n",
    "\n",
    "print(\"List of Programming Languages after Removal:\", programming_languages)\n"
   ]
  },
  {
   "cell_type": "markdown",
   "id": "c1c542d7",
   "metadata": {},
   "source": [
    "**3. Create a list and make a copy of it.**\n",
    "\n",
    "* Modify the copy and observe if the original list is affected.\n"
   ]
  },
  {
   "cell_type": "code",
   "execution_count": 3,
   "id": "6190c863",
   "metadata": {},
   "outputs": [
    {
     "name": "stdout",
     "output_type": "stream",
     "text": [
      "Original List: [1, 2, 3, 4, 5]\n",
      "Copied List (Modified): [1, 2, 3, 4, 5, 6]\n"
     ]
    }
   ],
   "source": [
    "## Write your code below ##\n",
    "original_list = [1, 2, 3, 4, 5]\n",
    "\n",
    "copied_list = original_list.copy()\n",
    "\n",
    "copied_list.append(6)\n",
    "\n",
    "print(\"Original List:\", original_list)\n",
    "print(\"Copied List (Modified):\", copied_list)"
   ]
  },
  {
   "cell_type": "markdown",
   "id": "769ed2a1",
   "metadata": {},
   "source": [
    "# Set Mutation"
   ]
  },
  {
   "cell_type": "markdown",
   "id": "82aa6e67",
   "metadata": {},
   "source": [
    "**4. Create a set of your favorite colors.**\n",
    "\n",
    "* Add a new color to the set.\n",
    "* Update the set by adding three more colors."
   ]
  },
  {
   "cell_type": "code",
   "execution_count": 4,
   "id": "76c0b3ed",
   "metadata": {},
   "outputs": [
    {
     "name": "stdout",
     "output_type": "stream",
     "text": [
      "Updated Set of Favorite Colors: {'blue', 'orange', 'yellow', 'red', 'green', 'pink', 'purple'}\n"
     ]
    }
   ],
   "source": [
    "## Write your code below ##\n",
    "\n",
    "favorite_colors = {'red', 'blue', 'green'}\n",
    "\n",
    "favorite_colors.add('purple')\n",
    "\n",
    "additional_colors = {'yellow', 'orange', 'pink'}\n",
    "\n",
    "favorite_colors.update(additional_colors)\n",
    "\n",
    "print(\"Updated Set of Favorite Colors:\", favorite_colors)\n"
   ]
  },
  {
   "cell_type": "markdown",
   "id": "f7025ed7",
   "metadata": {},
   "source": [
    "**5. Create a set of animals.**\n",
    "\n",
    "* Remove one animal from the set.\n",
    "* Discard another animal from the set."
   ]
  },
  {
   "cell_type": "code",
   "execution_count": 5,
   "id": "5da24445",
   "metadata": {},
   "outputs": [
    {
     "name": "stdout",
     "output_type": "stream",
     "text": [
      "Updated Set of Animals: {'giraffe', 'tiger', 'elephant'}\n"
     ]
    }
   ],
   "source": [
    "## Write your code below ##\n",
    "\n",
    "animal_set = {'lion', 'elephant', 'zebra', 'giraffe', 'tiger'}\n",
    "\n",
    "animal_set.remove('lion')\n",
    "\n",
    "animal_set.discard('zebra')\n",
    "\n",
    "print(\"Updated Set of Animals:\", animal_set)"
   ]
  },
  {
   "cell_type": "markdown",
   "id": "9698c63a",
   "metadata": {},
   "source": [
    "# Dictionary Mutation"
   ]
  },
  {
   "cell_type": "markdown",
   "id": "e1b67606",
   "metadata": {},
   "source": [
    "**6. Create a dictionary representing information about a person (name, age, occupation).**\n",
    "\n",
    "* Add a new key-value pair to include the person's location.\n",
    "* Update the dictionary with new information, such as a change in occupation."
   ]
  },
  {
   "cell_type": "code",
   "execution_count": 6,
   "id": "ac145b6d",
   "metadata": {},
   "outputs": [
    {
     "name": "stdout",
     "output_type": "stream",
     "text": [
      "Dictionary after adding location: {'name': 'John Doe', 'age': 30, 'occupation': 'Engineer', 'location': 'Cityville'}\n",
      "Dictionary after updating occupation: {'name': 'John Doe', 'age': 30, 'occupation': 'Data Scientist', 'location': 'Cityville'}\n"
     ]
    }
   ],
   "source": [
    "## Write your code below ##\n",
    "\n",
    "person_info = {'name': 'John Doe', 'age': 30, 'occupation': 'Engineer'}\n",
    "\n",
    "person_info['location'] = 'Cityville'\n",
    "\n",
    "print(\"Dictionary after adding location:\", person_info)\n",
    "\n",
    "person_info['occupation'] = 'Data Scientist'\n",
    "\n",
    "print(\"Dictionary after updating occupation:\", person_info)"
   ]
  },
  {
   "cell_type": "markdown",
   "id": "4fed038b",
   "metadata": {},
   "source": [
    "**7. Create a dictionary of book titles and their authors.**\n",
    "\n",
    "* Remove a book from the dictionary using the del statement.\n",
    "* Use the pop() method to remove another book from the dictionary."
   ]
  },
  {
   "cell_type": "code",
   "execution_count": 7,
   "id": "c682ac44",
   "metadata": {},
   "outputs": [
    {
     "name": "stdout",
     "output_type": "stream",
     "text": [
      "Dictionary after using del statement: {'Book1': 'Author1', 'Book3': 'Author3', 'Book4': 'Author4'}\n",
      "Dictionary after using pop() method: {'Book1': 'Author1', 'Book4': 'Author4'}\n",
      "Removed Book: Author3\n"
     ]
    }
   ],
   "source": [
    "## Write your code below ##\n",
    "\n",
    "books_dict = {\n",
    "    'Book1': 'Author1',\n",
    "    'Book2': 'Author2',\n",
    "    'Book3': 'Author3',\n",
    "    'Book4': 'Author4'\n",
    "}\n",
    "\n",
    "del books_dict['Book2']\n",
    "\n",
    "print(\"Dictionary after using del statement:\", books_dict)\n",
    "\n",
    "removed_book = books_dict.pop('Book3')\n",
    "\n",
    "print(\"Dictionary after using pop() method:\", books_dict)\n",
    "\n",
    "print(\"Removed Book:\", removed_book)"
   ]
  },
  {
   "cell_type": "markdown",
   "id": "237730c8",
   "metadata": {},
   "source": [
    "**8. Create two dictionaries representing student grades in two subjects.**\n",
    "\n",
    "* Merge the two dictionaries to create a single dictionary with grades in both subjects."
   ]
  },
  {
   "cell_type": "code",
   "execution_count": 8,
   "id": "ab4ab03f",
   "metadata": {},
   "outputs": [
    {
     "name": "stdout",
     "output_type": "stream",
     "text": [
      "Grades in Subject 1: {'Student1': 85, 'Student2': 92, 'Student3': 78}\n",
      "Grades in Subject 2: {'Student1': 90, 'Student2': 88, 'Student3': 95}\n",
      "Merged Grades: {'Student1': 90, 'Student2': 88, 'Student3': 95}\n"
     ]
    }
   ],
   "source": [
    "## Write your code below ##\n",
    "\n",
    "grades_subject1 = {'Student1': 85, 'Student2': 92, 'Student3': 78}\n",
    "grades_subject2 = {'Student1': 90, 'Student2': 88, 'Student3': 95}\n",
    "\n",
    "merged_grades = {**grades_subject1, **grades_subject2}\n",
    "\n",
    "print(\"Grades in Subject 1:\", grades_subject1)\n",
    "print(\"Grades in Subject 2:\", grades_subject2)\n",
    "print(\"Merged Grades:\", merged_grades)"
   ]
  },
  {
   "cell_type": "code",
   "execution_count": null,
   "id": "3af2a6a0",
   "metadata": {},
   "outputs": [],
   "source": []
  }
 ],
 "metadata": {
  "kernelspec": {
   "display_name": "Python 3 (ipykernel)",
   "language": "python",
   "name": "python3"
  },
  "language_info": {
   "codemirror_mode": {
    "name": "ipython",
    "version": 3
   },
   "file_extension": ".py",
   "mimetype": "text/x-python",
   "name": "python",
   "nbconvert_exporter": "python",
   "pygments_lexer": "ipython3",
   "version": "3.9.17"
  }
 },
 "nbformat": 4,
 "nbformat_minor": 5
}
