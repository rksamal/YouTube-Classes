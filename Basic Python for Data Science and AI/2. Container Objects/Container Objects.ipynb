{
 "cells": [
  {
   "cell_type": "markdown",
   "id": "6e4d8917",
   "metadata": {},
   "source": [
    "<img src=https://lstms-brainybits.s3.ap-south-1.amazonaws.com/green+logo.png width=\"300\" height=\"200\" style=\"float: left; margin-right: 8px;\">"
   ]
  },
  {
   "cell_type": "markdown",
   "id": "4225a942",
   "metadata": {},
   "source": [
    "We believe in empowering individuals with the\n",
    "knowledge and skills they need to become lifelong\n",
    "learners. Our self-learning website offers a diverse\n",
    "range of high-quality, interactive courses.\n",
    "**All rights reserved to BrainyBits. Unauthorized reproduction or distribution of this content is prohibited.** "
   ]
  },
  {
   "cell_type": "markdown",
   "id": "4414d114",
   "metadata": {},
   "source": [
    "# Container Objects"
   ]
  },
  {
   "cell_type": "code",
   "execution_count": 1,
   "id": "ac610b7a",
   "metadata": {},
   "outputs": [
    {
     "name": "stdout",
     "output_type": "stream",
     "text": [
      "[1, 2, 'Institute', 'New', True, False, 7.5, 9.25]\n"
     ]
    }
   ],
   "source": [
    "my_list = [1, 2, \"Institute\", \"New\", True, False, 7.5, 9.25]\n",
    "print(my_list)\n"
   ]
  },
  {
   "cell_type": "code",
   "execution_count": 2,
   "id": "a41aeb1b",
   "metadata": {},
   "outputs": [
    {
     "data": {
      "text/plain": [
       "list"
      ]
     },
     "execution_count": 2,
     "metadata": {},
     "output_type": "execute_result"
    }
   ],
   "source": [
    "type(my_list)"
   ]
  },
  {
   "cell_type": "code",
   "execution_count": 3,
   "id": "f1662796",
   "metadata": {},
   "outputs": [],
   "source": [
    "my_tuple = (1, 2, \"Institute\", \"New\")"
   ]
  },
  {
   "cell_type": "code",
   "execution_count": 23,
   "id": "80508bf8",
   "metadata": {},
   "outputs": [],
   "source": [
    "my_set = {\"Abc\", \"Abc\", \"New\", \"ball\", 2.5, 7.5, 3.5, 2.5}"
   ]
  },
  {
   "cell_type": "code",
   "execution_count": 5,
   "id": "14dc27b4",
   "metadata": {},
   "outputs": [
    {
     "name": "stdout",
     "output_type": "stream",
     "text": [
      "{2.5, 3.5, 'New', 7.5, 'Abc', 'ball'}\n"
     ]
    }
   ],
   "source": [
    "print(my_set)"
   ]
  },
  {
   "cell_type": "code",
   "execution_count": 6,
   "id": "ca4de04c",
   "metadata": {},
   "outputs": [],
   "source": [
    "my_dictionary = {\"Abc\": 12345, \"New\" : 5678, \"ball\": 2.5}"
   ]
  },
  {
   "cell_type": "code",
   "execution_count": 9,
   "id": "9dd47065",
   "metadata": {},
   "outputs": [
    {
     "name": "stdout",
     "output_type": "stream",
     "text": [
      "{'Abc': 12345, 'New': 5678, 'ball': 2.5}\n"
     ]
    }
   ],
   "source": [
    "print(my_dictionary)"
   ]
  },
  {
   "cell_type": "code",
   "execution_count": null,
   "id": "3afec920",
   "metadata": {},
   "outputs": [],
   "source": []
  },
  {
   "cell_type": "markdown",
   "id": "6b3ed91e",
   "metadata": {},
   "source": [
    "# Lists and Mutation of Lists\n",
    "* List (modify with ind, append, remove, pop with ind, del with ind)"
   ]
  },
  {
   "cell_type": "code",
   "execution_count": 10,
   "id": "ee146c4a",
   "metadata": {},
   "outputs": [
    {
     "data": {
      "text/plain": [
       "[1, 2, 'Institute', 'New', True, False, 7.5, 9.25]"
      ]
     },
     "execution_count": 10,
     "metadata": {},
     "output_type": "execute_result"
    }
   ],
   "source": [
    "my_list"
   ]
  },
  {
   "cell_type": "code",
   "execution_count": 11,
   "id": "dd5593ad",
   "metadata": {},
   "outputs": [],
   "source": [
    "my_list[2] = \"BrainyBits Institute\""
   ]
  },
  {
   "cell_type": "code",
   "execution_count": 12,
   "id": "ad1e3afa",
   "metadata": {},
   "outputs": [
    {
     "data": {
      "text/plain": [
       "[1, 2, 'BrainyBits Institute', 'New', True, False, 7.5, 9.25]"
      ]
     },
     "execution_count": 12,
     "metadata": {},
     "output_type": "execute_result"
    }
   ],
   "source": [
    "my_list"
   ]
  },
  {
   "cell_type": "code",
   "execution_count": 13,
   "id": "eaa7b43b",
   "metadata": {},
   "outputs": [],
   "source": [
    "my_list.append(\"Python Coding\")"
   ]
  },
  {
   "cell_type": "code",
   "execution_count": 14,
   "id": "b18a0159",
   "metadata": {},
   "outputs": [
    {
     "data": {
      "text/plain": [
       "[1, 2, 'BrainyBits Institute', 'New', True, False, 7.5, 9.25, 'Python Coding']"
      ]
     },
     "execution_count": 14,
     "metadata": {},
     "output_type": "execute_result"
    }
   ],
   "source": [
    "my_list"
   ]
  },
  {
   "cell_type": "code",
   "execution_count": 15,
   "id": "ebd42ec9",
   "metadata": {},
   "outputs": [],
   "source": [
    "my_list.remove(\"New\")"
   ]
  },
  {
   "cell_type": "code",
   "execution_count": 16,
   "id": "12117dc5",
   "metadata": {},
   "outputs": [
    {
     "data": {
      "text/plain": [
       "[1, 2, 'BrainyBits Institute', True, False, 7.5, 9.25, 'Python Coding']"
      ]
     },
     "execution_count": 16,
     "metadata": {},
     "output_type": "execute_result"
    }
   ],
   "source": [
    "my_list"
   ]
  },
  {
   "cell_type": "code",
   "execution_count": 19,
   "id": "d1256695",
   "metadata": {},
   "outputs": [
    {
     "data": {
      "text/plain": [
       "7.5"
      ]
     },
     "execution_count": 19,
     "metadata": {},
     "output_type": "execute_result"
    }
   ],
   "source": [
    "my_list.pop(4)"
   ]
  },
  {
   "cell_type": "code",
   "execution_count": 20,
   "id": "54e23ec3",
   "metadata": {},
   "outputs": [
    {
     "data": {
      "text/plain": [
       "[1, 2, 'BrainyBits Institute', True, 9.25, 'Python Coding']"
      ]
     },
     "execution_count": 20,
     "metadata": {},
     "output_type": "execute_result"
    }
   ],
   "source": [
    "my_list"
   ]
  },
  {
   "cell_type": "code",
   "execution_count": 21,
   "id": "6a90c121",
   "metadata": {},
   "outputs": [],
   "source": [
    "del my_list[-2]"
   ]
  },
  {
   "cell_type": "code",
   "execution_count": 22,
   "id": "23d34fe2",
   "metadata": {},
   "outputs": [
    {
     "data": {
      "text/plain": [
       "[1, 2, 'BrainyBits Institute', True, 'Python Coding']"
      ]
     },
     "execution_count": 22,
     "metadata": {},
     "output_type": "execute_result"
    }
   ],
   "source": [
    "my_list"
   ]
  },
  {
   "cell_type": "code",
   "execution_count": null,
   "id": "6071a264",
   "metadata": {},
   "outputs": [],
   "source": []
  },
  {
   "cell_type": "code",
   "execution_count": null,
   "id": "cfed056a",
   "metadata": {},
   "outputs": [],
   "source": []
  },
  {
   "cell_type": "markdown",
   "id": "42fd4c21",
   "metadata": {},
   "source": [
    "# Set and Mutation of Lists\n",
    "* Set (add, remove)"
   ]
  },
  {
   "cell_type": "code",
   "execution_count": 24,
   "id": "d3edc7dc",
   "metadata": {},
   "outputs": [
    {
     "data": {
      "text/plain": [
       "{2.5, 3.5, 7.5, 'Abc', 'New', 'ball'}"
      ]
     },
     "execution_count": 24,
     "metadata": {},
     "output_type": "execute_result"
    }
   ],
   "source": [
    "my_set"
   ]
  },
  {
   "cell_type": "code",
   "execution_count": 25,
   "id": "5530ddc2",
   "metadata": {},
   "outputs": [],
   "source": [
    "my_set.add(\"New Item\")"
   ]
  },
  {
   "cell_type": "code",
   "execution_count": 26,
   "id": "82f842ff",
   "metadata": {},
   "outputs": [
    {
     "data": {
      "text/plain": [
       "{2.5, 3.5, 7.5, 'Abc', 'New', 'New Item', 'ball'}"
      ]
     },
     "execution_count": 26,
     "metadata": {},
     "output_type": "execute_result"
    }
   ],
   "source": [
    "my_set"
   ]
  },
  {
   "cell_type": "code",
   "execution_count": 27,
   "id": "3925b997",
   "metadata": {},
   "outputs": [],
   "source": [
    "my_set.remove(7.5)"
   ]
  },
  {
   "cell_type": "code",
   "execution_count": 28,
   "id": "1e4032d3",
   "metadata": {},
   "outputs": [
    {
     "data": {
      "text/plain": [
       "{2.5, 3.5, 'Abc', 'New', 'New Item', 'ball'}"
      ]
     },
     "execution_count": 28,
     "metadata": {},
     "output_type": "execute_result"
    }
   ],
   "source": [
    "my_set"
   ]
  },
  {
   "cell_type": "markdown",
   "id": "0f5a3a6d",
   "metadata": {},
   "source": [
    "# Dictionary and Mutation of Dictionaries\n",
    "* Dict (modify, add, del)"
   ]
  },
  {
   "cell_type": "code",
   "execution_count": 29,
   "id": "b1677bc1",
   "metadata": {},
   "outputs": [],
   "source": [
    "my_dictionary = {\"Abc\": 12345, \"New\" : 5678, \"ball\": 2.5}"
   ]
  },
  {
   "cell_type": "code",
   "execution_count": 30,
   "id": "0db53a4c",
   "metadata": {},
   "outputs": [
    {
     "name": "stdout",
     "output_type": "stream",
     "text": [
      "{'Abc': 12345, 'New': 5678, 'ball': 2.5}\n"
     ]
    }
   ],
   "source": [
    "print(my_dictionary)"
   ]
  },
  {
   "cell_type": "code",
   "execution_count": 31,
   "id": "c51d197a",
   "metadata": {},
   "outputs": [],
   "source": [
    "my_dictionary[\"Abc\"] = 101010"
   ]
  },
  {
   "cell_type": "code",
   "execution_count": 32,
   "id": "edaa294a",
   "metadata": {},
   "outputs": [
    {
     "data": {
      "text/plain": [
       "{'Abc': 101010, 'New': 5678, 'ball': 2.5}"
      ]
     },
     "execution_count": 32,
     "metadata": {},
     "output_type": "execute_result"
    }
   ],
   "source": [
    "my_dictionary"
   ]
  },
  {
   "cell_type": "code",
   "execution_count": 33,
   "id": "2e37bddd",
   "metadata": {},
   "outputs": [],
   "source": [
    "my_dictionary[\"Abc_Xyz\"] = 999999"
   ]
  },
  {
   "cell_type": "code",
   "execution_count": 34,
   "id": "37d9bc8b",
   "metadata": {},
   "outputs": [
    {
     "data": {
      "text/plain": [
       "{'Abc': 101010, 'New': 5678, 'ball': 2.5, 'Abc_Xyz': 999999}"
      ]
     },
     "execution_count": 34,
     "metadata": {},
     "output_type": "execute_result"
    }
   ],
   "source": [
    "my_dictionary"
   ]
  },
  {
   "cell_type": "code",
   "execution_count": 35,
   "id": "eed928f2",
   "metadata": {},
   "outputs": [],
   "source": [
    "del my_dictionary[\"ball\"]"
   ]
  },
  {
   "cell_type": "code",
   "execution_count": 36,
   "id": "b262823a",
   "metadata": {},
   "outputs": [
    {
     "data": {
      "text/plain": [
       "{'Abc': 101010, 'New': 5678, 'Abc_Xyz': 999999}"
      ]
     },
     "execution_count": 36,
     "metadata": {},
     "output_type": "execute_result"
    }
   ],
   "source": [
    "my_dictionary"
   ]
  },
  {
   "cell_type": "code",
   "execution_count": 37,
   "id": "98c89d33",
   "metadata": {},
   "outputs": [],
   "source": [
    "del my_dictionary"
   ]
  },
  {
   "cell_type": "code",
   "execution_count": 38,
   "id": "446158a4",
   "metadata": {},
   "outputs": [
    {
     "ename": "NameError",
     "evalue": "name 'my_dictionary' is not defined",
     "output_type": "error",
     "traceback": [
      "\u001b[0;31m---------------------------------------------------------------------------\u001b[0m",
      "\u001b[0;31mNameError\u001b[0m                                 Traceback (most recent call last)",
      "Cell \u001b[0;32mIn[38], line 1\u001b[0m\n\u001b[0;32m----> 1\u001b[0m \u001b[43mmy_dictionary\u001b[49m\n",
      "\u001b[0;31mNameError\u001b[0m: name 'my_dictionary' is not defined"
     ]
    }
   ],
   "source": [
    "my_dictionary"
   ]
  },
  {
   "cell_type": "markdown",
   "id": "c9f7e09d",
   "metadata": {},
   "source": [
    "# Tuples"
   ]
  },
  {
   "cell_type": "code",
   "execution_count": null,
   "id": "d694acce",
   "metadata": {},
   "outputs": [],
   "source": []
  },
  {
   "cell_type": "code",
   "execution_count": null,
   "id": "ba211199",
   "metadata": {},
   "outputs": [],
   "source": []
  },
  {
   "cell_type": "code",
   "execution_count": null,
   "id": "933f84f8",
   "metadata": {},
   "outputs": [],
   "source": []
  },
  {
   "cell_type": "code",
   "execution_count": null,
   "id": "6d620564",
   "metadata": {},
   "outputs": [],
   "source": []
  },
  {
   "cell_type": "code",
   "execution_count": null,
   "id": "9174e603",
   "metadata": {},
   "outputs": [],
   "source": []
  }
 ],
 "metadata": {
  "kernelspec": {
   "display_name": "Python 3 (ipykernel)",
   "language": "python",
   "name": "python3"
  },
  "language_info": {
   "codemirror_mode": {
    "name": "ipython",
    "version": 3
   },
   "file_extension": ".py",
   "mimetype": "text/x-python",
   "name": "python",
   "nbconvert_exporter": "python",
   "pygments_lexer": "ipython3",
   "version": "3.9.17"
  }
 },
 "nbformat": 4,
 "nbformat_minor": 5
}
