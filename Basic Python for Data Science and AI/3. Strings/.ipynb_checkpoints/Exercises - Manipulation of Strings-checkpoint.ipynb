{
 "cells": [
  {
   "cell_type": "markdown",
   "id": "6e4d8917",
   "metadata": {},
   "source": [
    "<img src=https://lstms-brainybits.s3.ap-south-1.amazonaws.com/green+logo.png width=\"300\" height=\"200\" style=\"float: left; margin-right: 8px;\">"
   ]
  },
  {
   "cell_type": "markdown",
   "id": "4225a942",
   "metadata": {},
   "source": [
    "We believe in empowering individuals with the\n",
    "knowledge and skills they need to become lifelong\n",
    "learners. Our self-learning website offers a diverse\n",
    "range of high-quality, interactive courses.\n",
    "**All rights reserved to BrainyBits. Unauthorized reproduction or distribution of this content is prohibited.** "
   ]
  },
  {
   "cell_type": "markdown",
   "id": "4414d114",
   "metadata": {},
   "source": [
    "# Manipulation of strings"
   ]
  },
  {
   "cell_type": "markdown",
   "id": "5b569ebb",
   "metadata": {},
   "source": [
    "**1. Create two strings, concatenate them, and print the result in uppercase.**"
   ]
  },
  {
   "cell_type": "code",
   "execution_count": null,
   "id": "a41aeb1b",
   "metadata": {},
   "outputs": [],
   "source": [
    "## Write your code below ##\n",
    "\n",
    "\n",
    "\n",
    "\n",
    "\n",
    "\n",
    "\n"
   ]
  },
  {
   "cell_type": "markdown",
   "id": "277a529e",
   "metadata": {},
   "source": [
    "**2. Create a string and print its length. Then, print the first half of the string.**"
   ]
  },
  {
   "cell_type": "code",
   "execution_count": null,
   "id": "2e37bddd",
   "metadata": {},
   "outputs": [],
   "source": [
    "## Write your code below ##\n",
    "\n",
    "\n",
    "\n",
    "\n",
    "\n",
    "\n",
    "\n"
   ]
  },
  {
   "cell_type": "markdown",
   "id": "9a03bd43",
   "metadata": {},
   "source": [
    "**3. Create a string with repeated characters. Replace one set of characters and print the result in lowercase.**"
   ]
  },
  {
   "cell_type": "code",
   "execution_count": null,
   "id": "933f84f8",
   "metadata": {},
   "outputs": [],
   "source": [
    "## Write your code below ##\n",
    "\n",
    "\n",
    "\n",
    "\n",
    "\n",
    "\n",
    "\n"
   ]
  },
  {
   "cell_type": "markdown",
   "id": "79e51ecb",
   "metadata": {},
   "source": [
    "**4. Create a sentence. Split it into words and then join the words back into a sentence.**"
   ]
  },
  {
   "cell_type": "code",
   "execution_count": null,
   "id": "f48aa412",
   "metadata": {},
   "outputs": [],
   "source": [
    "## Write your code below ##\n",
    "\n",
    "\n",
    "\n",
    "\n",
    "\n",
    "\n",
    "\n"
   ]
  },
  {
   "cell_type": "markdown",
   "id": "78bdb62b",
   "metadata": {},
   "source": [
    "**5. Create a string and print the first, last, and middle characters.**"
   ]
  },
  {
   "cell_type": "code",
   "execution_count": null,
   "id": "ba7590ad",
   "metadata": {},
   "outputs": [],
   "source": [
    "## Write your code below ##\n",
    "\n",
    "\n",
    "\n",
    "\n",
    "\n",
    "\n",
    "\n"
   ]
  },
  {
   "cell_type": "markdown",
   "id": "cd556a78",
   "metadata": {},
   "source": [
    "**6. Create a string with leading and trailing whitespaces. Remove the whitespaces and print the result.**"
   ]
  },
  {
   "cell_type": "code",
   "execution_count": null,
   "id": "76b234f2",
   "metadata": {},
   "outputs": [],
   "source": [
    "## Write your code below ##\n",
    "\n",
    "\n",
    "\n",
    "\n",
    "\n",
    "\n",
    "\n"
   ]
  },
  {
   "cell_type": "markdown",
   "id": "581c6c72",
   "metadata": {},
   "source": [
    "**7. Create a string and print it in reverse order.**"
   ]
  },
  {
   "cell_type": "code",
   "execution_count": null,
   "id": "d47d8299",
   "metadata": {},
   "outputs": [],
   "source": [
    "## Write your code below ##\n",
    "\n",
    "\n",
    "\n",
    "\n",
    "\n",
    "\n",
    "\n"
   ]
  }
 ],
 "metadata": {
  "kernelspec": {
   "display_name": "Python 3 (ipykernel)",
   "language": "python",
   "name": "python3"
  },
  "language_info": {
   "codemirror_mode": {
    "name": "ipython",
    "version": 3
   },
   "file_extension": ".py",
   "mimetype": "text/x-python",
   "name": "python",
   "nbconvert_exporter": "python",
   "pygments_lexer": "ipython3",
   "version": "3.9.17"
  }
 },
 "nbformat": 4,
 "nbformat_minor": 5
}
