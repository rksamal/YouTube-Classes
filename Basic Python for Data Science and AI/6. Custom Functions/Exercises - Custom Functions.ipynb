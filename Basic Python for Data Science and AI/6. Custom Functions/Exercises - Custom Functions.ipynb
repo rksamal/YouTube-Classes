{
 "cells": [
  {
   "cell_type": "markdown",
   "id": "6e4d8917",
   "metadata": {},
   "source": [
    "<img src=https://lstms-brainybits.s3.ap-south-1.amazonaws.com/green+logo.png width=\"300\" height=\"200\" style=\"float: left; margin-right: 8px;\">"
   ]
  },
  {
   "cell_type": "markdown",
   "id": "4225a942",
   "metadata": {},
   "source": [
    "We believe in empowering individuals with the\n",
    "knowledge and skills they need to become lifelong\n",
    "learners. Our self-learning website offers a diverse\n",
    "range of high-quality, interactive courses.\n",
    "**All rights reserved to BrainyBits. Unauthorized reproduction or distribution of this content is prohibited.** "
   ]
  },
  {
   "cell_type": "markdown",
   "id": "4414d114",
   "metadata": {},
   "source": [
    "# Custom Functions"
   ]
  },
  {
   "cell_type": "markdown",
   "id": "5b569ebb",
   "metadata": {},
   "source": [
    "**1. Write a function that takes an integer as an argument and returns \"Even\" if the number is even and \"Odd\" if it's odd.**"
   ]
  },
  {
   "cell_type": "code",
   "execution_count": null,
   "id": "a41aeb1b",
   "metadata": {},
   "outputs": [],
   "source": [
    "## Write your code below ##\n",
    "\n",
    "\n",
    "\n",
    "\n",
    "\n",
    "\n",
    "\n",
    "\n"
   ]
  },
  {
   "cell_type": "markdown",
   "id": "277a529e",
   "metadata": {},
   "source": [
    "**2. Create a function that converts Celsius to Fahrenheit. The formula is: F = (C * 9/5) + 32.**"
   ]
  },
  {
   "cell_type": "code",
   "execution_count": null,
   "id": "2e37bddd",
   "metadata": {},
   "outputs": [],
   "source": [
    "## Write your code below ##\n",
    "\n",
    "\n",
    "\n",
    "\n",
    "\n",
    "\n",
    "\n",
    "\n",
    "\n"
   ]
  },
  {
   "cell_type": "markdown",
   "id": "c8accf1d",
   "metadata": {},
   "source": [
    "**3. Write a function that takes a list of numbers as an argument and returns the sum of all the elements in the list.**"
   ]
  },
  {
   "cell_type": "code",
   "execution_count": null,
   "id": "6d620564",
   "metadata": {},
   "outputs": [],
   "source": [
    "## Write your code below ##\n",
    "\n",
    "\n",
    "\n",
    "\n",
    "\n",
    "\n",
    "\n",
    "\n"
   ]
  },
  {
   "cell_type": "markdown",
   "id": "5f699989",
   "metadata": {},
   "source": [
    "**4. Implement a function to calculate the factorial of a given positive integer. The factorial of n is the product of all positive integers up to n.**"
   ]
  },
  {
   "cell_type": "code",
   "execution_count": null,
   "id": "bfaa1a19",
   "metadata": {},
   "outputs": [],
   "source": [
    "## Write your code below ##\n",
    "\n",
    "\n",
    "\n",
    "\n",
    "\n",
    "\n",
    "\n",
    "\n"
   ]
  },
  {
   "cell_type": "markdown",
   "id": "078af0b7",
   "metadata": {},
   "source": [
    "**5. Create a function that checks if a given string is a palindrome (reads the same backward as forward).**"
   ]
  },
  {
   "cell_type": "code",
   "execution_count": null,
   "id": "ae629787",
   "metadata": {},
   "outputs": [],
   "source": [
    "## Write your code below ##\n",
    "\n",
    "\n",
    "\n",
    "\n",
    "\n",
    "\n",
    "\n",
    "\n"
   ]
  },
  {
   "cell_type": "markdown",
   "id": "cf245588",
   "metadata": {},
   "source": [
    "**6. Write a function that takes an integer n as input and returns the sum of the squares of all integers from 1 to n.**"
   ]
  },
  {
   "cell_type": "code",
   "execution_count": null,
   "id": "16f72928",
   "metadata": {},
   "outputs": [],
   "source": [
    "## Write your code below ##\n",
    "\n",
    "\n",
    "\n",
    "\n",
    "\n",
    "\n",
    "\n",
    "\n"
   ]
  },
  {
   "cell_type": "markdown",
   "id": "f2bb1d74",
   "metadata": {},
   "source": [
    "**7. Create a function that takes an integer n as input and prints the multiplication table for that number from 1 to 10.**"
   ]
  },
  {
   "cell_type": "code",
   "execution_count": null,
   "id": "84b886c2",
   "metadata": {},
   "outputs": [],
   "source": [
    "## Write your code below ##\n",
    "\n",
    "\n",
    "\n",
    "\n",
    "\n",
    "\n",
    "\n",
    "\n"
   ]
  },
  {
   "cell_type": "markdown",
   "id": "9985cff1",
   "metadata": {},
   "source": [
    "**8. Write a function that takes an integer n as input and prints \"Fizz\" for multiples of 3, \"Buzz\" for multiples of 5, and \"FizzBuzz\" for multiples of both 3 and 5. For other numbers, print the number itself.**"
   ]
  },
  {
   "cell_type": "code",
   "execution_count": null,
   "id": "29129a50",
   "metadata": {},
   "outputs": [],
   "source": [
    "## Write your code below ##\n",
    "\n",
    "\n",
    "\n",
    "\n",
    "\n",
    "\n",
    "\n",
    "\n"
   ]
  },
  {
   "cell_type": "markdown",
   "id": "7273531d",
   "metadata": {},
   "source": [
    "**9. Write a function that checks if a given year is a leap year. Leap years are divisible by 4, but if they are divisible by 100, they must also be divisible by 400.**"
   ]
  },
  {
   "cell_type": "code",
   "execution_count": null,
   "id": "f5921833",
   "metadata": {},
   "outputs": [],
   "source": [
    "## Write your code below ##\n",
    "\n",
    "\n",
    "\n",
    "\n",
    "\n",
    "\n",
    "\n",
    "\n"
   ]
  },
  {
   "cell_type": "markdown",
   "id": "673f69aa",
   "metadata": {},
   "source": [
    "**10. Develop a function that takes an integer n as input and returns True if it's a prime number, and False otherwise.**"
   ]
  },
  {
   "cell_type": "code",
   "execution_count": null,
   "id": "1a7cd71f",
   "metadata": {},
   "outputs": [],
   "source": [
    "## Write your code below ##\n",
    "\n",
    "\n",
    "\n",
    "\n",
    "\n",
    "\n",
    "\n",
    "\n"
   ]
  }
 ],
 "metadata": {
  "kernelspec": {
   "display_name": "Python 3 (ipykernel)",
   "language": "python",
   "name": "python3"
  },
  "language_info": {
   "codemirror_mode": {
    "name": "ipython",
    "version": 3
   },
   "file_extension": ".py",
   "mimetype": "text/x-python",
   "name": "python",
   "nbconvert_exporter": "python",
   "pygments_lexer": "ipython3",
   "version": "3.9.17"
  }
 },
 "nbformat": 4,
 "nbformat_minor": 5
}
