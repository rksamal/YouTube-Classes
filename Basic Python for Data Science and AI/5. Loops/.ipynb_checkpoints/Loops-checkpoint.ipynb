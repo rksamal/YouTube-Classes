{
 "cells": [
  {
   "cell_type": "markdown",
   "id": "6e4d8917",
   "metadata": {},
   "source": [
    "<img src=https://lstms-brainybits.s3.ap-south-1.amazonaws.com/green+logo.png width=\"300\" height=\"200\" style=\"float: left; margin-right: 8px;\">"
   ]
  },
  {
   "cell_type": "markdown",
   "id": "4225a942",
   "metadata": {},
   "source": [
    "We believe in empowering individuals with the\n",
    "knowledge and skills they need to become lifelong\n",
    "learners. Our self-learning website offers a diverse\n",
    "range of high-quality, interactive courses.\n",
    "**All rights reserved to BrainyBits. Unauthorized reproduction or distribution of this content is prohibited.** "
   ]
  },
  {
   "cell_type": "markdown",
   "id": "4414d114",
   "metadata": {},
   "source": [
    "# Loops"
   ]
  },
  {
   "cell_type": "markdown",
   "id": "5b569ebb",
   "metadata": {},
   "source": [
    "### 1. For loop"
   ]
  },
  {
   "cell_type": "code",
   "execution_count": 2,
   "id": "a41aeb1b",
   "metadata": {},
   "outputs": [
    {
     "name": "stdout",
     "output_type": "stream",
     "text": [
      "The item of my list is:  New item\n",
      "The item of my list is:  Old item\n",
      "The item of my list is:  3\n",
      "The item of my list is:  4\n",
      "The item of my list is:  7.5\n",
      "The item of my list is:  True\n",
      "The item of my list is:  False\n"
     ]
    }
   ],
   "source": [
    "my_list = [\"New item\", \"Old item\", 3, 4, 7.5, True, False]\n",
    "\n",
    "for item in my_list:\n",
    "    print(\"The item of my list is: \", item)"
   ]
  },
  {
   "cell_type": "markdown",
   "id": "277a529e",
   "metadata": {},
   "source": [
    "### 2. While loop"
   ]
  },
  {
   "cell_type": "code",
   "execution_count": 5,
   "id": "2e37bddd",
   "metadata": {},
   "outputs": [
    {
     "name": "stdout",
     "output_type": "stream",
     "text": [
      "1\n",
      "2\n",
      "3\n",
      "4\n",
      "5\n",
      "6\n",
      "7\n",
      "8\n",
      "9\n",
      "10\n",
      "Counting is finished\n"
     ]
    }
   ],
   "source": [
    "count = 0\n",
    "\n",
    "while count <= 9:\n",
    "    count += 1\n",
    "    print(count)\n",
    "\n",
    "print(\"Counting is finished\")"
   ]
  },
  {
   "cell_type": "markdown",
   "id": "9a03bd43",
   "metadata": {},
   "source": [
    "### 3. For loop with Range function"
   ]
  },
  {
   "cell_type": "code",
   "execution_count": 9,
   "id": "933f84f8",
   "metadata": {},
   "outputs": [
    {
     "name": "stdout",
     "output_type": "stream",
     "text": [
      "1\n",
      "2\n",
      "3\n",
      "4\n",
      "5\n",
      "6\n",
      "7\n",
      "8\n",
      "9\n",
      "10\n",
      "11\n",
      "12\n",
      "13\n",
      "14\n",
      "15\n",
      "16\n",
      "17\n",
      "18\n",
      "19\n",
      "20\n"
     ]
    }
   ],
   "source": [
    "for i in range(1, 21):\n",
    "    print(i)\n"
   ]
  },
  {
   "cell_type": "code",
   "execution_count": 11,
   "id": "8559672d",
   "metadata": {},
   "outputs": [
    {
     "name": "stdout",
     "output_type": "stream",
     "text": [
      "New item\n",
      "Old item\n",
      "3\n",
      "4\n",
      "7.5\n",
      "True\n",
      "False\n"
     ]
    }
   ],
   "source": [
    "my_list = [\"New item\", \"Old item\", 3, 4, 7.5, True, False]\n",
    "\n",
    "for i in range(len(my_list)):\n",
    "    print(my_list[i])"
   ]
  },
  {
   "cell_type": "markdown",
   "id": "79e51ecb",
   "metadata": {},
   "source": [
    "### 4. Loops with Conditional Statements"
   ]
  },
  {
   "cell_type": "code",
   "execution_count": 12,
   "id": "f48aa412",
   "metadata": {},
   "outputs": [
    {
     "name": "stdout",
     "output_type": "stream",
     "text": [
      "Item Not Found\n",
      "Item Not Found\n",
      "Item Not Found\n",
      "Item Not Found\n",
      "Item Not Found\n",
      "Item Found in list:  True\n",
      "Item Not Found\n"
     ]
    }
   ],
   "source": [
    "my_list = [\"New item\", \"Old item\", 3, 4, 7.5, True, False]\n",
    "\n",
    "for i in my_list:\n",
    "    if i == True:\n",
    "        print(\"Item Found in list: \", i)\n",
    "    else:\n",
    "        print(\"Item Not Found\")"
   ]
  },
  {
   "cell_type": "markdown",
   "id": "2607959d",
   "metadata": {},
   "source": [
    "### 5. Brake and Continue with For loop"
   ]
  },
  {
   "cell_type": "code",
   "execution_count": 13,
   "id": "7a153143",
   "metadata": {},
   "outputs": [
    {
     "name": "stdout",
     "output_type": "stream",
     "text": [
      "Item Not Found\n",
      "Item Not Found\n",
      "Item Found in list:  3\n"
     ]
    }
   ],
   "source": [
    "my_list = [\"New item\", \"Old item\", 3, 4, 7.5, True, False]\n",
    "\n",
    "for i in my_list:\n",
    "    if i == 3:\n",
    "        print(\"Item Found in list: \", i)\n",
    "        break\n",
    "    else:\n",
    "        print(\"Item Not Found\")\n",
    "        continue"
   ]
  },
  {
   "cell_type": "markdown",
   "id": "cc33509c",
   "metadata": {},
   "source": [
    "### 6. List Comprehensions"
   ]
  },
  {
   "cell_type": "code",
   "execution_count": 16,
   "id": "92e58c06",
   "metadata": {},
   "outputs": [],
   "source": [
    "list_numbers = []\n",
    "\n",
    "for i in range(1, 101):\n",
    "    list_numbers.append(i)\n"
   ]
  },
  {
   "cell_type": "code",
   "execution_count": 18,
   "id": "1927b559",
   "metadata": {},
   "outputs": [
    {
     "name": "stdout",
     "output_type": "stream",
     "text": [
      "[1, 2, 3, 4, 5, 6, 7, 8, 9, 10, 11, 12, 13, 14, 15, 16, 17, 18, 19, 20, 21, 22, 23, 24, 25, 26, 27, 28, 29, 30, 31, 32, 33, 34, 35, 36, 37, 38, 39, 40, 41, 42, 43, 44, 45, 46, 47, 48, 49, 50, 51, 52, 53, 54, 55, 56, 57, 58, 59, 60, 61, 62, 63, 64, 65, 66, 67, 68, 69, 70, 71, 72, 73, 74, 75, 76, 77, 78, 79, 80, 81, 82, 83, 84, 85, 86, 87, 88, 89, 90, 91, 92, 93, 94, 95, 96, 97, 98, 99, 100]\n"
     ]
    }
   ],
   "source": [
    "print(list_numbers)"
   ]
  },
  {
   "cell_type": "code",
   "execution_count": 23,
   "id": "23527a62",
   "metadata": {},
   "outputs": [],
   "source": [
    "new_list = [item for item in range(1, 101)]"
   ]
  },
  {
   "cell_type": "code",
   "execution_count": null,
   "id": "28222443",
   "metadata": {},
   "outputs": [],
   "source": [
    "new_list = [item for item in range(1, 101) if item % 2 == 0]"
   ]
  },
  {
   "cell_type": "code",
   "execution_count": 24,
   "id": "3083f23e",
   "metadata": {},
   "outputs": [
    {
     "name": "stdout",
     "output_type": "stream",
     "text": [
      "[2, 4, 6, 8, 10, 12, 14, 16, 18, 20, 22, 24, 26, 28, 30, 32, 34, 36, 38, 40, 42, 44, 46, 48, 50, 52, 54, 56, 58, 60, 62, 64, 66, 68, 70, 72, 74, 76, 78, 80, 82, 84, 86, 88, 90, 92, 94, 96, 98, 100]\n"
     ]
    }
   ],
   "source": [
    "print(new_list)"
   ]
  }
 ],
 "metadata": {
  "kernelspec": {
   "display_name": "Python 3 (ipykernel)",
   "language": "python",
   "name": "python3"
  },
  "language_info": {
   "codemirror_mode": {
    "name": "ipython",
    "version": 3
   },
   "file_extension": ".py",
   "mimetype": "text/x-python",
   "name": "python",
   "nbconvert_exporter": "python",
   "pygments_lexer": "ipython3",
   "version": "3.9.17"
  }
 },
 "nbformat": 4,
 "nbformat_minor": 5
}
