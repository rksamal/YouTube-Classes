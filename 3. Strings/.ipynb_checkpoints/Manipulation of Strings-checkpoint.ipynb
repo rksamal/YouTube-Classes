{
 "cells": [
  {
   "cell_type": "markdown",
   "id": "6e4d8917",
   "metadata": {},
   "source": [
    "<img src=https://lstms-brainybits.s3.ap-south-1.amazonaws.com/green+logo.png width=\"300\" height=\"200\" style=\"float: left; margin-right: 8px;\">"
   ]
  },
  {
   "cell_type": "markdown",
   "id": "4225a942",
   "metadata": {},
   "source": [
    "We believe in empowering individuals with the\n",
    "knowledge and skills they need to become lifelong\n",
    "learners. Our self-learning website offers a diverse\n",
    "range of high-quality, interactive courses.\n",
    "**All rights reserved to BrainyBits. Unauthorized reproduction or distribution of this content is prohibited.** "
   ]
  },
  {
   "cell_type": "markdown",
   "id": "4414d114",
   "metadata": {},
   "source": [
    "# Manipulation of strings"
   ]
  },
  {
   "cell_type": "markdown",
   "id": "5b569ebb",
   "metadata": {},
   "source": [
    "### 1. Concatenation"
   ]
  },
  {
   "cell_type": "code",
   "execution_count": 2,
   "id": "952f14ca",
   "metadata": {},
   "outputs": [],
   "source": [
    "new_text = \"New Institute \" + \"called BrainyBits\""
   ]
  },
  {
   "cell_type": "code",
   "execution_count": 3,
   "id": "23f16a5a",
   "metadata": {},
   "outputs": [
    {
     "name": "stdout",
     "output_type": "stream",
     "text": [
      "New Institute called BrainyBits\n"
     ]
    }
   ],
   "source": [
    "print(new_text)"
   ]
  },
  {
   "cell_type": "markdown",
   "id": "277a529e",
   "metadata": {},
   "source": [
    "### 2. Length"
   ]
  },
  {
   "cell_type": "code",
   "execution_count": 4,
   "id": "937ba65f",
   "metadata": {},
   "outputs": [
    {
     "data": {
      "text/plain": [
       "31"
      ]
     },
     "execution_count": 4,
     "metadata": {},
     "output_type": "execute_result"
    }
   ],
   "source": [
    "len(new_text)"
   ]
  },
  {
   "cell_type": "code",
   "execution_count": null,
   "id": "66a0762c",
   "metadata": {},
   "outputs": [],
   "source": []
  },
  {
   "cell_type": "markdown",
   "id": "9a03bd43",
   "metadata": {},
   "source": [
    "### 3. Accessing Characters:"
   ]
  },
  {
   "cell_type": "code",
   "execution_count": 5,
   "id": "beac284d",
   "metadata": {},
   "outputs": [
    {
     "data": {
      "text/plain": [
       "'w'"
      ]
     },
     "execution_count": 5,
     "metadata": {},
     "output_type": "execute_result"
    }
   ],
   "source": [
    "new_text[2]"
   ]
  },
  {
   "cell_type": "code",
   "execution_count": null,
   "id": "446a1173",
   "metadata": {},
   "outputs": [],
   "source": []
  },
  {
   "cell_type": "markdown",
   "id": "79e51ecb",
   "metadata": {},
   "source": [
    "### 4. Slicing"
   ]
  },
  {
   "cell_type": "code",
   "execution_count": 9,
   "id": "23fa657c",
   "metadata": {},
   "outputs": [],
   "source": [
    "new_word = new_text[4:13]"
   ]
  },
  {
   "cell_type": "code",
   "execution_count": 10,
   "id": "ae629787",
   "metadata": {},
   "outputs": [
    {
     "data": {
      "text/plain": [
       "'Institute'"
      ]
     },
     "execution_count": 10,
     "metadata": {},
     "output_type": "execute_result"
    }
   ],
   "source": [
    "new_word"
   ]
  },
  {
   "cell_type": "markdown",
   "id": "78bdb62b",
   "metadata": {},
   "source": [
    "### 5. Upper and Lower Case:"
   ]
  },
  {
   "cell_type": "code",
   "execution_count": 11,
   "id": "03ab9a67",
   "metadata": {},
   "outputs": [
    {
     "data": {
      "text/plain": [
       "'INSTITUTE'"
      ]
     },
     "execution_count": 11,
     "metadata": {},
     "output_type": "execute_result"
    }
   ],
   "source": [
    "new_word.upper()"
   ]
  },
  {
   "cell_type": "code",
   "execution_count": 13,
   "id": "8cb1557a",
   "metadata": {},
   "outputs": [
    {
     "data": {
      "text/plain": [
       "'institute'"
      ]
     },
     "execution_count": 13,
     "metadata": {},
     "output_type": "execute_result"
    }
   ],
   "source": [
    "new_word.lower()"
   ]
  },
  {
   "cell_type": "code",
   "execution_count": 14,
   "id": "355a56cf",
   "metadata": {},
   "outputs": [
    {
     "data": {
      "text/plain": [
       "'Institute'"
      ]
     },
     "execution_count": 14,
     "metadata": {},
     "output_type": "execute_result"
    }
   ],
   "source": [
    "new_word.title()"
   ]
  },
  {
   "cell_type": "code",
   "execution_count": null,
   "id": "cc6d9f3b",
   "metadata": {},
   "outputs": [],
   "source": []
  },
  {
   "cell_type": "markdown",
   "id": "cd556a78",
   "metadata": {},
   "source": [
    "### 6. Replace"
   ]
  },
  {
   "cell_type": "code",
   "execution_count": 15,
   "id": "76b234f2",
   "metadata": {},
   "outputs": [
    {
     "data": {
      "text/plain": [
       "'New Institute called BrainyBits'"
      ]
     },
     "execution_count": 15,
     "metadata": {},
     "output_type": "execute_result"
    }
   ],
   "source": [
    "new_text"
   ]
  },
  {
   "cell_type": "code",
   "execution_count": 16,
   "id": "4ed5cef7",
   "metadata": {},
   "outputs": [
    {
     "data": {
      "text/plain": [
       "'Old Institute called BrainyBits'"
      ]
     },
     "execution_count": 16,
     "metadata": {},
     "output_type": "execute_result"
    }
   ],
   "source": [
    "new_text.replace(\"New\", \"Old\")"
   ]
  },
  {
   "cell_type": "code",
   "execution_count": null,
   "id": "95c53d5a",
   "metadata": {},
   "outputs": [],
   "source": []
  },
  {
   "cell_type": "markdown",
   "id": "581c6c72",
   "metadata": {},
   "source": [
    "### 7. Split"
   ]
  },
  {
   "cell_type": "code",
   "execution_count": 17,
   "id": "d47d8299",
   "metadata": {},
   "outputs": [
    {
     "data": {
      "text/plain": [
       "['New', 'Institute', 'called', 'BrainyBits']"
      ]
     },
     "execution_count": 17,
     "metadata": {},
     "output_type": "execute_result"
    }
   ],
   "source": [
    "new_text.split()"
   ]
  },
  {
   "cell_type": "code",
   "execution_count": 18,
   "id": "f3cd6154",
   "metadata": {},
   "outputs": [],
   "source": [
    "old_text = 'Old,Institute,called,BrainyBits'"
   ]
  },
  {
   "cell_type": "code",
   "execution_count": 19,
   "id": "0f387975",
   "metadata": {},
   "outputs": [
    {
     "data": {
      "text/plain": [
       "['Old', 'Institute', 'called', 'BrainyBits']"
      ]
     },
     "execution_count": 19,
     "metadata": {},
     "output_type": "execute_result"
    }
   ],
   "source": [
    "old_text.split(\",\")"
   ]
  },
  {
   "cell_type": "markdown",
   "id": "e013e028",
   "metadata": {},
   "source": [
    "### 8. Stripping Whitespaces"
   ]
  },
  {
   "cell_type": "code",
   "execution_count": 21,
   "id": "65891634",
   "metadata": {},
   "outputs": [
    {
     "data": {
      "text/plain": [
       "'Old Institute called BrainyBits'"
      ]
     },
     "execution_count": 21,
     "metadata": {},
     "output_type": "execute_result"
    }
   ],
   "source": [
    "new_str = 'Old Institute called BrainyBits    '\n",
    "new_str.strip()"
   ]
  },
  {
   "cell_type": "code",
   "execution_count": null,
   "id": "b23e92ea",
   "metadata": {},
   "outputs": [],
   "source": []
  },
  {
   "cell_type": "code",
   "execution_count": null,
   "id": "c3973155",
   "metadata": {},
   "outputs": [],
   "source": []
  }
 ],
 "metadata": {
  "kernelspec": {
   "display_name": "Python 3 (ipykernel)",
   "language": "python",
   "name": "python3"
  },
  "language_info": {
   "codemirror_mode": {
    "name": "ipython",
    "version": 3
   },
   "file_extension": ".py",
   "mimetype": "text/x-python",
   "name": "python",
   "nbconvert_exporter": "python",
   "pygments_lexer": "ipython3",
   "version": "3.9.17"
  }
 },
 "nbformat": 4,
 "nbformat_minor": 5
}
