{
 "cells": [
  {
   "cell_type": "markdown",
   "id": "6e4d8917",
   "metadata": {},
   "source": [
    "<img src=https://lstms-brainybits.s3.ap-south-1.amazonaws.com/green+logo.png width=\"300\" height=\"200\" style=\"float: left; margin-right: 8px;\">"
   ]
  },
  {
   "cell_type": "markdown",
   "id": "4225a942",
   "metadata": {},
   "source": [
    "We believe in empowering individuals with the\n",
    "knowledge and skills they need to become lifelong\n",
    "learners. Our self-learning website offers a diverse\n",
    "range of high-quality, interactive courses.\n",
    "**All rights reserved to BrainyBits. Unauthorized reproduction or distribution of this content is prohibited.** "
   ]
  },
  {
   "cell_type": "markdown",
   "id": "4414d114",
   "metadata": {},
   "source": [
    "# Manipulation of strings"
   ]
  },
  {
   "cell_type": "markdown",
   "id": "5b569ebb",
   "metadata": {},
   "source": [
    "**1. Create two strings, concatenate them, and print the result in uppercase.**"
   ]
  },
  {
   "cell_type": "code",
   "execution_count": 1,
   "id": "a41aeb1b",
   "metadata": {},
   "outputs": [
    {
     "name": "stdout",
     "output_type": "stream",
     "text": [
      "HELLOWORLD\n"
     ]
    }
   ],
   "source": [
    "## Write your code below ##\n",
    "\n",
    "# Create two strings\n",
    "string1 = \"hello\"\n",
    "string2 = \"world\"\n",
    "\n",
    "# Concatenate the strings\n",
    "concatenated_string = string1 + string2\n",
    "\n",
    "# Print the result in uppercase\n",
    "\n",
    "print(concatenated_string.upper())"
   ]
  },
  {
   "cell_type": "markdown",
   "id": "277a529e",
   "metadata": {},
   "source": [
    "**2. Create a string and print its length. Then, print the first half of the string.**"
   ]
  },
  {
   "cell_type": "code",
   "execution_count": 2,
   "id": "2e37bddd",
   "metadata": {},
   "outputs": [
    {
     "name": "stdout",
     "output_type": "stream",
     "text": [
      "Length of the string: 11\n",
      "First half of the string: progr\n"
     ]
    }
   ],
   "source": [
    "## Write your code below ##\n",
    "\n",
    "# Create a string\n",
    "my_string = \"programming\"\n",
    "\n",
    "# Print the length of the string\n",
    "print(\"Length of the string:\", len(my_string))\n",
    "\n",
    "# Print the first half of the string\n",
    "half_length = len(my_string) // 2\n",
    "first_half = my_string[:half_length]\n",
    "\n",
    "print(\"First half of the string:\", first_half)"
   ]
  },
  {
   "cell_type": "markdown",
   "id": "9a03bd43",
   "metadata": {},
   "source": [
    "**3. Create a string with repeated characters. Replace one set of characters and print the result in lowercase.**"
   ]
  },
  {
   "cell_type": "code",
   "execution_count": 3,
   "id": "933f84f8",
   "metadata": {},
   "outputs": [
    {
     "name": "stdout",
     "output_type": "stream",
     "text": [
      "zbracadabra\n"
     ]
    }
   ],
   "source": [
    "## Write your code below ##\n",
    "\n",
    "# Create a string with repeated characters\n",
    "original_string = \"abracadabra\"\n",
    "\n",
    "# Replace one set of characters\n",
    "modified_string = original_string.replace(\"a\", \"z\", 1)\n",
    "\n",
    "# Print the result in lowercase\n",
    "print(modified_string.lower())"
   ]
  },
  {
   "cell_type": "markdown",
   "id": "79e51ecb",
   "metadata": {},
   "source": [
    "**4. Create a sentence. Split it into words and then join the words back into a sentence.**"
   ]
  },
  {
   "cell_type": "code",
   "execution_count": 6,
   "id": "f48aa412",
   "metadata": {},
   "outputs": [
    {
     "name": "stdout",
     "output_type": "stream",
     "text": [
      "Original Sentence: Python programming is fun and versatile\n",
      "['Python', 'programming', 'is', 'fun', 'and', 'versatile']\n",
      "Joined Sentence: Python programming is fun and versatile\n"
     ]
    }
   ],
   "source": [
    "## Write your code below ##\n",
    "\n",
    "# Create a sentence\n",
    "original_sentence = \"Python programming is fun and versatile\"\n",
    "\n",
    "# Split the sentence into words\n",
    "words_list = original_sentence.split()\n",
    "\n",
    "# Join the words back into a sentence\n",
    "joined_sentence = ' '.join(words_list)\n",
    "\n",
    "# Print the result\n",
    "print(\"Original Sentence:\", original_sentence)\n",
    "print(words_list)\n",
    "print(\"Joined Sentence:\", joined_sentence)"
   ]
  },
  {
   "cell_type": "markdown",
   "id": "78bdb62b",
   "metadata": {},
   "source": [
    "**5. Create a string and print the first, last, and middle characters.**"
   ]
  },
  {
   "cell_type": "code",
   "execution_count": 7,
   "id": "ba7590ad",
   "metadata": {},
   "outputs": [
    {
     "name": "stdout",
     "output_type": "stream",
     "text": [
      "First Character: H\n",
      "Last Character: d\n",
      "Middle Character: W\n"
     ]
    }
   ],
   "source": [
    "## Write your code below ##\n",
    "\n",
    "# Create a string\n",
    "my_string = \"HelloWorld\"\n",
    "\n",
    "# Print the first, last, and middle characters\n",
    "first_char = my_string[0]\n",
    "last_char = my_string[-1]\n",
    "middle_char = my_string[len(my_string)//2]\n",
    "\n",
    "# Print the results\n",
    "print(\"First Character:\", first_char)\n",
    "print(\"Last Character:\", last_char)\n",
    "print(\"Middle Character:\", middle_char)"
   ]
  },
  {
   "cell_type": "markdown",
   "id": "cd556a78",
   "metadata": {},
   "source": [
    "**6. Create a string with leading and trailing whitespaces. Remove the whitespaces and print the result.**"
   ]
  },
  {
   "cell_type": "code",
   "execution_count": 8,
   "id": "76b234f2",
   "metadata": {},
   "outputs": [
    {
     "name": "stdout",
     "output_type": "stream",
     "text": [
      "Original String:    Python Programming   \n",
      "Stripped String: Python Programming\n"
     ]
    }
   ],
   "source": [
    "## Write your code below ##\n",
    "\n",
    "# Create a string with leading and trailing whitespaces\n",
    "my_string = \"   Python Programming   \"\n",
    "\n",
    "# Remove the whitespaces\n",
    "stripped_string = my_string.strip()\n",
    "\n",
    "# Print the result\n",
    "print(\"Original String:\", my_string)\n",
    "print(\"Stripped String:\", stripped_string)"
   ]
  },
  {
   "cell_type": "markdown",
   "id": "581c6c72",
   "metadata": {},
   "source": [
    "**7. Create a string and print it in reverse order.**"
   ]
  },
  {
   "cell_type": "code",
   "execution_count": 9,
   "id": "d47d8299",
   "metadata": {},
   "outputs": [
    {
     "name": "stdout",
     "output_type": "stream",
     "text": [
      "Original String: Python Programming\n",
      "Reversed String: gnimmargorP nohtyP\n"
     ]
    }
   ],
   "source": [
    "## Write your code below ##\n",
    "\n",
    "# Create a string\n",
    "my_string = \"Python Programming\"\n",
    "\n",
    "# Print the string in reverse order\n",
    "reversed_string = my_string[::-1]\n",
    "\n",
    "# Print the result\n",
    "print(\"Original String:\", my_string)\n",
    "print(\"Reversed String:\", reversed_string)"
   ]
  }
 ],
 "metadata": {
  "kernelspec": {
   "display_name": "Python 3 (ipykernel)",
   "language": "python",
   "name": "python3"
  },
  "language_info": {
   "codemirror_mode": {
    "name": "ipython",
    "version": 3
   },
   "file_extension": ".py",
   "mimetype": "text/x-python",
   "name": "python",
   "nbconvert_exporter": "python",
   "pygments_lexer": "ipython3",
   "version": "3.9.17"
  }
 },
 "nbformat": 4,
 "nbformat_minor": 5
}
