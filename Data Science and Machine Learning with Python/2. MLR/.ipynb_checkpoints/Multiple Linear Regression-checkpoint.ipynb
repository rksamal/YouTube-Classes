{
 "cells": [
  {
   "cell_type": "markdown",
   "id": "7025144f-1c4c-4e17-8350-043c960215a6",
   "metadata": {},
   "source": [
    "<img src=https://lstms-brainybits.s3.ap-south-1.amazonaws.com/green+logo.png width=\"300\" height=\"200\" style=\"float: left; margin-right: 8px;\">"
   ]
  },
  {
   "cell_type": "markdown",
   "id": "144bed68-08c8-4adc-9253-80a2136d01fe",
   "metadata": {},
   "source": [
    "We believe in empowering individuals with the\n",
    "knowledge and skills they need to become lifelong\n",
    "learners. Our self-learning website offers a diverse\n",
    "range of high-quality, interactive courses.\n",
    "**All rights reserved to BrainyBits. Unauthorized reproduction or distribution of this content is prohibited.** "
   ]
  },
  {
   "cell_type": "markdown",
   "id": "58fc806b-a2a1-40d6-bfdd-4e5614c59fed",
   "metadata": {},
   "source": [
    "# Multiple Linear Regression"
   ]
  },
  {
   "cell_type": "markdown",
   "id": "3a5c1678-be30-4d26-b7c3-d6f74491e3bf",
   "metadata": {},
   "source": [
    "### 1. Importing the libraries"
   ]
  },
  {
   "cell_type": "code",
   "execution_count": null,
   "id": "5ec5a35a-d11a-4ecb-8997-db1e9e8d171b",
   "metadata": {},
   "outputs": [],
   "source": [
    "#Importing the libraries\n",
    "import pandas as pd\n",
    "import numpy as np\n",
    "import matplotlib.pyplot as plt\n",
    "import seaborn as sns\n",
    "\n",
    "import warnings\n",
    "warnings.filterwarnings(\"ignore\")"
   ]
  },
  {
   "cell_type": "markdown",
   "id": "73f47ba2-efa2-4ccc-bbfb-102cbc2a3947",
   "metadata": {},
   "source": [
    "### 2. Importing the dataset"
   ]
  },
  {
   "cell_type": "code",
   "execution_count": null,
   "id": "f20227c5-cc9a-41a8-b3b7-122969f9beb8",
   "metadata": {},
   "outputs": [],
   "source": [
    "dataset = pd.read_csv('50_Startups.csv')"
   ]
  },
  {
   "cell_type": "markdown",
   "id": "35362699",
   "metadata": {},
   "source": [
    "### 3) Exploratory Data Analysis"
   ]
  },
  {
   "cell_type": "code",
   "execution_count": null,
   "id": "31c0ba16",
   "metadata": {},
   "outputs": [],
   "source": [
    "dataset.head()"
   ]
  },
  {
   "cell_type": "code",
   "execution_count": null,
   "id": "be01f218",
   "metadata": {},
   "outputs": [],
   "source": [
    "dataset.shape"
   ]
  },
  {
   "cell_type": "code",
   "execution_count": null,
   "id": "09f6a265",
   "metadata": {},
   "outputs": [],
   "source": [
    "dataset.isna().sum()"
   ]
  },
  {
   "cell_type": "code",
   "execution_count": null,
   "id": "83aadae4",
   "metadata": {},
   "outputs": [],
   "source": [
    "dataset.duplicated().any()"
   ]
  },
  {
   "cell_type": "code",
   "execution_count": null,
   "id": "e4fc832b",
   "metadata": {},
   "outputs": [],
   "source": [
    "fig, axs = plt.subplots(3, figsize = (5,5))\n",
    "plt1 = sns.boxplot(dataset['R&D Spend'], ax = axs[0])\n",
    "plt2 = sns.boxplot(dataset['Administration'], ax = axs[1])\n",
    "plt3 = sns.boxplot(dataset['Marketing Spend'], ax = axs[2])\n",
    "plt.tight_layout()"
   ]
  },
  {
   "cell_type": "code",
   "execution_count": null,
   "id": "ad30e196",
   "metadata": {},
   "outputs": [],
   "source": [
    "sns.distplot(dataset['R&D Spend']);"
   ]
  },
  {
   "cell_type": "code",
   "execution_count": null,
   "id": "21c8e3eb",
   "metadata": {},
   "outputs": [],
   "source": [
    "sns.distplot(dataset['Administration']);"
   ]
  },
  {
   "cell_type": "code",
   "execution_count": null,
   "id": "8152f1a8",
   "metadata": {},
   "outputs": [],
   "source": [
    "sns.distplot(dataset['Marketing Spend']);"
   ]
  },
  {
   "cell_type": "code",
   "execution_count": null,
   "id": "081d00a0",
   "metadata": {},
   "outputs": [],
   "source": [
    "sns.pairplot(dataset)"
   ]
  },
  {
   "cell_type": "code",
   "execution_count": null,
   "id": "182ae09c",
   "metadata": {},
   "outputs": [],
   "source": [
    "sns.pairplot(dataset, x_vars=[\"R&D Spend\", \"Administration\", \"Marketing Spend\"], y_vars='Profit', height=4, aspect=1, kind='scatter')\n",
    "plt.show()"
   ]
  },
  {
   "cell_type": "code",
   "execution_count": null,
   "id": "1a4eb838",
   "metadata": {},
   "outputs": [],
   "source": [
    "df1 = dataset[[\"R&D Spend\", \"Administration\", \"Marketing Spend\"]]\n",
    "sns.heatmap(df1.corr(), annot = True)\n",
    "plt.show()"
   ]
  },
  {
   "cell_type": "markdown",
   "id": "e138422e-459c-4e19-a789-a9eb34c4cf28",
   "metadata": {},
   "source": [
    "### 4. Data Preprocessing "
   ]
  },
  {
   "cell_type": "code",
   "execution_count": null,
   "id": "3c4df89b-282a-49b8-8ae7-9fdf8572e6d9",
   "metadata": {},
   "outputs": [],
   "source": [
    "# Converting Categorical variable to numerical variable\n",
    "from sklearn.preprocessing import OneHotEncoder\n",
    "\n",
    "encoder = OneHotEncoder(sparse=False)\n",
    "df_encoded = pd.DataFrame(encoder.fit_transform(dataset[['State']]), columns=encoder.get_feature_names_out(['State']))\n",
    "df_encoded = pd.concat([dataset, df_encoded], axis=1)\n",
    "df_encoded.drop(['State'], axis=1, inplace=True)"
   ]
  },
  {
   "cell_type": "code",
   "execution_count": null,
   "id": "8e885cf5-606a-42ac-a49a-5c6a0f9691c7",
   "metadata": {},
   "outputs": [],
   "source": [
    "df_encoded"
   ]
  },
  {
   "cell_type": "markdown",
   "id": "9d0a27f9-add9-4be9-ac1a-b78df3665c91",
   "metadata": {},
   "source": [
    "### 5. Splitting the dataset into the Training set and Test set"
   ]
  },
  {
   "cell_type": "code",
   "execution_count": null,
   "id": "e07762e8-9f72-4335-8ba9-1fc411849bb9",
   "metadata": {},
   "outputs": [],
   "source": [
    "from sklearn.model_selection import train_test_split\n",
    "from sklearn.linear_model import LinearRegression\n",
    "from sklearn import metrics\n",
    "\n",
    "#Setting the value for X and Y\n",
    "X = df_encoded.drop(['Profit'], axis=1)\n",
    "y = df_encoded['Profit']\n",
    "\n",
    "X_train, X_test, y_train, y_test = train_test_split(X, y, test_size = 0.2, random_state = 0)"
   ]
  },
  {
   "cell_type": "code",
   "execution_count": null,
   "id": "76f0c14a",
   "metadata": {},
   "outputs": [],
   "source": [
    "print('X_train dimension= ', X_train.shape)\n",
    "print('X_test dimension= ', X_test.shape)\n",
    "print('y_train dimension= ', y_train.shape)\n",
    "print('y_train dimension= ', y_test.shape)"
   ]
  },
  {
   "cell_type": "markdown",
   "id": "cfdf7488",
   "metadata": {},
   "source": [
    "### 6) MLR Model Building with sklearn package"
   ]
  },
  {
   "cell_type": "code",
   "execution_count": null,
   "id": "ea976b15",
   "metadata": {},
   "outputs": [],
   "source": [
    "mlr = LinearRegression() \n",
    "mlr.fit(X_train, y_train) "
   ]
  },
  {
   "cell_type": "code",
   "execution_count": null,
   "id": "e082eb81",
   "metadata": {},
   "outputs": [],
   "source": [
    "#Printing the model coefficients\n",
    "print(mlr.intercept_)\n",
    "# pair the feature names with the coefficients\n",
    "list(zip(X, mlr.coef_))"
   ]
  },
  {
   "cell_type": "code",
   "execution_count": null,
   "id": "ca5e2f42",
   "metadata": {},
   "outputs": [],
   "source": [
    "#Predicting the Test and Train set result \n",
    "y_pred_mlr = mlr.predict(X_test)  \n",
    "x_pred_mlr = mlr.predict(X_train)  "
   ]
  },
  {
   "cell_type": "code",
   "execution_count": null,
   "id": "3b1c788a",
   "metadata": {},
   "outputs": [],
   "source": [
    "#Actual value and the predicted value\n",
    "mlr_diff = pd.DataFrame({'Actual value': y_test, 'Predicted value': y_pred_mlr})\n",
    "mlr_diff"
   ]
  },
  {
   "cell_type": "code",
   "execution_count": null,
   "id": "aa141009",
   "metadata": {},
   "outputs": [],
   "source": [
    "#Predict for any value\n",
    "\n",
    "mlr.predict([[134544, 90022, 362443, 1, 0, 0]])"
   ]
  },
  {
   "cell_type": "markdown",
   "id": "92a91d42",
   "metadata": {},
   "source": [
    "### Observation"
   ]
  },
  {
   "cell_type": "markdown",
   "id": "8e46a301",
   "metadata": {},
   "source": [
    "#### Above number is the profit value"
   ]
  },
  {
   "cell_type": "markdown",
   "id": "365ef72a",
   "metadata": {},
   "source": [
    "### 7) Model Evaluation with Regression metrics "
   ]
  },
  {
   "cell_type": "code",
   "execution_count": null,
   "id": "b64fa31a",
   "metadata": {},
   "outputs": [],
   "source": [
    "# 0 means the model is perfect. Therefore the value should be as close to 0 as possible\n",
    "meanAbErr = metrics.mean_absolute_error(y_test, y_pred_mlr)\n",
    "meanSqErr = metrics.mean_squared_error(y_test, y_pred_mlr)\n",
    "rootMeanSqErr = np.sqrt(metrics.mean_squared_error(y_test, y_pred_mlr))\n",
    "\n",
    "print('Mean Absolute Error:', meanAbErr)\n",
    "print('Mean Square Error:', meanSqErr)\n",
    "print('Root Mean Square Error:', rootMeanSqErr)"
   ]
  },
  {
   "cell_type": "code",
   "execution_count": null,
   "id": "ab7776ba",
   "metadata": {},
   "outputs": [],
   "source": [
    "# print the R-squared value for the model\n",
    "print('R squared value of the model: {:.2f}'.format(mlr.score(X,y)*100))"
   ]
  }
 ],
 "metadata": {
  "kernelspec": {
   "display_name": "Python 3 (ipykernel)",
   "language": "python",
   "name": "python3"
  },
  "language_info": {
   "codemirror_mode": {
    "name": "ipython",
    "version": 3
   },
   "file_extension": ".py",
   "mimetype": "text/x-python",
   "name": "python",
   "nbconvert_exporter": "python",
   "pygments_lexer": "ipython3",
   "version": "3.9.17"
  }
 },
 "nbformat": 4,
 "nbformat_minor": 5
}
