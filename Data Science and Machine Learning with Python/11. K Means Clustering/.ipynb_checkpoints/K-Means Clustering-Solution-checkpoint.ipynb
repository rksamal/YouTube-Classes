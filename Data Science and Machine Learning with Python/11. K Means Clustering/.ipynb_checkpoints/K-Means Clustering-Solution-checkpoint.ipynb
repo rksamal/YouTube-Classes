{
 "cells": [
  {
   "cell_type": "markdown",
   "id": "3e492e88-faca-4d7f-b164-15e18b1e913f",
   "metadata": {},
   "source": [
    "<img src=https://lstms-brainybits.s3.ap-south-1.amazonaws.com/green+logo.png width=\"300\" height=\"200\" style=\"float: left; margin-right: 8px;\">"
   ]
  },
  {
   "cell_type": "markdown",
   "id": "35723a74-4e8c-46d7-a99b-be9fb4b10dde",
   "metadata": {},
   "source": [
    "We believe in empowering individuals with the\n",
    "knowledge and skills they need to become lifelong\n",
    "learners. Our self-learning website offers a diverse\n",
    "range of high-quality, interactive courses.\n",
    "**All rights reserved to BrainyBits. Unauthorized reproduction or distribution of this content is prohibited.**"
   ]
  },
  {
   "cell_type": "markdown",
   "id": "6c0aead2-7847-457f-900d-3927897e872e",
   "metadata": {},
   "source": [
    "# K-Means Clustering"
   ]
  },
  {
   "cell_type": "markdown",
   "id": "cecbdfaa-8df9-4989-bb33-041c29979dc5",
   "metadata": {},
   "source": [
    "### 1. Importing the libraries"
   ]
  },
  {
   "cell_type": "code",
   "execution_count": null,
   "id": "1539288e-f5d1-4f6e-acbf-43898fad4b91",
   "metadata": {},
   "outputs": [],
   "source": [
    "import numpy as np\n",
    "import matplotlib.pyplot as plt\n",
    "import pandas as pd\n",
    "import seaborn as sns\n",
    "import os"
   ]
  },
  {
   "cell_type": "markdown",
   "id": "c43ed42b-6d81-45d5-b562-f239c9f69599",
   "metadata": {},
   "source": [
    "### 2.Importing the dataset"
   ]
  },
  {
   "cell_type": "code",
   "execution_count": null,
   "id": "0b0034fe-49fe-44c9-b41b-c230bdb38cf6",
   "metadata": {},
   "outputs": [],
   "source": [
    "data=pd.read_csv('CC GENERAL.csv')"
   ]
  },
  {
   "cell_type": "code",
   "execution_count": null,
   "id": "5ef24eaf-c4cd-4330-aff2-108858d46b81",
   "metadata": {},
   "outputs": [],
   "source": [
    "data.head()"
   ]
  },
  {
   "cell_type": "code",
   "execution_count": null,
   "id": "7dbc9f21-9dc6-4851-b5e7-080131271e36",
   "metadata": {},
   "outputs": [],
   "source": [
    "data.describe()"
   ]
  },
  {
   "cell_type": "code",
   "execution_count": null,
   "id": "268f93e4-36c8-4fc3-a9f4-f4f7a618a50c",
   "metadata": {},
   "outputs": [],
   "source": [
    "data.dropna(axis=0, subset=['CREDIT_LIMIT'], inplace=True)"
   ]
  },
  {
   "cell_type": "code",
   "execution_count": null,
   "id": "87cddbcd-d710-4ea5-805c-d9a654a38a4c",
   "metadata": {},
   "outputs": [],
   "source": [
    "from sklearn.cluster import KMeans\n",
    "X= data.iloc[:, [3,13]].values"
   ]
  },
  {
   "cell_type": "markdown",
   "id": "aeff53d8-8f53-4944-8baf-22e330338ecc",
   "metadata": {},
   "source": [
    "### 3. Visualise data points"
   ]
  },
  {
   "cell_type": "code",
   "execution_count": null,
   "id": "0409d307-ccef-4254-adca-ff3bfe60ce32",
   "metadata": {},
   "outputs": [],
   "source": [
    "plt.scatter(X[:,0],X[:,1],c='black')\n",
    "plt.xlabel('PURCHASES')\n",
    "plt.ylabel('CREDIT_LIMIT')\n",
    "plt.show()"
   ]
  },
  {
   "cell_type": "code",
   "execution_count": null,
   "id": "2a361e7a-43fd-4085-8a35-3a1daf7c7806",
   "metadata": {},
   "outputs": [],
   "source": [
    "kmeans5 = KMeans(n_clusters=5)\n",
    "y_kmeans5 = kmeans5.fit_predict(X)\n",
    "print(y_kmeans5)\n",
    "\n",
    "kmeans5.cluster_centers_"
   ]
  },
  {
   "cell_type": "markdown",
   "id": "89b0f7a7-1987-4579-9f33-4f3372609e09",
   "metadata": {},
   "source": [
    "### 4. Elbow Method"
   ]
  },
  {
   "cell_type": "code",
   "execution_count": null,
   "id": "5cbbfe5d-67d2-4fbb-88a5-69a1208c32eb",
   "metadata": {
    "scrolled": true
   },
   "outputs": [],
   "source": [
    "Error =[]\n",
    "for i in range(1, 11):\n",
    "    kmeans = KMeans(n_clusters = i).fit(X)\n",
    "    kmeans.fit(X)\n",
    "    Error.append(kmeans.inertia_)\n",
    "import matplotlib.pyplot as plt\n",
    "plt.plot(range(1, 11), Error)\n",
    "plt.title('Elbow method')\n",
    "plt.xlabel('No of clusters')\n",
    "plt.ylabel('Error')\n",
    "plt.show()"
   ]
  },
  {
   "cell_type": "markdown",
   "id": "ceb5df00-6f44-4283-80bd-29d79a738ac5",
   "metadata": {},
   "source": [
    "### 5.Training the K- Means dataset"
   ]
  },
  {
   "cell_type": "code",
   "execution_count": null,
   "id": "4843423a-665b-4535-b949-73ece2884449",
   "metadata": {},
   "outputs": [],
   "source": [
    "kmeansmodel = KMeans(n_clusters= 4)\n",
    "y_kmeans= kmeansmodel.fit_predict(X)\n",
    "kmeans.cluster_centers_"
   ]
  },
  {
   "cell_type": "code",
   "execution_count": null,
   "id": "3b75252a-253b-4ddc-8637-5bf63db87e09",
   "metadata": {},
   "outputs": [],
   "source": [
    "### 6. Visualising the clusters"
   ]
  },
  {
   "cell_type": "code",
   "execution_count": null,
   "id": "a0040046-ad19-40c3-8999-ed6f928010b3",
   "metadata": {},
   "outputs": [],
   "source": [
    "plt.scatter(X[:, 0], X[:, 1], s = 300, c = y_kmeans, cmap='rainbow')"
   ]
  },
  {
   "cell_type": "code",
   "execution_count": null,
   "id": "597e4a3f-9d63-4a1c-9226-8ac7e52a1213",
   "metadata": {},
   "outputs": [],
   "source": []
  },
  {
   "cell_type": "code",
   "execution_count": null,
   "id": "86c6e8c2-3b2d-4909-88f9-e8d6fcf4dc5f",
   "metadata": {},
   "outputs": [],
   "source": []
  },
  {
   "cell_type": "code",
   "execution_count": null,
   "id": "4c03712c-658c-4601-bd4e-8be79ae88805",
   "metadata": {},
   "outputs": [],
   "source": []
  },
  {
   "cell_type": "code",
   "execution_count": null,
   "id": "757e9330-2758-459b-9223-b910d3cd8de1",
   "metadata": {},
   "outputs": [],
   "source": []
  },
  {
   "cell_type": "code",
   "execution_count": null,
   "id": "2d38e7ec-8a33-45b8-a5fe-a34916dc0669",
   "metadata": {},
   "outputs": [],
   "source": []
  },
  {
   "cell_type": "code",
   "execution_count": null,
   "id": "0eada52b-148c-4a8b-ab31-8a505a137781",
   "metadata": {},
   "outputs": [],
   "source": []
  },
  {
   "cell_type": "code",
   "execution_count": null,
   "id": "6c2aae9e-15b6-4a8f-b6d2-e0f3a34265e2",
   "metadata": {},
   "outputs": [],
   "source": []
  },
  {
   "cell_type": "code",
   "execution_count": null,
   "id": "9b3e28e3-8667-4528-8be3-d5d0b46c589e",
   "metadata": {},
   "outputs": [],
   "source": []
  },
  {
   "cell_type": "code",
   "execution_count": null,
   "id": "99eb5519-7f8d-48c0-869e-fde489cb7466",
   "metadata": {},
   "outputs": [],
   "source": []
  },
  {
   "cell_type": "code",
   "execution_count": null,
   "id": "96acb0e6-7c75-4fbb-878e-040c9fe3b2b8",
   "metadata": {},
   "outputs": [],
   "source": []
  }
 ],
 "metadata": {
  "kernelspec": {
   "display_name": "Python 3 (ipykernel)",
   "language": "python",
   "name": "python3"
  },
  "language_info": {
   "codemirror_mode": {
    "name": "ipython",
    "version": 3
   },
   "file_extension": ".py",
   "mimetype": "text/x-python",
   "name": "python",
   "nbconvert_exporter": "python",
   "pygments_lexer": "ipython3",
   "version": "3.9.17"
  }
 },
 "nbformat": 4,
 "nbformat_minor": 5
}
