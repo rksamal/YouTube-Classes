{
 "cells": [
  {
   "cell_type": "markdown",
   "id": "fb2cb2fc-01b2-4152-9182-cf65ed69f5e7",
   "metadata": {},
   "source": [
    "<img src=https://lstms-brainybits.s3.ap-south-1.amazonaws.com/green+logo.png width=\"300\" height=\"200\" style=\"float: left; margin-right: 8px;\">"
   ]
  },
  {
   "cell_type": "markdown",
   "id": "31144327-2c42-44fc-be89-c9e7878fa75e",
   "metadata": {},
   "source": [
    "We believe in empowering individuals with the\n",
    "knowledge and skills they need to become lifelong\n",
    "learners. Our self-learning website offers a diverse\n",
    "range of high-quality, interactive courses.\n",
    "**All rights reserved to BrainyBits. Unauthorized reproduction or distribution of this content is prohibited.**"
   ]
  },
  {
   "cell_type": "markdown",
   "id": "f4fe39ca-2368-4656-a658-1f5f02d2d12b",
   "metadata": {},
   "source": [
    "# Logistic Regression"
   ]
  },
  {
   "cell_type": "markdown",
   "id": "05b54174-45c3-4462-b09b-f5295c24c603",
   "metadata": {},
   "source": [
    "### 1. Importing the libraries"
   ]
  },
  {
   "cell_type": "code",
   "execution_count": 1,
   "id": "803733f0-f172-4df1-94e9-7767fc69acd3",
   "metadata": {},
   "outputs": [],
   "source": [
    "import numpy as np # linear algebra\n",
    "import pandas as pd # data processing, CSV file I/O (e.g. pd.read_csv)\n",
    "import matplotlib.pyplot as plt # data visualization\n",
    "import seaborn as sns # statistical data visualization\n",
    "%matplotlib inline\n",
    "\n",
    "import os"
   ]
  },
  {
   "cell_type": "code",
   "execution_count": 2,
   "id": "f8371cf8",
   "metadata": {},
   "outputs": [],
   "source": [
    "import warnings\n",
    "warnings.filterwarnings('ignore')"
   ]
  },
  {
   "cell_type": "markdown",
   "id": "4a9629d4-b680-421e-a12b-bb0316a5af19",
   "metadata": {},
   "source": [
    "### 2. Importing the dataset"
   ]
  },
  {
   "cell_type": "code",
   "execution_count": 4,
   "id": "d684e71e-9f2f-480e-9040-13eadfee5ec8",
   "metadata": {
    "scrolled": true
   },
   "outputs": [],
   "source": [
    "dataset = pd.read_csv('Social_Network_Ads.csv')"
   ]
  },
  {
   "cell_type": "markdown",
   "id": "de78bba2",
   "metadata": {},
   "source": [
    "### 3. Exploratory Data Analysis"
   ]
  },
  {
   "cell_type": "code",
   "execution_count": 5,
   "id": "e19e0a19",
   "metadata": {
    "scrolled": true
   },
   "outputs": [
    {
     "data": {
      "text/html": [
       "<div>\n",
       "<style scoped>\n",
       "    .dataframe tbody tr th:only-of-type {\n",
       "        vertical-align: middle;\n",
       "    }\n",
       "\n",
       "    .dataframe tbody tr th {\n",
       "        vertical-align: top;\n",
       "    }\n",
       "\n",
       "    .dataframe thead th {\n",
       "        text-align: right;\n",
       "    }\n",
       "</style>\n",
       "<table border=\"1\" class=\"dataframe\">\n",
       "  <thead>\n",
       "    <tr style=\"text-align: right;\">\n",
       "      <th></th>\n",
       "      <th>Age</th>\n",
       "      <th>EstimatedSalary</th>\n",
       "      <th>Purchased</th>\n",
       "    </tr>\n",
       "  </thead>\n",
       "  <tbody>\n",
       "    <tr>\n",
       "      <th>0</th>\n",
       "      <td>19</td>\n",
       "      <td>19000</td>\n",
       "      <td>0</td>\n",
       "    </tr>\n",
       "    <tr>\n",
       "      <th>1</th>\n",
       "      <td>35</td>\n",
       "      <td>20000</td>\n",
       "      <td>0</td>\n",
       "    </tr>\n",
       "    <tr>\n",
       "      <th>2</th>\n",
       "      <td>26</td>\n",
       "      <td>43000</td>\n",
       "      <td>0</td>\n",
       "    </tr>\n",
       "    <tr>\n",
       "      <th>3</th>\n",
       "      <td>27</td>\n",
       "      <td>57000</td>\n",
       "      <td>0</td>\n",
       "    </tr>\n",
       "    <tr>\n",
       "      <th>4</th>\n",
       "      <td>19</td>\n",
       "      <td>76000</td>\n",
       "      <td>0</td>\n",
       "    </tr>\n",
       "  </tbody>\n",
       "</table>\n",
       "</div>"
      ],
      "text/plain": [
       "   Age  EstimatedSalary  Purchased\n",
       "0   19            19000          0\n",
       "1   35            20000          0\n",
       "2   26            43000          0\n",
       "3   27            57000          0\n",
       "4   19            76000          0"
      ]
     },
     "execution_count": 5,
     "metadata": {},
     "output_type": "execute_result"
    }
   ],
   "source": [
    "dataset.head()"
   ]
  },
  {
   "cell_type": "code",
   "execution_count": 6,
   "id": "fa1969d8",
   "metadata": {},
   "outputs": [
    {
     "data": {
      "text/plain": [
       "(400, 3)"
      ]
     },
     "execution_count": 6,
     "metadata": {},
     "output_type": "execute_result"
    }
   ],
   "source": [
    "dataset.shape"
   ]
  },
  {
   "cell_type": "code",
   "execution_count": 7,
   "id": "a46c4212",
   "metadata": {},
   "outputs": [
    {
     "data": {
      "text/plain": [
       "Index(['Age', 'EstimatedSalary', 'Purchased'], dtype='object')"
      ]
     },
     "execution_count": 7,
     "metadata": {},
     "output_type": "execute_result"
    }
   ],
   "source": [
    "col_names = dataset.columns\n",
    "\n",
    "col_names"
   ]
  },
  {
   "cell_type": "code",
   "execution_count": 8,
   "id": "80808bea",
   "metadata": {},
   "outputs": [
    {
     "name": "stdout",
     "output_type": "stream",
     "text": [
      "<class 'pandas.core.frame.DataFrame'>\n",
      "RangeIndex: 400 entries, 0 to 399\n",
      "Data columns (total 3 columns):\n",
      " #   Column           Non-Null Count  Dtype\n",
      "---  ------           --------------  -----\n",
      " 0   Age              400 non-null    int64\n",
      " 1   EstimatedSalary  400 non-null    int64\n",
      " 2   Purchased        400 non-null    int64\n",
      "dtypes: int64(3)\n",
      "memory usage: 9.5 KB\n"
     ]
    }
   ],
   "source": [
    "dataset.info()"
   ]
  },
  {
   "cell_type": "code",
   "execution_count": 9,
   "id": "07107e78",
   "metadata": {},
   "outputs": [
    {
     "data": {
      "text/plain": [
       "Age                0\n",
       "EstimatedSalary    0\n",
       "Purchased          0\n",
       "dtype: int64"
      ]
     },
     "execution_count": 9,
     "metadata": {},
     "output_type": "execute_result"
    }
   ],
   "source": [
    "dataset.isnull().sum()"
   ]
  },
  {
   "cell_type": "code",
   "execution_count": 10,
   "id": "d18ca26b",
   "metadata": {},
   "outputs": [
    {
     "data": {
      "text/html": [
       "<div>\n",
       "<style scoped>\n",
       "    .dataframe tbody tr th:only-of-type {\n",
       "        vertical-align: middle;\n",
       "    }\n",
       "\n",
       "    .dataframe tbody tr th {\n",
       "        vertical-align: top;\n",
       "    }\n",
       "\n",
       "    .dataframe thead th {\n",
       "        text-align: right;\n",
       "    }\n",
       "</style>\n",
       "<table border=\"1\" class=\"dataframe\">\n",
       "  <thead>\n",
       "    <tr style=\"text-align: right;\">\n",
       "      <th></th>\n",
       "      <th>Age</th>\n",
       "      <th>EstimatedSalary</th>\n",
       "      <th>Purchased</th>\n",
       "    </tr>\n",
       "  </thead>\n",
       "  <tbody>\n",
       "    <tr>\n",
       "      <th>count</th>\n",
       "      <td>400.000000</td>\n",
       "      <td>400.000000</td>\n",
       "      <td>400.000000</td>\n",
       "    </tr>\n",
       "    <tr>\n",
       "      <th>mean</th>\n",
       "      <td>37.655000</td>\n",
       "      <td>69742.500000</td>\n",
       "      <td>0.357500</td>\n",
       "    </tr>\n",
       "    <tr>\n",
       "      <th>std</th>\n",
       "      <td>10.482877</td>\n",
       "      <td>34096.960282</td>\n",
       "      <td>0.479864</td>\n",
       "    </tr>\n",
       "    <tr>\n",
       "      <th>min</th>\n",
       "      <td>18.000000</td>\n",
       "      <td>15000.000000</td>\n",
       "      <td>0.000000</td>\n",
       "    </tr>\n",
       "    <tr>\n",
       "      <th>25%</th>\n",
       "      <td>29.750000</td>\n",
       "      <td>43000.000000</td>\n",
       "      <td>0.000000</td>\n",
       "    </tr>\n",
       "    <tr>\n",
       "      <th>50%</th>\n",
       "      <td>37.000000</td>\n",
       "      <td>70000.000000</td>\n",
       "      <td>0.000000</td>\n",
       "    </tr>\n",
       "    <tr>\n",
       "      <th>75%</th>\n",
       "      <td>46.000000</td>\n",
       "      <td>88000.000000</td>\n",
       "      <td>1.000000</td>\n",
       "    </tr>\n",
       "    <tr>\n",
       "      <th>max</th>\n",
       "      <td>60.000000</td>\n",
       "      <td>150000.000000</td>\n",
       "      <td>1.000000</td>\n",
       "    </tr>\n",
       "  </tbody>\n",
       "</table>\n",
       "</div>"
      ],
      "text/plain": [
       "              Age  EstimatedSalary   Purchased\n",
       "count  400.000000       400.000000  400.000000\n",
       "mean    37.655000     69742.500000    0.357500\n",
       "std     10.482877     34096.960282    0.479864\n",
       "min     18.000000     15000.000000    0.000000\n",
       "25%     29.750000     43000.000000    0.000000\n",
       "50%     37.000000     70000.000000    0.000000\n",
       "75%     46.000000     88000.000000    1.000000\n",
       "max     60.000000    150000.000000    1.000000"
      ]
     },
     "execution_count": 10,
     "metadata": {},
     "output_type": "execute_result"
    }
   ],
   "source": [
    "dataset.describe()"
   ]
  },
  {
   "cell_type": "code",
   "execution_count": 11,
   "id": "f1532141",
   "metadata": {},
   "outputs": [
    {
     "data": {
      "text/plain": [
       "Text(0, 0.5, 'EstimatedSalary')"
      ]
     },
     "execution_count": 11,
     "metadata": {},
     "output_type": "execute_result"
    },
    {
     "data": {
      "image/png": "[encoded data removed]",
      "text/plain": [
       "<Figure size 1500x1000 with 2 Axes>"
      ]
     },
     "metadata": {},
     "output_type": "display_data"
    }
   ],
   "source": [
    "\n",
    "plt.figure(figsize=(15,10))\n",
    "\n",
    "\n",
    "plt.subplot(2, 2, 1)\n",
    "fig = dataset.boxplot(column='Age')\n",
    "fig.set_title('')\n",
    "fig.set_ylabel('Age')\n",
    "\n",
    "\n",
    "plt.subplot(2, 2, 2)\n",
    "fig = dataset.boxplot(column='EstimatedSalary')\n",
    "fig.set_title('')\n",
    "fig.set_ylabel('EstimatedSalary')\n"
   ]
  },
  {
   "cell_type": "code",
   "execution_count": 13,
   "id": "9d932b03",
   "metadata": {},
   "outputs": [
    {
     "data": {
      "text/plain": [
       "Text(0, 0.5, 'Frequency')"
      ]
     },
     "execution_count": 13,
     "metadata": {},
     "output_type": "execute_result"
    },
    {
     "data": {
      "image/png": "[encoded data removed]",
      "text/plain": [
       "<Figure size 1500x1000 with 2 Axes>"
      ]
     },
     "metadata": {},
     "output_type": "display_data"
    }
   ],
   "source": [
    "plt.figure(figsize=(15,10))\n",
    "\n",
    "\n",
    "plt.subplot(2, 2, 1)\n",
    "fig = dataset.Age.hist(bins=10)\n",
    "fig.set_xlabel('Age')\n",
    "fig.set_ylabel('Frquency')\n",
    "\n",
    "\n",
    "plt.subplot(2, 2, 2)\n",
    "fig = dataset.EstimatedSalary.hist(bins=10)\n",
    "fig.set_xlabel('EstimatedSalary')\n",
    "fig.set_ylabel('Frequency')"
   ]
  },
  {
   "cell_type": "markdown",
   "id": "94e45cfd",
   "metadata": {},
   "source": [
    "### 4. Data Preprocessing"
   ]
  },
  {
   "cell_type": "code",
   "execution_count": 14,
   "id": "77c018f1",
   "metadata": {},
   "outputs": [],
   "source": [
    "X = dataset.drop(['Purchased'], axis=1)\n",
    "y = dataset['Purchased']"
   ]
  },
  {
   "cell_type": "code",
   "execution_count": 15,
   "id": "7e1a99b1",
   "metadata": {},
   "outputs": [
    {
     "name": "stdout",
     "output_type": "stream",
     "text": [
      "     Age  EstimatedSalary\n",
      "0     19            19000\n",
      "1     35            20000\n",
      "2     26            43000\n",
      "3     27            57000\n",
      "4     19            76000\n",
      "..   ...              ...\n",
      "395   46            41000\n",
      "396   51            23000\n",
      "397   50            20000\n",
      "398   36            33000\n",
      "399   49            36000\n",
      "\n",
      "[400 rows x 2 columns]\n"
     ]
    }
   ],
   "source": [
    "print(X)"
   ]
  },
  {
   "cell_type": "code",
   "execution_count": 16,
   "id": "cac64b06",
   "metadata": {},
   "outputs": [
    {
     "name": "stdout",
     "output_type": "stream",
     "text": [
      "0      0\n",
      "1      0\n",
      "2      0\n",
      "3      0\n",
      "4      0\n",
      "      ..\n",
      "395    1\n",
      "396    1\n",
      "397    1\n",
      "398    0\n",
      "399    1\n",
      "Name: Purchased, Length: 400, dtype: int64\n"
     ]
    }
   ],
   "source": [
    "print(y)"
   ]
  },
  {
   "cell_type": "code",
   "execution_count": 17,
   "id": "bd58746a-57c6-49b0-8ae7-3a03661d8917",
   "metadata": {},
   "outputs": [],
   "source": [
    "from sklearn.model_selection import train_test_split\n",
    "X_train, X_test, y_train, y_test = train_test_split(X, y, test_size = 0.25, random_state = 12)"
   ]
  },
  {
   "cell_type": "code",
   "execution_count": 18,
   "id": "e145b2ac",
   "metadata": {},
   "outputs": [
    {
     "data": {
      "text/html": [
       "<div>\n",
       "<style scoped>\n",
       "    .dataframe tbody tr th:only-of-type {\n",
       "        vertical-align: middle;\n",
       "    }\n",
       "\n",
       "    .dataframe tbody tr th {\n",
       "        vertical-align: top;\n",
       "    }\n",
       "\n",
       "    .dataframe thead th {\n",
       "        text-align: right;\n",
       "    }\n",
       "</style>\n",
       "<table border=\"1\" class=\"dataframe\">\n",
       "  <thead>\n",
       "    <tr style=\"text-align: right;\">\n",
       "      <th></th>\n",
       "      <th>Age</th>\n",
       "      <th>EstimatedSalary</th>\n",
       "    </tr>\n",
       "  </thead>\n",
       "  <tbody>\n",
       "    <tr>\n",
       "      <th>92</th>\n",
       "      <td>26</td>\n",
       "      <td>15000</td>\n",
       "    </tr>\n",
       "    <tr>\n",
       "      <th>328</th>\n",
       "      <td>36</td>\n",
       "      <td>118000</td>\n",
       "    </tr>\n",
       "    <tr>\n",
       "      <th>67</th>\n",
       "      <td>23</td>\n",
       "      <td>82000</td>\n",
       "    </tr>\n",
       "    <tr>\n",
       "      <th>254</th>\n",
       "      <td>50</td>\n",
       "      <td>44000</td>\n",
       "    </tr>\n",
       "    <tr>\n",
       "      <th>360</th>\n",
       "      <td>43</td>\n",
       "      <td>129000</td>\n",
       "    </tr>\n",
       "    <tr>\n",
       "      <th>...</th>\n",
       "      <td>...</td>\n",
       "      <td>...</td>\n",
       "    </tr>\n",
       "    <tr>\n",
       "      <th>241</th>\n",
       "      <td>38</td>\n",
       "      <td>59000</td>\n",
       "    </tr>\n",
       "    <tr>\n",
       "      <th>253</th>\n",
       "      <td>37</td>\n",
       "      <td>146000</td>\n",
       "    </tr>\n",
       "    <tr>\n",
       "      <th>390</th>\n",
       "      <td>48</td>\n",
       "      <td>33000</td>\n",
       "    </tr>\n",
       "    <tr>\n",
       "      <th>155</th>\n",
       "      <td>31</td>\n",
       "      <td>15000</td>\n",
       "    </tr>\n",
       "    <tr>\n",
       "      <th>331</th>\n",
       "      <td>48</td>\n",
       "      <td>119000</td>\n",
       "    </tr>\n",
       "  </tbody>\n",
       "</table>\n",
       "<p>300 rows × 2 columns</p>\n",
       "</div>"
      ],
      "text/plain": [
       "     Age  EstimatedSalary\n",
       "92    26            15000\n",
       "328   36           118000\n",
       "67    23            82000\n",
       "254   50            44000\n",
       "360   43           129000\n",
       "..   ...              ...\n",
       "241   38            59000\n",
       "253   37           146000\n",
       "390   48            33000\n",
       "155   31            15000\n",
       "331   48           119000\n",
       "\n",
       "[300 rows x 2 columns]"
      ]
     },
     "execution_count": 18,
     "metadata": {},
     "output_type": "execute_result"
    }
   ],
   "source": [
    "X_train"
   ]
  },
  {
   "cell_type": "code",
   "execution_count": 19,
   "id": "08c3b719",
   "metadata": {},
   "outputs": [
    {
     "data": {
      "image/png": "[encoded data removed]",
      "text/plain": [
       "<Figure size 800x600 with 1 Axes>"
      ]
     },
     "metadata": {},
     "output_type": "display_data"
    }
   ],
   "source": [
    "import pandas as pd\n",
    "import matplotlib.pyplot as plt\n",
    "\n",
    "# Assuming your target variable is named 'target'\n",
    "target_freq = y_train.value_counts()\n",
    "\n",
    "# Plot the frequency distribution\n",
    "plt.figure(figsize=(8, 6))\n",
    "target_freq.plot(kind='bar')\n",
    "plt.xlabel('Purchased')\n",
    "plt.ylabel('Frequency')\n",
    "plt.title('Frequency Distribution of Purchased Variable')\n",
    "plt.show()"
   ]
  },
  {
   "cell_type": "code",
   "execution_count": 20,
   "id": "72a9d5de-8518-423d-acfb-8709bd6f4239",
   "metadata": {},
   "outputs": [],
   "source": [
    "from sklearn.preprocessing import StandardScaler\n",
    "sc = StandardScaler()\n",
    "X_train = sc.fit_transform(X_train)\n",
    "X_test = sc.transform(X_test)"
   ]
  },
  {
   "cell_type": "code",
   "execution_count": 21,
   "id": "0392792a-11da-45fe-8d2c-2d5f5e4f7eea",
   "metadata": {},
   "outputs": [
    {
     "name": "stdout",
     "output_type": "stream",
     "text": [
      "[[-1.10470069 -1.63100201]\n",
      " [-0.13310817  1.4386753 ]\n",
      " [-1.39617844  0.36577838]\n",
      " [ 1.22712134 -0.76672393]\n",
      " [ 0.54700658  1.76650492]\n",
      " [-0.13310817  1.64729415]\n",
      " [ 0.44984733 -0.46869701]\n",
      " [ 1.12996209  0.54459453]\n",
      " [ 0.44984733  0.30617299]\n",
      " [ 1.12996209 -0.91573739]\n",
      " [-0.91038218 -0.31968355]\n",
      " [-0.61890443 -1.54159393]\n",
      " [ 0.35268808 -0.52830239]\n",
      " [ 0.35268808  0.2763703 ]\n",
      " [-0.71606368  1.94532107]\n",
      " [ 1.03280284  2.12413722]\n",
      " [ 0.25552883  0.15715953]\n",
      " [-1.29901919  0.42538376]\n",
      " [-0.23026743 -0.67731585]\n",
      " [-0.32742668  1.25985915]\n",
      " [-0.52174518  2.39236146]\n",
      " [-1.10470069 -1.03494816]\n",
      " [-0.03594892 -0.52830239]\n",
      " [-0.91038218  0.42538376]\n",
      " [ 0.15836958  1.08104299]\n",
      " [-0.23026743 -0.26007816]\n",
      " [ 1.5185991   1.02143761]\n",
      " [-1.10470069 -0.52830239]\n",
      " [-1.78481545  0.00814607]\n",
      " [-1.10470069 -1.63100201]\n",
      " [ 0.44984733 -0.14086739]\n",
      " [-0.81322293  2.33275607]\n",
      " [-1.00754144 -0.37928893]\n",
      " [ 1.22712134 -1.48198855]\n",
      " [ 1.7129176  -0.91573739]\n",
      " [ 2.00439535  0.75321338]\n",
      " [ 1.9072361   1.55788607]\n",
      " [ 2.19871386  0.39558107]\n",
      " [ 0.44984733  1.14064838]\n",
      " [ 1.42143985  0.60419992]\n",
      " [ 0.35268808  0.30617299]\n",
      " [ 0.15836958  0.21676492]\n",
      " [-1.8819747  -0.76672393]\n",
      " [-0.71606368  0.30617299]\n",
      " [-0.91038218 -0.97534278]\n",
      " [ 0.83848434 -1.24356701]\n",
      " [ 0.93564359 -1.06475085]\n",
      " [ 0.93564359  1.11084569]\n",
      " [ 1.9072361   0.12735684]\n",
      " [ 1.61575835  1.02143761]\n",
      " [-0.23026743  0.54459453]\n",
      " [-1.00754144  0.60419992]\n",
      " [-1.00754144  2.00492646]\n",
      " [-1.20185994  0.51479184]\n",
      " [ 0.74132509 -1.42238316]\n",
      " [ 0.06121033 -0.43889432]\n",
      " [-1.00754144 -0.46869701]\n",
      " [-1.49333769 -1.2733697 ]\n",
      " [ 0.15836958  1.91551838]\n",
      " [ 0.06121033  0.03794876]\n",
      " [ 0.35268808 -0.28988085]\n",
      " [-1.20185994 -1.42238316]\n",
      " [-0.23026743  0.06775145]\n",
      " [ 2.00439535  2.2135453 ]\n",
      " [-1.10470069  0.33597568]\n",
      " [ 1.42143985 -1.45218585]\n",
      " [-0.23026743  0.81281876]\n",
      " [-1.49333769 -0.20047278]\n",
      " [-0.23026743 -1.39258047]\n",
      " [-1.10470069  0.06775145]\n",
      " [ 0.83848434 -1.39258047]\n",
      " [-0.03594892  0.12735684]\n",
      " [-1.39617844 -0.64751316]\n",
      " [-0.13310817  2.2135453 ]\n",
      " [ 0.74132509 -1.12435624]\n",
      " [ 0.25552883  0.06775145]\n",
      " [-0.42458593  2.36255876]\n",
      " [ 0.83848434  0.54459453]\n",
      " [ 0.83848434 -1.12435624]\n",
      " [ 0.35268808  0.51479184]\n",
      " [-1.20185994  0.60419992]\n",
      " [-0.13310817 -0.52830239]\n",
      " [ 0.25552883 -0.14086739]\n",
      " [-0.23026743  0.06775145]\n",
      " [-0.81322293  0.15715953]\n",
      " [ 0.25552883  1.11084569]\n",
      " [-0.03594892  0.15715953]\n",
      " [ 0.06121033  1.28966184]\n",
      " [-1.59049694 -1.60119932]\n",
      " [ 0.06121033 -0.26007816]\n",
      " [ 0.35268808 -0.73692124]\n",
      " [ 1.03280284 -1.18396162]\n",
      " [-1.78481545  0.18696222]\n",
      " [ 1.03280284  2.03472915]\n",
      " [-0.52174518  1.49828069]\n",
      " [-0.03594892  2.2135453 ]\n",
      " [-1.59049694 -0.05145932]\n",
      " [ 0.44984733  0.15715953]\n",
      " [ 0.74132509 -0.73692124]\n",
      " [-0.81322293  0.39558107]\n",
      " [ 0.35268808  0.06775145]\n",
      " [ 0.83848434 -0.85613201]\n",
      " [ 1.03280284 -1.09455355]\n",
      " [-0.23026743 -0.34948624]\n",
      " [-1.10470069  0.30617299]\n",
      " [-0.42458593 -0.02165662]\n",
      " [ 1.81007685  1.88571569]\n",
      " [ 0.06121033  0.03794876]\n",
      " [-0.32742668  0.06775145]\n",
      " [ 1.7129176   1.64729415]\n",
      " [-0.52174518 -1.54159393]\n",
      " [-0.91038218 -1.12435624]\n",
      " [-0.42458593 -1.24356701]\n",
      " [-1.29901919 -0.43889432]\n",
      " [-1.10470069  0.42538376]\n",
      " [-0.61890443 -0.1110647 ]\n",
      " [ 2.1015546   0.18696222]\n",
      " [-0.03594892  0.21676492]\n",
      " [-0.81322293 -0.67731585]\n",
      " [-1.68765619  0.36577838]\n",
      " [-0.03594892  2.00492646]\n",
      " [ 1.81007685  1.02143761]\n",
      " [-0.23026743  0.09755415]\n",
      " [-1.29901919 -1.51179124]\n",
      " [ 1.03280284 -1.21376432]\n",
      " [-0.61890443  0.12735684]\n",
      " [-0.23026743  0.63400261]\n",
      " [ 0.25552883  0.24656761]\n",
      " [-1.29901919  0.57439722]\n",
      " [ 0.74132509  0.2763703 ]\n",
      " [ 1.22712134  0.54459453]\n",
      " [ 0.44984733 -0.17067008]\n",
      " [ 1.03280284 -0.85613201]\n",
      " [-0.71606368  0.57439722]\n",
      " [-0.13310817  0.87242415]\n",
      " [-1.00754144 -0.34948624]\n",
      " [ 2.00439535 -0.67731585]\n",
      " [ 1.5185991   0.36577838]\n",
      " [-0.32742668  1.34926722]\n",
      " [ 2.19871386 -0.82632932]\n",
      " [-0.23026743 -0.31968355]\n",
      " [ 1.12996209  0.48498915]\n",
      " [ 0.35268808 -1.18396162]\n",
      " [ 0.35268808 -0.20047278]\n",
      " [-1.39617844 -0.1110647 ]\n",
      " [-0.03594892  0.24656761]\n",
      " [ 0.25552883 -0.37928893]\n",
      " [-1.20185994 -1.09455355]\n",
      " [-0.03594892 -0.23027547]\n",
      " [-1.68765619 -1.39258047]\n",
      " [-1.00754144 -1.57139662]\n",
      " [ 1.12996209 -1.24356701]\n",
      " [ 0.06121033 -0.55810508]\n",
      " [-0.13310817  0.15715953]\n",
      " [-1.39617844 -1.48198855]\n",
      " [-1.10470069  1.4386753 ]\n",
      " [-0.91038218 -0.76672393]\n",
      " [-0.81322293  0.30617299]\n",
      " [-0.13310817 -0.28988085]\n",
      " [ 0.83848434  0.12735684]\n",
      " [ 0.54700658  1.88571569]\n",
      " [ 0.74132509 -1.30317239]\n",
      " [ 0.15836958  0.09755415]\n",
      " [-1.29901919 -1.39258047]\n",
      " [-0.03594892 -1.09455355]\n",
      " [-0.03594892 -0.43889432]\n",
      " [-0.23026743 -0.76672393]\n",
      " [-0.23026743 -1.33297509]\n",
      " [ 0.83848434  0.78301607]\n",
      " [-0.91038218  0.57439722]\n",
      " [-0.03594892  0.00814607]\n",
      " [ 0.15836958  0.78301607]\n",
      " [ 2.19871386  0.96183222]\n",
      " [-0.13310817 -0.20047278]\n",
      " [ 0.35268808  0.06775145]\n",
      " [-0.81322293 -0.79652662]\n",
      " [-0.81322293 -1.24356701]\n",
      " [-1.10470069  0.48498915]\n",
      " [ 1.12996209 -0.14086739]\n",
      " [ 2.1015546   2.18374261]\n",
      " [ 2.19871386 -1.06475085]\n",
      " [ 0.83848434  0.2763703 ]\n",
      " [ 0.44984733  0.00814607]\n",
      " [ 0.25552883 -0.28988085]\n",
      " [-0.71606368  0.51479184]\n",
      " [-1.10470069 -1.57139662]\n",
      " [ 0.93564359 -1.39258047]\n",
      " [ 0.25552883 -0.67731585]\n",
      " [ 1.42143985  2.39236146]\n",
      " [-1.8819747  -0.52830239]\n",
      " [-0.91038218 -0.31968355]\n",
      " [-1.20185994  0.2763703 ]\n",
      " [-1.00754144 -0.34948624]\n",
      " [ 0.25552883 -0.37928893]\n",
      " [-0.23026743 -0.94554009]\n",
      " [-0.71606368  0.2763703 ]\n",
      " [ 0.35268808 -0.52830239]\n",
      " [-1.10470069 -0.79652662]\n",
      " [-0.81322293 -0.79652662]\n",
      " [-0.13310817 -1.09455355]\n",
      " [ 1.5185991  -1.06475085]\n",
      " [-0.23026743 -0.14086739]\n",
      " [-0.03594892 -0.37928893]\n",
      " [-0.13310817 -0.58790778]\n",
      " [-0.91038218  1.58768876]\n",
      " [ 1.5185991   2.18374261]\n",
      " [-0.52174518  0.48498915]\n",
      " [-0.42458593 -0.28988085]\n",
      " [-0.91038218  0.2763703 ]\n",
      " [ 2.19871386  1.14064838]\n",
      " [-0.81322293 -0.26007816]\n",
      " [-1.8819747   0.48498915]\n",
      " [ 0.06121033 -0.26007816]\n",
      " [ 0.35268808  0.06775145]\n",
      " [-0.23026743  0.2763703 ]\n",
      " [ 1.61575835  1.14064838]\n",
      " [ 0.44984733 -0.4984997 ]\n",
      " [-0.71606368  1.37906992]\n",
      " [ 0.44984733  0.30617299]\n",
      " [-1.20185994  0.30617299]\n",
      " [-0.23026743  0.15715953]\n",
      " [ 0.25552883  0.03794876]\n",
      " [-0.03594892  0.06775145]\n",
      " [ 1.9072361  -1.30317239]\n",
      " [-0.23026743  0.15715953]\n",
      " [ 2.1015546  -1.21376432]\n",
      " [ 0.83848434  1.40887261]\n",
      " [-0.61890443 -1.06475085]\n",
      " [-1.68765619 -1.00514547]\n",
      " [-1.59049694  0.06775145]\n",
      " [ 0.74132509 -1.42238316]\n",
      " [-0.03594892  0.30617299]\n",
      " [ 2.1015546  -0.82632932]\n",
      " [-0.42458593 -0.79652662]\n",
      " [-0.52174518  1.40887261]\n",
      " [-0.71606368 -0.23027547]\n",
      " [-0.52174518  1.40887261]\n",
      " [-1.49333769 -1.54159393]\n",
      " [ 0.83848434 -0.31968355]\n",
      " [ 0.15836958 -0.31968355]\n",
      " [ 1.61575835 -1.30317239]\n",
      " [ 0.35268808  0.06775145]\n",
      " [-1.10470069  0.30617299]\n",
      " [-1.59049694  0.54459453]\n",
      " [-1.00754144 -1.48198855]\n",
      " [-1.39617844 -1.24356701]\n",
      " [-1.00754144  0.57439722]\n",
      " [ 0.06121033 -0.58790778]\n",
      " [-0.03594892  0.30617299]\n",
      " [-0.61890443  0.03794876]\n",
      " [ 1.03280284  1.8261103 ]\n",
      " [ 1.32428059  2.27315069]\n",
      " [ 0.35268808  0.03794876]\n",
      " [ 2.00439535 -0.94554009]\n",
      " [-1.29901919 -0.34948624]\n",
      " [-0.23026743  0.21676492]\n",
      " [ 0.06121033 -0.58790778]\n",
      " [-0.03594892 -0.4984997 ]\n",
      " [-0.23026743 -0.58790778]\n",
      " [ 0.93564359 -1.48198855]\n",
      " [-0.13310817 -0.46869701]\n",
      " [ 0.93564359 -0.58790778]\n",
      " [-0.42458593 -0.85613201]\n",
      " [ 0.93564359 -1.18396162]\n",
      " [ 0.15836958  0.03794876]\n",
      " [-0.52174518  0.90222684]\n",
      " [ 0.44984733  2.36255876]\n",
      " [-0.32742668 -0.79652662]\n",
      " [-0.42458593  1.28966184]\n",
      " [ 0.06121033  0.30617299]\n",
      " [-0.23026743 -0.4984997 ]\n",
      " [-0.91038218 -0.43889432]\n",
      " [ 0.25552883  2.15393992]\n",
      " [-1.00754144  0.78301607]\n",
      " [ 0.44984733  0.60419992]\n",
      " [ 0.35268808 -0.31968355]\n",
      " [-1.10470069 -1.18396162]\n",
      " [-1.00754144  0.54459453]\n",
      " [ 1.12996209  0.57439722]\n",
      " [-0.23026743 -0.58790778]\n",
      " [-1.68765619 -0.61771047]\n",
      " [ 0.25552883 -0.26007816]\n",
      " [ 2.00439535  0.93202953]\n",
      " [-1.78481545 -1.45218585]\n",
      " [ 2.1015546   1.79630761]\n",
      " [ 1.9072361  -1.09455355]\n",
      " [-0.52174518 -1.54159393]\n",
      " [ 0.25552883 -0.31968355]\n",
      " [-1.8819747  -0.05145932]\n",
      " [ 1.03280284 -1.03494816]\n",
      " [-0.61890443  0.57439722]\n",
      " [ 1.42143985 -0.94554009]\n",
      " [ 0.44984733 -0.14086739]\n",
      " [ 0.74132509  1.8261103 ]\n",
      " [-0.61890443 -0.34948624]\n",
      " [ 0.06121033 -0.31968355]\n",
      " [-0.03594892  2.27315069]\n",
      " [ 1.03280284 -1.09455355]\n",
      " [-0.61890443 -1.63100201]\n",
      " [ 1.03280284  1.46847799]]\n"
     ]
    }
   ],
   "source": [
    "print(X_train)"
   ]
  },
  {
   "cell_type": "code",
   "execution_count": 22,
   "id": "e201495a-389a-41a0-936c-5f9e0a06bd0c",
   "metadata": {
    "scrolled": true
   },
   "outputs": [
    {
     "name": "stdout",
     "output_type": "stream",
     "text": [
      "[[ 2.1015546   0.54459453]\n",
      " [ 0.15836958  0.03794876]\n",
      " [ 1.12996209  2.12413722]\n",
      " [-0.23026743 -1.48198855]\n",
      " [-0.23026743 -1.2733697 ]\n",
      " [ 1.03280284  0.78301607]\n",
      " [-1.00754144 -1.15415893]\n",
      " [-0.81322293  0.39558107]\n",
      " [ 1.42143985  2.03472915]\n",
      " [ 0.15836958 -0.82632932]\n",
      " [-1.49333769  0.33597568]\n",
      " [-0.52174518  1.94532107]\n",
      " [ 0.93564359 -0.61771047]\n",
      " [ 1.42143985  1.31946453]\n",
      " [ 0.64416584 -0.91573739]\n",
      " [ 0.44984733  1.02143761]\n",
      " [ 0.93564359 -0.79652662]\n",
      " [ 0.15836958  1.55788607]\n",
      " [-0.23026743 -0.91573739]\n",
      " [-0.42458593 -1.15415893]\n",
      " [ 0.06121033  1.25985915]\n",
      " [ 0.44984733  0.2763703 ]\n",
      " [ 0.15836958  0.15715953]\n",
      " [-0.03594892  0.03794876]\n",
      " [ 0.83848434  0.36577838]\n",
      " [ 1.12996209 -1.24356701]\n",
      " [ 0.06121033 -0.14086739]\n",
      " [-1.29901919 -0.43889432]\n",
      " [ 2.19871386 -0.82632932]\n",
      " [-0.32742668 -0.79652662]\n",
      " [-0.71606368 -0.61771047]\n",
      " [-1.00754144  0.42538376]\n",
      " [-0.32742668 -1.33297509]\n",
      " [ 0.44984733 -0.46869701]\n",
      " [ 2.00439535 -1.39258047]\n",
      " [ 2.19871386 -0.70711855]\n",
      " [-1.78481545 -1.51179124]\n",
      " [ 1.32428059 -1.39258047]\n",
      " [ 0.93564359  1.0512403 ]\n",
      " [-0.71606368 -1.57139662]\n",
      " [-1.68765619  0.48498915]\n",
      " [-0.23026743 -0.28988085]\n",
      " [ 1.5185991   0.06775145]\n",
      " [-1.8819747   0.36577838]\n",
      " [-0.61890443  0.18696222]\n",
      " [-1.78481545 -1.30317239]\n",
      " [-0.13310817  1.67709684]\n",
      " [ 0.15836958 -0.82632932]\n",
      " [-1.39617844 -0.20047278]\n",
      " [ 0.93564359 -0.55810508]\n",
      " [ 1.22712134 -1.00514547]\n",
      " [ 0.44984733  0.09755415]\n",
      " [ 1.7129176   1.79630761]\n",
      " [-0.03594892  0.69360799]\n",
      " [ 1.03280284  1.91551838]\n",
      " [ 1.81007685 -0.28988085]\n",
      " [-1.10470069 -1.12435624]\n",
      " [ 1.9072361  -0.28988085]\n",
      " [ 0.93564359  2.2135453 ]\n",
      " [ 0.25552883  0.15715953]\n",
      " [-1.29901919 -1.12435624]\n",
      " [ 0.64416584  2.06453184]\n",
      " [ 1.32428059  1.91551838]\n",
      " [ 0.93564359 -0.67731585]\n",
      " [-1.78481545  0.45518645]\n",
      " [ 1.12996209 -1.00514547]\n",
      " [-0.23026743  1.14064838]\n",
      " [-0.61890443  1.4386753 ]\n",
      " [-0.23026743  2.30295338]\n",
      " [-0.61890443 -0.05145932]\n",
      " [ 0.15836958  1.91551838]\n",
      " [ 0.83848434 -1.42238316]\n",
      " [-0.23026743 -0.37928893]\n",
      " [ 1.12996209  0.12735684]\n",
      " [-0.91038218  0.45518645]\n",
      " [-1.68765619  0.12735684]\n",
      " [ 1.03280284  0.12735684]\n",
      " [-0.91038218  0.51479184]\n",
      " [-1.29901919 -1.2733697 ]\n",
      " [-1.68765619  0.36577838]\n",
      " [-0.23026743 -1.42238316]\n",
      " [-0.71606368 -1.63100201]\n",
      " [ 0.93564359  1.28966184]\n",
      " [-1.49333769 -0.43889432]\n",
      " [ 2.1015546   0.39558107]\n",
      " [ 1.61575835  0.00814607]\n",
      " [-0.71606368  1.11084569]\n",
      " [ 0.25552883 -0.37928893]\n",
      " [ 0.54700658  1.25985915]\n",
      " [-0.23026743 -0.43889432]\n",
      " [ 0.15836958 -0.26007816]\n",
      " [ 0.35268808 -0.55810508]\n",
      " [ 1.03280284  0.60419992]\n",
      " [ 0.15836958  0.2763703 ]\n",
      " [-0.23026743  0.03794876]\n",
      " [-1.78481545 -1.33297509]\n",
      " [-1.10470069 -1.60119932]\n",
      " [-0.42458593 -0.55810508]\n",
      " [-0.03594892  0.2763703 ]\n",
      " [ 0.93564359 -1.33297509]]\n"
     ]
    }
   ],
   "source": [
    "print(X_test)"
   ]
  },
  {
   "cell_type": "markdown",
   "id": "58977401-63f5-4889-afc5-8fe8163b300b",
   "metadata": {},
   "source": [
    "### 6.Training the Logistic Regression model "
   ]
  },
  {
   "cell_type": "code",
   "execution_count": 23,
   "id": "aadc4e7d-91af-48c2-b220-6b69c2d90160",
   "metadata": {},
   "outputs": [
    {
     "data": {
      "text/html": [
       "<style>#sk-container-id-1 {color: black;}#sk-container-id-1 pre{padding: 0;}#sk-container-id-1 div.sk-toggleable {background-color: white;}#sk-container-id-1 label.sk-toggleable__label {cursor: pointer;display: block;width: 100%;margin-bottom: 0;padding: 0.3em;box-sizing: border-box;text-align: center;}#sk-container-id-1 label.sk-toggleable__label-arrow:before {content: \"▸\";float: left;margin-right: 0.25em;color: #696969;}#sk-container-id-1 label.sk-toggleable__label-arrow:hover:before {color: black;}#sk-container-id-1 div.sk-estimator:hover label.sk-toggleable__label-arrow:before {color: black;}#sk-container-id-1 div.sk-toggleable__content {max-height: 0;max-width: 0;overflow: hidden;text-align: left;background-color: #f0f8ff;}#sk-container-id-1 div.sk-toggleable__content pre {margin: 0.2em;color: black;border-radius: 0.25em;background-color: #f0f8ff;}#sk-container-id-1 input.sk-toggleable__control:checked~div.sk-toggleable__content {max-height: 200px;max-width: 100%;overflow: auto;}#sk-container-id-1 input.sk-toggleable__control:checked~label.sk-toggleable__label-arrow:before {content: \"▾\";}#sk-container-id-1 div.sk-estimator input.sk-toggleable__control:checked~label.sk-toggleable__label {background-color: #d4ebff;}#sk-container-id-1 div.sk-label input.sk-toggleable__control:checked~label.sk-toggleable__label {background-color: #d4ebff;}#sk-container-id-1 input.sk-hidden--visually {border: 0;clip: rect(1px 1px 1px 1px);clip: rect(1px, 1px, 1px, 1px);height: 1px;margin: -1px;overflow: hidden;padding: 0;position: absolute;width: 1px;}#sk-container-id-1 div.sk-estimator {font-family: monospace;background-color: #f0f8ff;border: 1px dotted black;border-radius: 0.25em;box-sizing: border-box;margin-bottom: 0.5em;}#sk-container-id-1 div.sk-estimator:hover {background-color: #d4ebff;}#sk-container-id-1 div.sk-parallel-item::after {content: \"\";width: 100%;border-bottom: 1px solid gray;flex-grow: 1;}#sk-container-id-1 div.sk-label:hover label.sk-toggleable__label {background-color: #d4ebff;}#sk-container-id-1 div.sk-serial::before {content: \"\";position: absolute;border-left: 1px solid gray;box-sizing: border-box;top: 0;bottom: 0;left: 50%;z-index: 0;}#sk-container-id-1 div.sk-serial {display: flex;flex-direction: column;align-items: center;background-color: white;padding-right: 0.2em;padding-left: 0.2em;position: relative;}#sk-container-id-1 div.sk-item {position: relative;z-index: 1;}#sk-container-id-1 div.sk-parallel {display: flex;align-items: stretch;justify-content: center;background-color: white;position: relative;}#sk-container-id-1 div.sk-item::before, #sk-container-id-1 div.sk-parallel-item::before {content: \"\";position: absolute;border-left: 1px solid gray;box-sizing: border-box;top: 0;bottom: 0;left: 50%;z-index: -1;}#sk-container-id-1 div.sk-parallel-item {display: flex;flex-direction: column;z-index: 1;position: relative;background-color: white;}#sk-container-id-1 div.sk-parallel-item:first-child::after {align-self: flex-end;width: 50%;}#sk-container-id-1 div.sk-parallel-item:last-child::after {align-self: flex-start;width: 50%;}#sk-container-id-1 div.sk-parallel-item:only-child::after {width: 0;}#sk-container-id-1 div.sk-dashed-wrapped {border: 1px dashed gray;margin: 0 0.4em 0.5em 0.4em;box-sizing: border-box;padding-bottom: 0.4em;background-color: white;}#sk-container-id-1 div.sk-label label {font-family: monospace;font-weight: bold;display: inline-block;line-height: 1.2em;}#sk-container-id-1 div.sk-label-container {text-align: center;}#sk-container-id-1 div.sk-container {/* jupyter's `normalize.less` sets `[hidden] { display: none; }` but bootstrap.min.css set `[hidden] { display: none !important; }` so we also need the `!important` here to be able to override the default hidden behavior on the sphinx rendered scikit-learn.org. See: https://github.com/scikit-learn/scikit-learn/issues/21755 */display: inline-block !important;position: relative;}#sk-container-id-1 div.sk-text-repr-fallback {display: none;}</style><div id=\"sk-container-id-1\" class=\"sk-top-container\"><div class=\"sk-text-repr-fallback\"><pre>LogisticRegression(random_state=0)</pre><b>In a Jupyter environment, please rerun this cell to show the HTML representation or trust the notebook. <br />On GitHub, the HTML representation is unable to render, please try loading this page with nbviewer.org.</b></div><div class=\"sk-container\" hidden><div class=\"sk-item\"><div class=\"sk-estimator sk-toggleable\"><input class=\"sk-toggleable__control sk-hidden--visually\" id=\"sk-estimator-id-1\" type=\"checkbox\" checked><label for=\"sk-estimator-id-1\" class=\"sk-toggleable__label sk-toggleable__label-arrow\">LogisticRegression</label><div class=\"sk-toggleable__content\"><pre>LogisticRegression(random_state=0)</pre></div></div></div></div></div>"
      ],
      "text/plain": [
       "LogisticRegression(random_state=0)"
      ]
     },
     "execution_count": 23,
     "metadata": {},
     "output_type": "execute_result"
    }
   ],
   "source": [
    "from sklearn.linear_model import LogisticRegression\n",
    "classifier = LogisticRegression(random_state = 0)\n",
    "classifier.fit(X_train, y_train)"
   ]
  },
  {
   "cell_type": "markdown",
   "id": "8e47df16-151c-4aae-935c-ad904d732485",
   "metadata": {},
   "source": [
    "### 7. Testing of model"
   ]
  },
  {
   "cell_type": "code",
   "execution_count": 24,
   "id": "0582fcfa-4cbe-45bd-adeb-8433c5b56322",
   "metadata": {},
   "outputs": [
    {
     "name": "stdout",
     "output_type": "stream",
     "text": [
      "[0]\n"
     ]
    }
   ],
   "source": [
    "print(classifier.predict(sc.transform([[30,87000]])))"
   ]
  },
  {
   "cell_type": "markdown",
   "id": "6c1f77cd-4fbc-4862-b8f2-d22726a46907",
   "metadata": {},
   "source": [
    "### 8. Predicting the test results"
   ]
  },
  {
   "cell_type": "code",
   "execution_count": 25,
   "id": "f8215ad3-7b0d-484e-958d-39edee89af1b",
   "metadata": {},
   "outputs": [
    {
     "data": {
      "text/plain": [
       "array([1, 0, 1, 0, 0, 1, 0, 0, 1, 0, 0, 0, 1, 1, 0, 1, 1, 1, 0, 0, 1, 1,\n",
       "       0, 0, 1, 1, 0, 0, 1, 0, 0, 0, 0, 0, 1, 1, 0, 1, 1, 0, 0, 0, 1, 0,\n",
       "       0, 0, 1, 0, 0, 1, 1, 1, 1, 0, 1, 1, 0, 1, 1, 0, 0, 1, 1, 1, 0, 1,\n",
       "       0, 0, 1, 0, 1, 0, 0, 1, 0, 0, 1, 0, 0, 0, 0, 0, 1, 0, 1, 1, 0, 0,\n",
       "       1, 0, 0, 0, 1, 0, 0, 0, 0, 0, 0, 0])"
      ]
     },
     "execution_count": 25,
     "metadata": {},
     "output_type": "execute_result"
    }
   ],
   "source": [
    "y_pred_test = classifier.predict(X_test)\n",
    "\n",
    "y_pred_test"
   ]
  },
  {
   "cell_type": "markdown",
   "id": "3914bf8a",
   "metadata": {},
   "source": [
    "### 9. Evaluation of the LR model with classification metrics"
   ]
  },
  {
   "cell_type": "code",
   "execution_count": 26,
   "id": "46194ef5",
   "metadata": {},
   "outputs": [
    {
     "name": "stdout",
     "output_type": "stream",
     "text": [
      "Model accuracy score: 0.8400\n"
     ]
    }
   ],
   "source": [
    "from sklearn.metrics import accuracy_score\n",
    "\n",
    "print('Model accuracy score: {0:0.4f}'. format(accuracy_score(y_test, y_pred_test)))"
   ]
  },
  {
   "cell_type": "code",
   "execution_count": 27,
   "id": "e3475e54",
   "metadata": {},
   "outputs": [
    {
     "data": {
      "text/plain": [
       "array([0, 1, 0, 1, 1, 1, 0, 1, 1, 1, 0, 0, 0, 1, 0, 1, 0, 0, 0, 0, 1, 0,\n",
       "       0, 0, 1, 0, 1, 0, 0, 0, 0, 0, 0, 1, 1, 1, 1, 1, 1, 1, 1, 0, 0, 0,\n",
       "       0, 0, 0, 1, 1, 1, 0, 0, 0, 0, 0, 0, 0, 0, 1, 0, 0, 0, 0, 1, 0, 1,\n",
       "       0, 0, 0, 0, 0, 0, 0, 1, 0, 0, 1, 1, 0, 1, 0, 0, 0, 0, 0, 1, 0, 1,\n",
       "       0, 0, 0, 0, 0, 1, 0, 1, 0, 1, 0, 0, 0, 0, 1, 0, 0, 0, 1, 0, 0, 1,\n",
       "       0, 0, 0, 0, 0, 0, 1, 0, 0, 0, 1, 1, 0, 0, 0, 0, 0, 0, 0, 1, 1, 0,\n",
       "       1, 0, 0, 0, 1, 1, 0, 1, 0, 1, 0, 0, 0, 0, 0, 0, 0, 0, 0, 1, 0, 0,\n",
       "       0, 0, 0, 0, 0, 1, 1, 0, 0, 0, 0, 0, 0, 0, 1, 0, 0, 1, 1, 0, 0, 0,\n",
       "       0, 0, 1, 1, 1, 1, 0, 0, 0, 0, 0, 0, 1, 0, 0, 0, 0, 0, 0, 0, 0, 0,\n",
       "       0, 0, 1, 0, 0, 0, 0, 1, 0, 0, 0, 1, 0, 0, 0, 0, 0, 1, 0, 0, 1, 0,\n",
       "       0, 0, 0, 1, 0, 1, 1, 0, 0, 0, 0, 0, 1, 0, 0, 0, 0, 0, 1, 0, 1, 0,\n",
       "       0, 0, 0, 0, 0, 0, 0, 0, 1, 1, 0, 1, 0, 0, 0, 0, 0, 0, 0, 1, 0, 0,\n",
       "       0, 0, 1, 0, 0, 0, 0, 0, 1, 0, 1, 0, 0, 0, 1, 0, 0, 0, 1, 0, 1, 1,\n",
       "       0, 0, 0, 1, 0, 1, 0, 1, 0, 0, 1, 1, 0, 1])"
      ]
     },
     "execution_count": 27,
     "metadata": {},
     "output_type": "execute_result"
    }
   ],
   "source": [
    "# predicting train values\n",
    "y_pred_train = classifier.predict(X_train)\n",
    "\n",
    "y_pred_train"
   ]
  },
  {
   "cell_type": "code",
   "execution_count": 28,
   "id": "7ebf4c99",
   "metadata": {},
   "outputs": [
    {
     "name": "stdout",
     "output_type": "stream",
     "text": [
      "Training-set accuracy score: 0.8567\n"
     ]
    }
   ],
   "source": [
    "print('Training-set accuracy score: {0:0.4f}'. format(accuracy_score(y_train, y_pred_train)))"
   ]
  },
  {
   "cell_type": "code",
   "execution_count": 29,
   "id": "2567db44-06cd-4847-a14c-baec7bfcaa07",
   "metadata": {},
   "outputs": [
    {
     "name": "stdout",
     "output_type": "stream",
     "text": [
      "Confusion matrix\n",
      "\n",
      " [[52  9]\n",
      " [ 7 32]]\n",
      "\n",
      "True Positives(TP) =  52\n",
      "\n",
      "True Negatives(TN) =  32\n",
      "\n",
      "False Positives(FP) =  9\n",
      "\n",
      "False Negatives(FN) =  7\n"
     ]
    }
   ],
   "source": [
    "# confusion matrix\n",
    "\n",
    "# Print the Confusion Matrix and slice it into four pieces\n",
    "\n",
    "from sklearn.metrics import confusion_matrix\n",
    "\n",
    "cm = confusion_matrix(y_test, y_pred_test)\n",
    "\n",
    "print('Confusion matrix\\n\\n', cm)\n",
    "\n",
    "print('\\nTrue Positives(TP) = ', cm[0,0])\n",
    "\n",
    "print('\\nTrue Negatives(TN) = ', cm[1,1])\n",
    "\n",
    "print('\\nFalse Positives(FP) = ', cm[0,1])\n",
    "\n",
    "print('\\nFalse Negatives(FN) = ', cm[1,0])"
   ]
  },
  {
   "cell_type": "code",
   "execution_count": 30,
   "id": "54c0ff50",
   "metadata": {},
   "outputs": [
    {
     "data": {
      "text/plain": [
       "<Axes: >"
      ]
     },
     "execution_count": 30,
     "metadata": {},
     "output_type": "execute_result"
    },
    {
     "data": {
      "image/png": "[encoded data removed]",
      "text/plain": [
       "<Figure size 640x480 with 2 Axes>"
      ]
     },
     "metadata": {},
     "output_type": "display_data"
    }
   ],
   "source": [
    "# visualize confusion matrix with seaborn heatmap\n",
    "\n",
    "cm_matrix = pd.DataFrame(data=cm, columns=['Actual Positive:1', 'Actual Negative:0'], \n",
    "                                 index=['Predict Positive:1', 'Predict Negative:0'])\n",
    "\n",
    "sns.heatmap(cm_matrix, annot=True, fmt='d', cmap='YlGnBu')"
   ]
  },
  {
   "cell_type": "code",
   "execution_count": 31,
   "id": "f7843d22",
   "metadata": {},
   "outputs": [
    {
     "name": "stdout",
     "output_type": "stream",
     "text": [
      "              precision    recall  f1-score   support\n",
      "\n",
      "           0       0.88      0.85      0.87        61\n",
      "           1       0.78      0.82      0.80        39\n",
      "\n",
      "    accuracy                           0.84       100\n",
      "   macro avg       0.83      0.84      0.83       100\n",
      "weighted avg       0.84      0.84      0.84       100\n",
      "\n"
     ]
    }
   ],
   "source": [
    "from sklearn.metrics import classification_report\n",
    "\n",
    "print(classification_report(y_test, y_pred_test))"
   ]
  },
  {
   "cell_type": "markdown",
   "id": "ea4f13bc-8d16-4f54-b754-0d8cecd99029",
   "metadata": {},
   "source": [
    "### 10.Visualising the Traing set result"
   ]
  },
  {
   "cell_type": "code",
   "execution_count": 32,
   "id": "559749c1-1dca-43ac-affc-4eeda616ee50",
   "metadata": {},
   "outputs": [
    {
     "data": {
      "image/png": "[encoded data removed]",
      "text/plain": [
       "<Figure size 640x480 with 1 Axes>"
      ]
     },
     "metadata": {},
     "output_type": "display_data"
    }
   ],
   "source": [
    "from matplotlib.colors import ListedColormap\n",
    "X_set, y_set = sc.inverse_transform(X_train), y_train\n",
    "X1, X2 = np.meshgrid(np.arange(start = X_set[:, 0].min() - 10, stop = X_set[:, 0].max() + 10, step = 0.25),\n",
    "                     np.arange(start = X_set[:, 1].min() - 1000, stop = X_set[:, 1].max() + 1000, step = 0.25))\n",
    "plt.contourf(X1, X2, classifier.predict(sc.transform(np.array([X1.ravel(), X2.ravel()]).T)).reshape(X1.shape),\n",
    "             alpha = 0.75, cmap = ListedColormap(('green', 'red')))\n",
    "plt.xlim(X1.min(), X1.max())\n",
    "plt.ylim(X2.min(), X2.max())\n",
    "for i, j in enumerate(np.unique(y_set)):\n",
    "    plt.scatter(X_set[y_set == j, 0], X_set[y_set == j, 1], c = ListedColormap(('green', 'red'))(i), label = j)\n",
    "plt.title('Logistic Regression (Training set)')\n",
    "plt.xlabel('Age')\n",
    "plt.ylabel('Estimated Salary')\n",
    "plt.legend()\n",
    "plt.show()"
   ]
  },
  {
   "cell_type": "markdown",
   "id": "f717b0bd-5ccf-4fcd-84a8-d91958ed2591",
   "metadata": {},
   "source": [
    "### 11.Visualising the Test set result"
   ]
  },
  {
   "cell_type": "code",
   "execution_count": 33,
   "id": "acc251b8-ef47-47ca-ba91-f2692b7bc274",
   "metadata": {},
   "outputs": [
    {
     "data": {
      "image/png": "[encoded data removed]",
      "text/plain": [
       "<Figure size 640x480 with 1 Axes>"
      ]
     },
     "metadata": {},
     "output_type": "display_data"
    }
   ],
   "source": [
    "from matplotlib.colors import ListedColormap\n",
    "X_set, y_set = sc.inverse_transform(X_test), y_test\n",
    "X1, X2 = np.meshgrid(np.arange(start = X_set[:, 0].min() - 10, stop = X_set[:, 0].max() + 10, step = 0.25),\n",
    "                     np.arange(start = X_set[:, 1].min() - 1000, stop = X_set[:, 1].max() + 1000, step = 0.25))\n",
    "plt.contourf(X1, X2, classifier.predict(sc.transform(np.array([X1.ravel(), X2.ravel()]).T)).reshape(X1.shape),\n",
    "             alpha = 0.75, cmap = ListedColormap(('green', 'red')))\n",
    "plt.xlim(X1.min(), X1.max())\n",
    "plt.ylim(X2.min(), X2.max())\n",
    "for i, j in enumerate(np.unique(y_set)):\n",
    "    plt.scatter(X_set[y_set == j, 0], X_set[y_set == j, 1], c = ListedColormap(('green', 'red'))(i), label = j)\n",
    "plt.title('Logistic Regression (Test set)')\n",
    "plt.xlabel('Age')\n",
    "plt.ylabel('Estimated Salary')\n",
    "plt.legend()\n",
    "plt.show()"
   ]
  },
  {
   "cell_type": "code",
   "execution_count": null,
   "id": "ab216505-ce4d-46da-97f4-bdedd5d37865",
   "metadata": {},
   "outputs": [],
   "source": []
  }
 ],
 "metadata": {
  "kernelspec": {
   "display_name": "Python 3 (ipykernel)",
   "language": "python",
   "name": "python3"
  },
  "language_info": {
   "codemirror_mode": {
    "name": "ipython",
    "version": 3
   },
   "file_extension": ".py",
   "mimetype": "text/x-python",
   "name": "python",
   "nbconvert_exporter": "python",
   "pygments_lexer": "ipython3",
   "version": "3.9.17"
  }
 },
 "nbformat": 4,
 "nbformat_minor": 5
}
