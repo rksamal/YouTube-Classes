{
 "cells": [
  {
   "cell_type": "markdown",
   "id": "9f823a74-3904-4bf8-8c0a-90fd38e8979a",
   "metadata": {},
   "source": [
    "<img src=https://lstms-brainybits.s3.ap-south-1.amazonaws.com/green+logo.png width=\"300\" height=\"200\" style=\"float: left; margin-right: 8px;\">"
   ]
  },
  {
   "cell_type": "markdown",
   "id": "436c166d-bd16-4deb-ad25-3349e1386916",
   "metadata": {},
   "source": [
    "We believe in empowering individuals with the\n",
    "knowledge and skills they need to become lifelong\n",
    "learners. Our self-learning website offers a diverse\n",
    "range of high-quality, interactive courses.\n",
    "**All rights reserved to BrainyBits. Unauthorized reproduction or distribution of this content is prohibited.**"
   ]
  },
  {
   "cell_type": "markdown",
   "id": "41f6ad1d-e8dc-49f9-82ef-0f7045062d23",
   "metadata": {},
   "source": [
    "# Logistic Regression Solution"
   ]
  },
  {
   "cell_type": "markdown",
   "id": "490bb00c-ff32-4e8d-9fd8-5ac1c7b59c8a",
   "metadata": {},
   "source": [
    "### 1. Importing the libraries"
   ]
  },
  {
   "cell_type": "code",
   "execution_count": null,
   "id": "b2851c39-3898-40e0-b9c3-fe9d9cf6e4e8",
   "metadata": {},
   "outputs": [],
   "source": [
    "import numpy as np\n",
    "import matplotlib.pyplot as plt\n",
    "import pandas as pd\n",
    "from sklearn.model_selection import GridSearchCV\n"
   ]
  },
  {
   "cell_type": "markdown",
   "id": "3969a238-696c-4ce8-b070-ee292ad6b2eb",
   "metadata": {},
   "source": [
    "### 2. Importing the dataset"
   ]
  },
  {
   "cell_type": "code",
   "execution_count": null,
   "id": "158c00ac-9a2c-4d82-8170-a32a53b42e4e",
   "metadata": {},
   "outputs": [],
   "source": [
    "dataset = pd.read_csv('diabetes.csv')\n",
    "X = dataset.iloc[:, :-1].values\n",
    "y = dataset.iloc[:, -1].values"
   ]
  },
  {
   "cell_type": "markdown",
   "id": "f3a84100-0644-440d-aac6-c055a732786d",
   "metadata": {},
   "source": [
    "### 3. Splitting the dataset into the Training set and Test set"
   ]
  },
  {
   "cell_type": "code",
   "execution_count": null,
   "id": "8d8dc76f-a672-409d-9e2b-421d86138fa9",
   "metadata": {},
   "outputs": [],
   "source": [
    "from sklearn.model_selection import train_test_split\n",
    "X_train, X_test, y_train, y_test = train_test_split(X, y, test_size = 0.25, random_state = 42)\n"
   ]
  },
  {
   "cell_type": "code",
   "execution_count": null,
   "id": "797930e6-85d5-4a0a-b999-af106fc0c731",
   "metadata": {},
   "outputs": [],
   "source": [
    "print(X_train)"
   ]
  },
  {
   "cell_type": "code",
   "execution_count": null,
   "id": "829c6173-0502-408a-9ee6-a6ca5d9fd0dc",
   "metadata": {},
   "outputs": [],
   "source": [
    "print(y_train)"
   ]
  },
  {
   "cell_type": "code",
   "execution_count": null,
   "id": "60afc477-cb95-4698-baa5-48596548dc2e",
   "metadata": {},
   "outputs": [],
   "source": [
    "print(X_test)"
   ]
  },
  {
   "cell_type": "code",
   "execution_count": null,
   "id": "b737f6ac-34b4-4a19-93d3-35fd86ac80b2",
   "metadata": {},
   "outputs": [],
   "source": [
    "print(y_test)"
   ]
  },
  {
   "cell_type": "markdown",
   "id": "fb27f49c-bd04-4c69-b928-90871e2e9c8f",
   "metadata": {},
   "source": [
    "### 4. Feature Scaling"
   ]
  },
  {
   "cell_type": "code",
   "execution_count": null,
   "id": "26eb278e-93e2-4c4a-93c4-23fbbe6af9ac",
   "metadata": {},
   "outputs": [],
   "source": [
    "from sklearn.preprocessing import StandardScaler\n",
    "sc = StandardScaler()\n",
    "X_train = sc.fit_transform(X_train)\n",
    "X_test = sc.transform(X_test)"
   ]
  },
  {
   "cell_type": "code",
   "execution_count": null,
   "id": "02feb094-933a-409e-bf0f-e9916becad12",
   "metadata": {},
   "outputs": [],
   "source": [
    "print(X_train)"
   ]
  },
  {
   "cell_type": "code",
   "execution_count": null,
   "id": "fef51e50-68d0-4188-9b9b-1329f2b7b22d",
   "metadata": {},
   "outputs": [],
   "source": [
    "print(X_test)"
   ]
  },
  {
   "cell_type": "markdown",
   "id": "75621e51-89a2-4ae2-b42d-d744215075f0",
   "metadata": {},
   "source": [
    "### 5. Build  Logistic Regression model"
   ]
  },
  {
   "cell_type": "code",
   "execution_count": null,
   "id": "4460d869-b5f8-463b-ae99-293353cb04d5",
   "metadata": {},
   "outputs": [],
   "source": [
    "from sklearn.linear_model import LogisticRegression\n",
    "classifier = LogisticRegression(random_state = 42)\n",
    "classifier"
   ]
  },
  {
   "cell_type": "markdown",
   "id": "097f6268-05cb-4d12-afc6-5e13befaebb2",
   "metadata": {},
   "source": [
    "### 6. Hyperparameter tuning for a logistic regression model using scikit-learn's GridSearchCV"
   ]
  },
  {
   "cell_type": "code",
   "execution_count": null,
   "id": "36708095-2875-4a23-b7f9-c61c5c883c31",
   "metadata": {},
   "outputs": [],
   "source": [
    "parameter = {'penalty':['l1', 'l2', 'elasticnet'],'C':[1,0.01,0.001],'max_iter':[100,200,300]}\n",
    "logistic_regressor = GridSearchCV(classifier, param_grid=parameter, scoring='accuracy',cv=5)\n",
    "logistic_regressor"
   ]
  },
  {
   "cell_type": "markdown",
   "id": "751bc088-f247-4d3b-bf0f-f296fc3c88e3",
   "metadata": {},
   "source": [
    "### 7. Train the Logistic Reegression model"
   ]
  },
  {
   "cell_type": "code",
   "execution_count": null,
   "id": "d5d49b7c-cf3d-4e8a-a5fc-9d4fc3fe99af",
   "metadata": {},
   "outputs": [],
   "source": [
    "logistic_regressor.fit(X_train,y_train)"
   ]
  },
  {
   "cell_type": "markdown",
   "id": "513cfa3d-95a6-45aa-a6ad-aea8b55127d7",
   "metadata": {},
   "source": [
    "### 8 .Make Predictions "
   ]
  },
  {
   "cell_type": "code",
   "execution_count": null,
   "id": "94841221-acda-4b06-9311-5d134cac2d22",
   "metadata": {},
   "outputs": [],
   "source": [
    "y_pred = logistic_regressor.predict(X_test)"
   ]
  },
  {
   "cell_type": "markdown",
   "id": "b573c8ae-9824-4eb3-a359-5e62528b5747",
   "metadata": {},
   "source": [
    "### 9. Evaluate the Model"
   ]
  },
  {
   "cell_type": "code",
   "execution_count": null,
   "id": "82b43963-84f5-4986-a1ec-3992a5d040b9",
   "metadata": {},
   "outputs": [],
   "source": [
    "from sklearn.metrics import accuracy_score, confusion_matrix, classification_report\n",
    "accuracy = accuracy_score(y_test, y_pred)\n",
    "class_report = classification_report(y_test, y_pred)\n",
    "\n",
    "print(f\"Accuracy: {accuracy}\")\n",
    "print(f\"Classification Report:\\n{class_report}\")"
   ]
  },
  {
   "cell_type": "markdown",
   "id": "72a096e7-1377-400e-ab78-8b199c450e82",
   "metadata": {},
   "source": [
    "### 10. Create Confusion Matrix using testing data and prediction data"
   ]
  },
  {
   "cell_type": "code",
   "execution_count": null,
   "id": "6ce3d670-ab8d-4389-9995-741febb6c997",
   "metadata": {},
   "outputs": [],
   "source": [
    "conf_matrix = confusion_matrix(y_test, y_pred)\n",
    "print(conf_matrix)"
   ]
  },
  {
   "cell_type": "markdown",
   "id": "32458ebc-ac20-4fbb-9069-a178b5fcf6ea",
   "metadata": {},
   "source": [
    "### 11.Visualising the Confusion Matrix  result\n",
    " "
   ]
  },
  {
   "cell_type": "code",
   "execution_count": null,
   "id": "94d23259-22ad-436c-8e00-4d0149c78341",
   "metadata": {},
   "outputs": [],
   "source": [
    "import seaborn as sns\n",
    "plt.figure(figsize = (10,7))\n",
    "sns.heatmap(conf_matrix, annot=True, fmt='d',cmap='coolwarm')\n",
    "plt.xlabel('Predicted')\n",
    "plt.ylabel('Truth')"
   ]
  },
  {
   "cell_type": "code",
   "execution_count": null,
   "id": "797b2a4b-eef0-46e2-b453-9ed581c4ba17",
   "metadata": {},
   "outputs": [],
   "source": []
  }
 ],
 "metadata": {
  "kernelspec": {
   "display_name": "Python 3 (ipykernel)",
   "language": "python",
   "name": "python3"
  },
  "language_info": {
   "codemirror_mode": {
    "name": "ipython",
    "version": 3
   },
   "file_extension": ".py",
   "mimetype": "text/x-python",
   "name": "python",
   "nbconvert_exporter": "python",
   "pygments_lexer": "ipython3",
   "version": "3.9.17"
  }
 },
 "nbformat": 4,
 "nbformat_minor": 5
}
