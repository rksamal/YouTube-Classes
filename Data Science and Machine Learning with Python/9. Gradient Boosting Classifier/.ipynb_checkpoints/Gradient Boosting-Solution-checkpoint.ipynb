{
 "cells": [
  {
   "cell_type": "markdown",
   "id": "ed6c50da-de4d-4676-8ee0-552c6e10b7aa",
   "metadata": {},
   "source": [
    "<img src=https://lstms-brainybits.s3.ap-south-1.amazonaws.com/green+logo.png width=\"300\" height=\"200\" style=\"float: left; margin-right: 8px;\">"
   ]
  },
  {
   "cell_type": "markdown",
   "id": "9de25dce-ee3e-426f-82a9-33f251b5de45",
   "metadata": {},
   "source": [
    "We believe in empowering individuals with the\n",
    "knowledge and skills they need to become lifelong\n",
    "learners. Our self-learning website offers a diverse\n",
    "range of high-quality, interactive courses.\n",
    "**All rights reserved to BrainyBits. Unauthorized reproduction or distribution of this content is prohibited.**"
   ]
  },
  {
   "cell_type": "markdown",
   "id": "df189236-1472-4140-8e9b-d5e270f6da03",
   "metadata": {},
   "source": [
    "# Gradient Boosting"
   ]
  },
  {
   "cell_type": "markdown",
   "id": "1b784293-cc51-452e-98d0-068ee1433661",
   "metadata": {},
   "source": [
    "### 1. Importing the libraries"
   ]
  },
  {
   "cell_type": "code",
   "execution_count": null,
   "id": "3d19aed6-f47f-4b6f-a35e-ca25d7abbc18",
   "metadata": {},
   "outputs": [],
   "source": [
    "import numpy as np\n",
    "import pandas as pd\n",
    "import matplotlib.pyplot as plt\n",
    "import seaborn as sns"
   ]
  },
  {
   "cell_type": "markdown",
   "id": "935e6e25-ce2b-4855-bcd1-18e1acc59405",
   "metadata": {},
   "source": [
    "### 2. Importing the dataset"
   ]
  },
  {
   "cell_type": "code",
   "execution_count": null,
   "id": "2b5f1358-161c-4e74-bed9-f1c98a47b9c4",
   "metadata": {},
   "outputs": [],
   "source": [
    "data=pd.read_csv('diabetes.csv')"
   ]
  },
  {
   "cell_type": "markdown",
   "id": "2647c10e-5bb9-4281-9e72-c158e3396ee8",
   "metadata": {},
   "source": [
    "### 3. Preprocessing the data"
   ]
  },
  {
   "cell_type": "code",
   "execution_count": null,
   "id": "d2c7ade9-aa21-4cc8-beb2-6c0aa56b46d8",
   "metadata": {},
   "outputs": [],
   "source": [
    "data.isnull().sum()"
   ]
  },
  {
   "cell_type": "code",
   "execution_count": null,
   "id": "aba987c9-d041-4d5b-9b76-9ecdf603989e",
   "metadata": {},
   "outputs": [],
   "source": [
    "data.info()"
   ]
  },
  {
   "cell_type": "code",
   "execution_count": null,
   "id": "9581c35d-279b-48c7-9605-e535c4f1a5ea",
   "metadata": {},
   "outputs": [],
   "source": [
    "data. describe()"
   ]
  },
  {
   "cell_type": "markdown",
   "id": "35135ca0-87c1-49f8-aefc-60a20f131942",
   "metadata": {},
   "source": [
    "### 4. Splitting the data"
   ]
  },
  {
   "cell_type": "code",
   "execution_count": null,
   "id": "c4d643cd-a5db-4c52-8c9e-7984aa1db258",
   "metadata": {},
   "outputs": [],
   "source": [
    "feature_cols = [\"Glucose\", \"BloodPressure\",\"SkinThickness\" ,\"Insulin\", \"DiabetesPedigreeFunction\",\"Age\"]\n",
    "X = data[feature_cols]\n",
    "y = data[\"Outcome\"]"
   ]
  },
  {
   "cell_type": "markdown",
   "id": "00541045-ebc3-4d3f-9f6e-4ce80cf52241",
   "metadata": {},
   "source": [
    "### 5.Splitting the dataset train and test"
   ]
  },
  {
   "cell_type": "code",
   "execution_count": null,
   "id": "15932eee-1bde-403c-bca1-dc0ebef36c4c",
   "metadata": {},
   "outputs": [],
   "source": [
    "from sklearn.model_selection import train_test_split\n",
    "X_train,X_test,y_train,y_test=train_test_split(X,y,test_size=0.1,random_state=1)"
   ]
  },
  {
   "cell_type": "code",
   "execution_count": null,
   "id": "d00cf6c3-fe88-4749-8c0f-9ef56ccad560",
   "metadata": {},
   "outputs": [],
   "source": [
    "X_train.shape"
   ]
  },
  {
   "cell_type": "markdown",
   "id": "8f6a0761-bc59-47a6-98e7-39a9ce75271d",
   "metadata": {},
   "source": [
    "### 6. Build Gradient  Boosting model"
   ]
  },
  {
   "cell_type": "code",
   "execution_count": null,
   "id": "d3010d1a-74c7-4f42-9b96-abd480517b85",
   "metadata": {},
   "outputs": [],
   "source": [
    "from sklearn.ensemble import GradientBoostingClassifier\n",
    "gb = GradientBoostingClassifier()"
   ]
  },
  {
   "cell_type": "markdown",
   "id": "3d7fc1cc-bf4e-4fb0-a9c3-4125beee8a36",
   "metadata": {},
   "source": [
    "### 7. Hyperparameters tunning"
   ]
  },
  {
   "cell_type": "code",
   "execution_count": null,
   "id": "9257db7c-c801-48e5-a724-746b494887a0",
   "metadata": {},
   "outputs": [],
   "source": [
    "from sklearn.model_selection import GridSearchCV\n",
    "param_grid = {\n",
    "    'n_estimators': [50, 100, 200],\n",
    "    'learning_rate': [0.01, 0.1, 0.2],\n",
    "    'max_depth': [3, 4, 5],\n",
    "    'min_samples_split': [2, 3, 4],\n",
    "    'min_samples_leaf': [1, 2, 3]\n",
    "}\n",
    "grid_search = GridSearchCV(estimator=gb, param_grid=param_grid, cv=5, scoring='accuracy', n_jobs=-1)\n"
   ]
  },
  {
   "cell_type": "markdown",
   "id": "bad50931-6cce-44c6-b83d-972f00dbe7b7",
   "metadata": {},
   "source": [
    "### 8. Training the Model"
   ]
  },
  {
   "cell_type": "code",
   "execution_count": null,
   "id": "25ba5cc2-a5be-4f89-8ee1-78cbe5ebd4d2",
   "metadata": {},
   "outputs": [],
   "source": [
    "grid_search.fit(X_train, y_train)"
   ]
  },
  {
   "cell_type": "markdown",
   "id": "f1ecfba0-80ee-47d9-96f2-3a1dd07c9948",
   "metadata": {},
   "source": [
    "### 9. Best hyperparameters and Best Model"
   ]
  },
  {
   "cell_type": "code",
   "execution_count": null,
   "id": "f3778459-4f97-4967-9f79-bdb80d6fe616",
   "metadata": {},
   "outputs": [],
   "source": [
    "Best_Hyperparameters =  grid_search.best_params_\n",
    "Best_Hyperparameters\n",
    "best_gb_model = grid_search.best_estimator_\n",
    "best_gb_model"
   ]
  },
  {
   "cell_type": "markdown",
   "id": "7b82aa01-1d14-4a42-8bcc-272b912215c0",
   "metadata": {},
   "source": [
    "### 10. Predictions and Accuracy of  the model"
   ]
  },
  {
   "cell_type": "code",
   "execution_count": null,
   "id": "bac2251c-3f33-4129-be2d-07ebfc193f7b",
   "metadata": {},
   "outputs": [],
   "source": [
    "from sklearn.metrics import accuracy_score, confusion_matrix\n",
    "y_pred = best_gb_model.predict(X_test)\n",
    "test_accuracy = accuracy_score(y_test, y_pred)\n",
    "print(test_accuracy)"
   ]
  },
  {
   "cell_type": "markdown",
   "id": "09c22487-5615-4888-b939-6b11ac0e5159",
   "metadata": {},
   "source": [
    "### 11. Confussion Matrix"
   ]
  },
  {
   "cell_type": "code",
   "execution_count": null,
   "id": "77e4f229-5f97-40be-aeea-9fcaa40a30af",
   "metadata": {},
   "outputs": [],
   "source": [
    "# confusion matrix\n",
    "\n",
    "# Print the Confusion Matrix and slice it into four pieces\n",
    "\n",
    "from sklearn.metrics import confusion_matrix\n",
    "\n",
    "cm = confusion_matrix(y_test, y_pred)\n",
    "\n",
    "print('Confusion matrix\\n\\n', cm)\n",
    "\n",
    "print('\\nTrue Positives(TP) = ', cm[0,0])\n",
    "\n",
    "print('\\nTrue Negatives(TN) = ', cm[1,1])\n",
    "\n",
    "print('\\nFalse Positives(FP) = ', cm[0,1])\n",
    "\n",
    "print('\\nFalse Negatives(FN) = ', cm[1,0])"
   ]
  },
  {
   "cell_type": "code",
   "execution_count": null,
   "id": "77169e1a",
   "metadata": {},
   "outputs": [],
   "source": [
    "import seaborn as sns\n",
    "cm_matrix = pd.DataFrame(data=cm, columns=['Actual Positive:1', 'Actual Negative:0'], \n",
    "                                 index=['Predict Positive:1', 'Predict Negative:0'])\n",
    "\n",
    "sns.heatmap(cm_matrix, annot=True, fmt='d', cmap='YlGnBu')"
   ]
  },
  {
   "cell_type": "code",
   "execution_count": null,
   "id": "b6c0d3b2",
   "metadata": {},
   "outputs": [],
   "source": [
    "from sklearn.metrics import classification_report\n",
    "\n",
    "print(classification_report(y_test, y_pred))"
   ]
  }
 ],
 "metadata": {
  "kernelspec": {
   "display_name": "Python 3 (ipykernel)",
   "language": "python",
   "name": "python3"
  },
  "language_info": {
   "codemirror_mode": {
    "name": "ipython",
    "version": 3
   },
   "file_extension": ".py",
   "mimetype": "text/x-python",
   "name": "python",
   "nbconvert_exporter": "python",
   "pygments_lexer": "ipython3",
   "version": "3.9.17"
  }
 },
 "nbformat": 4,
 "nbformat_minor": 5
}
