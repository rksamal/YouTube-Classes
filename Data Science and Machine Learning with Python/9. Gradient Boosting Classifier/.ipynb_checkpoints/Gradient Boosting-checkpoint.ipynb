{
 "cells": [
  {
   "cell_type": "markdown",
   "id": "731f0b95-389a-41c6-9228-92ec3441e648",
   "metadata": {},
   "source": [
    "<img src=https://lstms-brainybits.s3.ap-south-1.amazonaws.com/green+logo.png width=\"300\" height=\"200\" style=\"float: left; margin-right: 8px;\">"
   ]
  },
  {
   "cell_type": "markdown",
   "id": "838a3ff7-fba5-4a45-bb65-efe20fdc7e66",
   "metadata": {},
   "source": [
    "We believe in empowering individuals with the\n",
    "knowledge and skills they need to become lifelong\n",
    "learners. Our self-learning website offers a diverse\n",
    "range of high-quality, interactive courses.\n",
    "**All rights reserved to BrainyBits. Unauthorized reproduction or distribution of this content is prohibited.**"
   ]
  },
  {
   "cell_type": "markdown",
   "id": "add6127a-16d8-44d3-b4e4-dfd757beabca",
   "metadata": {},
   "source": [
    "# Gradient Boosting"
   ]
  },
  {
   "cell_type": "markdown",
   "id": "abaed17a-d72c-4b4a-8e70-4b54d8cbc5bb",
   "metadata": {},
   "source": [
    "### 1. Importing the libraries"
   ]
  },
  {
   "cell_type": "code",
   "execution_count": null,
   "id": "fbb62996-32d0-4ecf-8f32-daabd83d17c2",
   "metadata": {},
   "outputs": [],
   "source": [
    "from sklearn.ensemble import GradientBoostingClassifier\n",
    "from sklearn.model_selection import GridSearchCV\n",
    "from sklearn.datasets import load_iris\n",
    "from sklearn.model_selection import train_test_split\n",
    "from sklearn.metrics import accuracy_score, confusion_matrix\n",
    "import seaborn as sns\n",
    "import matplotlib.pyplot as plt"
   ]
  },
  {
   "cell_type": "markdown",
   "id": "f2aa4f09-e58d-4231-8fa8-d02bd9ff7e51",
   "metadata": {},
   "source": [
    "### 2. Load the iris dataset"
   ]
  },
  {
   "cell_type": "code",
   "execution_count": null,
   "id": "dc6d1cc1-5890-4381-9ea2-58dcc65a2eb6",
   "metadata": {},
   "outputs": [],
   "source": [
    "data = load_iris()\n",
    "X = data.data\n",
    "y = data.target"
   ]
  },
  {
   "cell_type": "code",
   "execution_count": null,
   "id": "11404ebe-2676-40ac-b1bf-0289745e244a",
   "metadata": {},
   "outputs": [],
   "source": [
    "X"
   ]
  },
  {
   "cell_type": "code",
   "execution_count": null,
   "id": "f840efb6-f0df-4c64-97ef-09d7b50026d0",
   "metadata": {},
   "outputs": [],
   "source": [
    "y"
   ]
  },
  {
   "cell_type": "markdown",
   "id": "6e9b1a5d-a16a-432f-b76a-1195a9f566c6",
   "metadata": {},
   "source": [
    "### 3. Split the data into training and testing sets"
   ]
  },
  {
   "cell_type": "code",
   "execution_count": null,
   "id": "642425d4-a844-4051-85de-22e1ea82ab58",
   "metadata": {},
   "outputs": [],
   "source": [
    "X_train, X_test, y_train, y_test = train_test_split(X, y, test_size=0.2, random_state=42)\n"
   ]
  },
  {
   "cell_type": "markdown",
   "id": "553e0864-471c-45cc-8a99-2f8255dced11",
   "metadata": {},
   "source": [
    "### 4.build a Gradient Boosting classifier"
   ]
  },
  {
   "cell_type": "code",
   "execution_count": null,
   "id": "5aa7e8cb-7c4d-4797-9073-29d514f9c735",
   "metadata": {},
   "outputs": [],
   "source": [
    "gb = GradientBoostingClassifier()"
   ]
  },
  {
   "cell_type": "markdown",
   "id": "c56b0f38-b23b-4ee4-bf79-b732d89383e8",
   "metadata": {},
   "source": [
    "### 5. hyperparameters tunning"
   ]
  },
  {
   "cell_type": "code",
   "execution_count": null,
   "id": "f92b052c-9f5f-492a-9385-ddcd6c715c26",
   "metadata": {},
   "outputs": [],
   "source": [
    "param_grid = {\n",
    "    'n_estimators': [50, 100, 200],\n",
    "    'learning_rate': [0.01, 0.1, 0.2],\n",
    "    'max_depth': [3, 4, 5],\n",
    "    'min_samples_split': [2, 3, 4],\n",
    "    'min_samples_leaf': [1, 2, 3]\n",
    "}\n",
    "grid_search = GridSearchCV(estimator=gb, param_grid=param_grid, cv=5, scoring='accuracy', n_jobs=-1)\n"
   ]
  },
  {
   "cell_type": "markdown",
   "id": "39621085-022f-45df-86ed-54fe9a0dbc55",
   "metadata": {},
   "source": [
    "### 6. Training the Model"
   ]
  },
  {
   "cell_type": "code",
   "execution_count": null,
   "id": "9b4b79ba-ed46-432c-8387-f20c5ac74e13",
   "metadata": {},
   "outputs": [],
   "source": [
    "grid_search.fit(X_train, y_train)"
   ]
  },
  {
   "cell_type": "markdown",
   "id": "0a0379ec-ee79-4eb0-8606-0e82b6428816",
   "metadata": {},
   "source": [
    "### 7. Best hyperparameters and Best Model"
   ]
  },
  {
   "cell_type": "code",
   "execution_count": null,
   "id": "48091485-47ec-4ec1-854a-43e3dc6183e1",
   "metadata": {},
   "outputs": [],
   "source": [
    "Best_Hyperparameters =  grid_search.best_params_\n",
    "Best_Hyperparameters\n",
    "best_gb_model = grid_search.best_estimator_\n",
    "best_gb_model"
   ]
  },
  {
   "cell_type": "markdown",
   "id": "1c72e71d-1225-4fd1-9fd1-72a2b78b1fce",
   "metadata": {},
   "source": [
    "### 8. Predictions and Accuracy of  the model"
   ]
  },
  {
   "cell_type": "code",
   "execution_count": null,
   "id": "f5529641-d6a1-4edf-af17-321a762315ff",
   "metadata": {},
   "outputs": [],
   "source": [
    "y_pred = best_gb_model.predict(X_test)\n",
    "y_pred\n",
    "test_accuracy = accuracy_score(y_test, y_pred)\n",
    "test_accuracy"
   ]
  },
  {
   "cell_type": "markdown",
   "id": "f70b0273-fdef-4eae-8d8a-7a680ccdacfa",
   "metadata": {},
   "source": [
    "### 9. Confussion Matrix"
   ]
  },
  {
   "cell_type": "code",
   "execution_count": null,
   "id": "40d5f50a-94ae-4116-a15f-85e19dd1acd8",
   "metadata": {},
   "outputs": [],
   "source": [
    "# confusion matrix\n",
    "\n",
    "# Print the Confusion Matrix and slice it into four pieces\n",
    "\n",
    "from sklearn.metrics import confusion_matrix\n",
    "\n",
    "cm = confusion_matrix(y_test, y_pred)\n",
    "\n",
    "print('Confusion matrix\\n\\n', cm)\n",
    "\n",
    "print('\\nTrue Positives(TP) = ', cm[0,0])\n",
    "\n",
    "print('\\nTrue Negatives(TN) = ', cm[1,1])\n",
    "\n",
    "print('\\nFalse Positives(FP) = ', cm[0,1])\n",
    "\n",
    "print('\\nFalse Negatives(FN) = ', cm[1,0])"
   ]
  },
  {
   "cell_type": "code",
   "execution_count": null,
   "id": "3dc4c5e6",
   "metadata": {},
   "outputs": [],
   "source": [
    "from sklearn.metrics import classification_report\n",
    "\n",
    "print(classification_report(y_test, y_pred))"
   ]
  },
  {
   "cell_type": "markdown",
   "id": "4ff7d371-63d6-429e-b93b-147168ecd821",
   "metadata": {},
   "source": [
    "### 10. Display the confusion matrix using a heatmap"
   ]
  },
  {
   "cell_type": "code",
   "execution_count": null,
   "id": "23699ab0-520b-4b27-9c77-6cf8cd54d86a",
   "metadata": {},
   "outputs": [],
   "source": [
    "plt.figure(figsize=(8, 6))\n",
    "sns.heatmap(cm, annot=True, fmt='d', cmap='Blues', cbar=False,\n",
    "            xticklabels=data.target_names, yticklabels=data.target_names)\n",
    "plt.xlabel('Predicted Label')\n",
    "plt.ylabel('True Label')\n",
    "plt.title('Confusion Matrix')\n",
    "plt.show()"
   ]
  },
  {
   "cell_type": "code",
   "execution_count": null,
   "id": "9664d404-34b6-423e-9898-216e56915de4",
   "metadata": {},
   "outputs": [],
   "source": []
  }
 ],
 "metadata": {
  "kernelspec": {
   "display_name": "Python 3 (ipykernel)",
   "language": "python",
   "name": "python3"
  },
  "language_info": {
   "codemirror_mode": {
    "name": "ipython",
    "version": 3
   },
   "file_extension": ".py",
   "mimetype": "text/x-python",
   "name": "python",
   "nbconvert_exporter": "python",
   "pygments_lexer": "ipython3",
   "version": "3.9.17"
  }
 },
 "nbformat": 4,
 "nbformat_minor": 5
}
