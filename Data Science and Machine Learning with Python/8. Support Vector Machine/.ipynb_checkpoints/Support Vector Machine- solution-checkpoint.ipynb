{
 "cells": [
  {
   "cell_type": "markdown",
   "id": "795485e6-e25a-436e-b5a9-611286642e16",
   "metadata": {},
   "source": [
    "<img src=https://lstms-brainybits.s3.ap-south-1.amazonaws.com/green+logo.png width=\"300\" height=\"200\" style=\"float: left; margin-right: 8px;\">"
   ]
  },
  {
   "cell_type": "markdown",
   "id": "d13c232c-25e9-4717-b5de-2e692b37f8c1",
   "metadata": {},
   "source": [
    "We believe in empowering individuals with the\n",
    "knowledge and skills they need to become lifelong\n",
    "learners. Our self-learning website offers a diverse\n",
    "range of high-quality, interactive courses.\n",
    "**All rights reserved to BrainyBits. Unauthorized reproduction or distribution of this content is prohibited.**"
   ]
  },
  {
   "cell_type": "markdown",
   "id": "33850c9e-c5c8-4ea9-9138-8ef84cb42fe0",
   "metadata": {},
   "source": [
    "# Support Vector Machine (SVM)"
   ]
  },
  {
   "cell_type": "markdown",
   "id": "f5622564-452b-4dac-b07d-2559fa26005e",
   "metadata": {},
   "source": [
    "### 1. Importing the libraries"
   ]
  },
  {
   "cell_type": "code",
   "execution_count": null,
   "id": "bc733f03-1351-41f7-8f97-28c6410889ec",
   "metadata": {},
   "outputs": [],
   "source": [
    "import numpy as np\n",
    "import pandas as pd\n",
    "from sklearn.model_selection import train_test_split \n",
    "from sklearn.model_selection import train_test_split, GridSearchCV \n",
    "from sklearn.metrics import accuracy_score, classification_report\n",
    "from sklearn import svm \n",
    "from sklearn.svm import SVC \n",
    "from sklearn import metrics \n",
    "from sklearn.metrics import confusion_matrix"
   ]
  },
  {
   "cell_type": "markdown",
   "id": "63b26a42-d922-48a7-9410-37741f401549",
   "metadata": {},
   "source": [
    "### 2. Data recuperation"
   ]
  },
  {
   "cell_type": "code",
   "execution_count": null,
   "id": "90bad3aa-d6e1-4c5b-bb4a-953c5c91f664",
   "metadata": {},
   "outputs": [],
   "source": [
    "dataset = pd.read_csv('sonar data.csv')\n"
   ]
  },
  {
   "cell_type": "markdown",
   "id": "e6c24380-bffc-486b-87cd-bc61cce3844a",
   "metadata": {},
   "source": [
    "### 3.Exploratory Data Analysis"
   ]
  },
  {
   "cell_type": "code",
   "execution_count": null,
   "id": "9f8d7e21-ca25-4486-a412-8836a9bfafdc",
   "metadata": {},
   "outputs": [],
   "source": [
    "dataset.shape"
   ]
  },
  {
   "cell_type": "code",
   "execution_count": null,
   "id": "7244de90-95b3-4f18-94c2-4ff339e787cc",
   "metadata": {},
   "outputs": [],
   "source": [
    "\n",
    "dataset.describe()"
   ]
  },
  {
   "cell_type": "markdown",
   "id": "4021631f-1f48-46ff-b7cc-231135d94989",
   "metadata": {},
   "source": [
    "### 4.Splitting dataset"
   ]
  },
  {
   "cell_type": "code",
   "execution_count": null,
   "id": "462b4812-48c5-4be9-a44e-8f6cb8dec4b3",
   "metadata": {},
   "outputs": [],
   "source": [
    "X = dataset.iloc[:, :-1].values\n",
    "y = dataset.iloc[:, -1].values"
   ]
  },
  {
   "cell_type": "markdown",
   "id": "d3241d56-5496-4899-a060-0991a289d893",
   "metadata": {},
   "source": [
    "### 5. Spltting the data into   Train data and Test data"
   ]
  },
  {
   "cell_type": "code",
   "execution_count": null,
   "id": "43d9ae07-a7b8-4ead-8a5e-cdc14fb2978c",
   "metadata": {},
   "outputs": [],
   "source": [
    "X_train,X_test,y_train,y_test = train_test_split(X,y,test_size = 0.20,stratify = y,random_state = 1)"
   ]
  },
  {
   "cell_type": "code",
   "execution_count": null,
   "id": "3b2a6460-071b-41a6-9a5a-4b69f6d0af6a",
   "metadata": {},
   "outputs": [],
   "source": [
    "print(X.shape, X_train.shape, X_test.shape)"
   ]
  },
  {
   "cell_type": "code",
   "execution_count": null,
   "id": "66ceb0d9-4b0c-458d-a71c-f343568a12e4",
   "metadata": {},
   "outputs": [],
   "source": [
    "print(X_train)\n",
    "print(y_train)"
   ]
  },
  {
   "cell_type": "markdown",
   "id": "d34d55d9-c136-429c-8f0e-78c7c9b68ef3",
   "metadata": {},
   "source": [
    "### 6. Hyperparameter tuning for a Support Vector Machine model using scikit-learn's GridSearchCV"
   ]
  },
  {
   "cell_type": "code",
   "execution_count": null,
   "id": "87867a37-b7e7-435c-98c9-aa32306802bd",
   "metadata": {},
   "outputs": [],
   "source": [
    "svm_model = SVC()\n",
    "param_grid = {\n",
    "    'C': [0.1, 1, 10, 100],\n",
    "    'kernel':['linear', 'rbf', 'poly', 'sigmoid'],\n",
    "    'gamma': [0.01, 0.1, 1, 'scale']\n",
    "}\n",
    "grid_search = GridSearchCV(svm_model, param_grid, cv=5, scoring='accuracy')\n",
    "grid_search.fit(X_train, y_train)"
   ]
  },
  {
   "cell_type": "markdown",
   "id": "03db304b-57a2-4376-bbb0-a57b31c2f72a",
   "metadata": {},
   "source": [
    "### 7.Train the model"
   ]
  },
  {
   "cell_type": "code",
   "execution_count": null,
   "id": "df9e89ef-9bd1-4da0-8646-f42a9d940658",
   "metadata": {},
   "outputs": [],
   "source": [
    "grid_search.fit(X_train, y_train)"
   ]
  },
  {
   "cell_type": "markdown",
   "id": "2ca329c5-22c5-4577-8d03-ba6cd1e5b3e0",
   "metadata": {},
   "source": [
    "### 8. Best hyperparameters"
   ]
  },
  {
   "cell_type": "code",
   "execution_count": null,
   "id": "b6b190a9-4cf4-4ed5-89fa-f8bcf02744cd",
   "metadata": {},
   "outputs": [],
   "source": [
    "Best_Hyperparameters = grid_search.best_params_\n",
    "Best_Hyperparameters"
   ]
  },
  {
   "cell_type": "markdown",
   "id": "3f624a2a-eefd-4cc0-8540-3382320577bf",
   "metadata": {},
   "source": [
    "### 9.Accuracy of the test data"
   ]
  },
  {
   "cell_type": "code",
   "execution_count": null,
   "id": "ebc389bf-98af-45b0-b87a-08fa74ebe1d2",
   "metadata": {},
   "outputs": [],
   "source": [
    "best_model = grid_search.best_estimator_\n",
    "accuracy = best_model.score(X_test, y_test)\n",
    "print(\"Test Accuracy:\", accuracy)"
   ]
  },
  {
   "cell_type": "markdown",
   "id": "005f3cda-3b40-4abd-8297-dfb110d32e69",
   "metadata": {},
   "source": [
    "### 10.Confussion Matrix"
   ]
  },
  {
   "cell_type": "code",
   "execution_count": null,
   "id": "2345d1ec-959a-4574-9ba5-8106fb0d1a50",
   "metadata": {},
   "outputs": [],
   "source": [
    "y_pred = best_model.predict(X_test)\n",
    "confu_matrix = confusion_matrix(y_pred, y_test)\n",
    "confu_matrix"
   ]
  },
  {
   "cell_type": "markdown",
   "id": "534cc74e-4cdf-437d-85f1-851ab29ac35f",
   "metadata": {},
   "source": [
    "### 11. Visualising the Confusion Matrix result"
   ]
  },
  {
   "cell_type": "code",
   "execution_count": null,
   "id": "3a5ec4af-5051-4a46-aec6-2b303b1633bd",
   "metadata": {},
   "outputs": [],
   "source": [
    "import seaborn as sns\n",
    "import matplotlib.pyplot as plt\n",
    "plt.figure(figsize = (10,7))\n",
    "sns.heatmap(confu_matrix, annot=True, fmt='d',cmap='coolwarm')\n",
    "plt.xlabel('Predicted')\n",
    "plt.ylabel('Truth')"
   ]
  },
  {
   "cell_type": "code",
   "execution_count": null,
   "id": "98910397-21c1-4989-8186-0269edc81e07",
   "metadata": {},
   "outputs": [],
   "source": []
  }
 ],
 "metadata": {
  "kernelspec": {
   "display_name": "Python 3 (ipykernel)",
   "language": "python",
   "name": "python3"
  },
  "language_info": {
   "codemirror_mode": {
    "name": "ipython",
    "version": 3
   },
   "file_extension": ".py",
   "mimetype": "text/x-python",
   "name": "python",
   "nbconvert_exporter": "python",
   "pygments_lexer": "ipython3",
   "version": "3.9.17"
  }
 },
 "nbformat": 4,
 "nbformat_minor": 5
}
