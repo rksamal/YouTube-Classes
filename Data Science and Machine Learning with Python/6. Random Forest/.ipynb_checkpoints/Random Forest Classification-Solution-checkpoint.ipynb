{
 "cells": [
  {
   "cell_type": "markdown",
   "id": "e9e95b68-5373-45bc-9918-82883c1022ae",
   "metadata": {},
   "source": [
    "<img src=https://lstms-brainybits.s3.ap-south-1.amazonaws.com/green+logo.png width=\"300\" height=\"200\" style=\"float: left; margin-right: 8px;\">"
   ]
  },
  {
   "cell_type": "markdown",
   "id": "225fc36f-6900-4ba9-9ec0-ddc8bab9001d",
   "metadata": {},
   "source": [
    "We believe in empowering individuals with the\n",
    "knowledge and skills they need to become lifelong\n",
    "learners. Our self-learning website offers a diverse\n",
    "range of high-quality, interactive courses.\n",
    "**All rights reserved to BrainyBits. Unauthorized reproduction or distribution of this content is prohibited.**"
   ]
  },
  {
   "cell_type": "markdown",
   "id": "c8203f47-ca63-47ea-902c-8b015dcc88f7",
   "metadata": {},
   "source": [
    "# Random Forest Classification"
   ]
  },
  {
   "cell_type": "markdown",
   "id": "ada1a6a2-d7b0-4410-bfa6-ffabde79a31e",
   "metadata": {},
   "source": [
    "### 1. Importing the libraries"
   ]
  },
  {
   "cell_type": "code",
   "execution_count": null,
   "id": "54ba0bd9-8a67-4488-8660-eb0503b57285",
   "metadata": {},
   "outputs": [],
   "source": [
    "import numpy as np\n",
    "import pandas as pd\n",
    "from sklearn.model_selection import train_test_split \n",
    "from sklearn.metrics import accuracy_score, classification_report\n",
    "from sklearn import metrics \n",
    "from sklearn.metrics import confusion_matrix"
   ]
  },
  {
   "cell_type": "markdown",
   "id": "e2697504-dcf3-4375-86f8-b265b4996b97",
   "metadata": {},
   "source": [
    "### 2. Loading the dataset"
   ]
  },
  {
   "cell_type": "code",
   "execution_count": null,
   "id": "247992cb-2aa6-4966-87a4-9451db747323",
   "metadata": {},
   "outputs": [],
   "source": [
    "dataset = pd.read_csv('sonar data.csv')\n"
   ]
  },
  {
   "cell_type": "markdown",
   "id": "82131d6e-0b7d-4a18-93e4-d68d766bc620",
   "metadata": {},
   "source": [
    "### 3. Preprocessing the data"
   ]
  },
  {
   "cell_type": "code",
   "execution_count": null,
   "id": "a01a88be-13ea-4f8c-aa64-a04898de2772",
   "metadata": {},
   "outputs": [],
   "source": [
    "dataset.describe()"
   ]
  },
  {
   "cell_type": "markdown",
   "id": "7f5e802a-e04f-4bf9-8a80-a426af18d54f",
   "metadata": {},
   "source": [
    "### 4. Splitting the data set"
   ]
  },
  {
   "cell_type": "code",
   "execution_count": null,
   "id": "43906897-4e64-459e-b23c-5683abbebb16",
   "metadata": {},
   "outputs": [],
   "source": [
    "X = dataset.iloc[:, :-1].values\n",
    "y = dataset.iloc[:, -1].values"
   ]
  },
  {
   "cell_type": "markdown",
   "id": "16287207-d932-40ff-9596-92024a730289",
   "metadata": {},
   "source": [
    "### 5. Splitting the data into training set and testing set"
   ]
  },
  {
   "cell_type": "code",
   "execution_count": null,
   "id": "6c3dbf31-c694-46ab-bb68-42c174c3d9f1",
   "metadata": {},
   "outputs": [],
   "source": [
    "X_train,X_test,y_train,y_test = train_test_split(X,y,test_size = 0.20,stratify = y,random_state = 1)"
   ]
  },
  {
   "cell_type": "code",
   "execution_count": null,
   "id": "72716415-0e4a-4a07-a382-c81ae8fe11ff",
   "metadata": {},
   "outputs": [],
   "source": [
    "print(X.shape, X_train.shape, X_test.shape)"
   ]
  },
  {
   "cell_type": "markdown",
   "id": "e167ff6c-2693-495e-ae8e-8b5ce58a914a",
   "metadata": {},
   "source": [
    "### 6. Build the Random Forest Classifier"
   ]
  },
  {
   "cell_type": "code",
   "execution_count": null,
   "id": "39392c6e-667a-4b9b-94f0-9fd39e4fd997",
   "metadata": {},
   "outputs": [],
   "source": [
    "from sklearn.ensemble import RandomForestClassifier\n",
    "rf = RandomForestClassifier()"
   ]
  },
  {
   "cell_type": "markdown",
   "id": "7f1e4eae-ee69-4521-9ee0-444ec8bc6048",
   "metadata": {},
   "source": [
    "### 7. Hyperperameter tunning "
   ]
  },
  {
   "cell_type": "code",
   "execution_count": null,
   "id": "253185fd-3fe4-41f9-8cbc-5ab453a2c166",
   "metadata": {},
   "outputs": [],
   "source": [
    "from sklearn.model_selection import GridSearchCV\n",
    "param_grid = {\n",
    "    'n_estimators': [10, 50, 100, 200],\n",
    "    'max_depth': [None, 10, 20, 30],\n",
    "    'min_samples_split': [2, 5, 10],\n",
    "    'min_samples_leaf': [1, 2, 4]\n",
    "}\n",
    "grid_search = GridSearchCV(estimator=rf, param_grid=param_grid, cv=5, scoring='accuracy', n_jobs=-1)\n"
   ]
  },
  {
   "cell_type": "markdown",
   "id": "01be2c42-bcff-470c-9b3c-2bbb59301234",
   "metadata": {},
   "source": [
    "### 8. Training the data with grid_searchCV"
   ]
  },
  {
   "cell_type": "code",
   "execution_count": null,
   "id": "b7443180-bb86-4014-bbc8-93f304b1bb38",
   "metadata": {},
   "outputs": [],
   "source": [
    "grid_search.fit(X_train, y_train)\n"
   ]
  },
  {
   "cell_type": "markdown",
   "id": "b8c87963-0684-4236-b968-98ba5c560888",
   "metadata": {},
   "source": [
    "### 9. Get Best Hyperparameters and Best Model"
   ]
  },
  {
   "cell_type": "code",
   "execution_count": null,
   "id": "ed29050b-e8a0-4748-bb0a-c32a99ed94ba",
   "metadata": {},
   "outputs": [],
   "source": [
    "#Best_Hyperparameters = grid_search.best_params_\n",
    "print(\"Best Hyperparameters:\", grid_search.best_params_)\n",
    "best_rf_model = grid_search.best_estimator_\n",
    "best_rf_model"
   ]
  },
  {
   "cell_type": "markdown",
   "id": "5bd952e9-0a93-49ea-a8a1-e16d10c14ee8",
   "metadata": {},
   "source": [
    "### 10. Evaluate the model"
   ]
  },
  {
   "cell_type": "code",
   "execution_count": null,
   "id": "0c6fc557-a64f-4769-b833-25d6fe62bb93",
   "metadata": {},
   "outputs": [],
   "source": [
    "test_accuracy = best_rf_model.score(X_test, y_test)\n",
    "test_accuracy"
   ]
  },
  {
   "cell_type": "markdown",
   "id": "cf5fdca2-aea0-400a-b7da-9201100642e5",
   "metadata": {},
   "source": [
    "### 11. Prediction of test model using the best model"
   ]
  },
  {
   "cell_type": "code",
   "execution_count": null,
   "id": "c80a076f-4357-49ff-bd09-32b25633fdaf",
   "metadata": {},
   "outputs": [],
   "source": [
    "y_pred = best_rf_model.predict(X_test)\n",
    "y_pred"
   ]
  },
  {
   "cell_type": "markdown",
   "id": "d55ba8c7-35ab-4ccf-9992-2d42ea52ea13",
   "metadata": {},
   "source": [
    "### 12.Confussion Matrix"
   ]
  },
  {
   "cell_type": "code",
   "execution_count": null,
   "id": "5d6e1572-2f4b-49e8-b130-b64563cd24ba",
   "metadata": {},
   "outputs": [],
   "source": [
    "# confusion matrix\n",
    "\n",
    "# Print the Confusion Matrix and slice it into four pieces\n",
    "\n",
    "from sklearn.metrics import confusion_matrix\n",
    "\n",
    "cm = confusion_matrix(y_test, y_pred)\n",
    "\n",
    "print('Confusion matrix\\n\\n', cm)\n",
    "\n",
    "print('\\nTrue Positives(TP) = ', cm[0,0])\n",
    "\n",
    "print('\\nTrue Negatives(TN) = ', cm[1,1])\n",
    "\n",
    "print('\\nFalse Positives(FP) = ', cm[0,1])\n",
    "\n",
    "print('\\nFalse Negatives(FN) = ', cm[1,0])"
   ]
  },
  {
   "cell_type": "code",
   "execution_count": null,
   "id": "9ad4ff0b",
   "metadata": {},
   "outputs": [],
   "source": [
    "import seaborn as sns\n",
    "cm_matrix = pd.DataFrame(data=cm, columns=['Actual Positive:1', 'Actual Negative:0'], \n",
    "                                 index=['Predict Positive:1', 'Predict Negative:0'])\n",
    "\n",
    "sns.heatmap(cm_matrix, annot=True, fmt='d', cmap='YlGnBu')"
   ]
  },
  {
   "cell_type": "code",
   "execution_count": null,
   "id": "c39ee1e9",
   "metadata": {},
   "outputs": [],
   "source": [
    "from sklearn.metrics import classification_report\n",
    "\n",
    "print(classification_report(y_test, y_pred))"
   ]
  }
 ],
 "metadata": {
  "kernelspec": {
   "display_name": "Python 3 (ipykernel)",
   "language": "python",
   "name": "python3"
  },
  "language_info": {
   "codemirror_mode": {
    "name": "ipython",
    "version": 3
   },
   "file_extension": ".py",
   "mimetype": "text/x-python",
   "name": "python",
   "nbconvert_exporter": "python",
   "pygments_lexer": "ipython3",
   "version": "3.9.17"
  }
 },
 "nbformat": 4,
 "nbformat_minor": 5
}
