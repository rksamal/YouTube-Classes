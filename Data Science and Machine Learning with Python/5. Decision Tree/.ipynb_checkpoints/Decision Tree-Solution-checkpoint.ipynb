{
 "cells": [
  {
   "cell_type": "markdown",
   "id": "b4621c0a-c1bb-4007-8c2f-ab398c4ab557",
   "metadata": {},
   "source": [
    "<img src=https://lstms-brainybits.s3.ap-south-1.amazonaws.com/green+logo.png width=\"300\" height=\"200\" style=\"float: left; margin-right: 8px;\">"
   ]
  },
  {
   "cell_type": "markdown",
   "id": "80d1631a-3b63-4e1d-9e20-2dda54477eda",
   "metadata": {},
   "source": [
    "We believe in empowering individuals with the\n",
    "knowledge and skills they need to become lifelong\n",
    "learners. Our self-learning website offers a diverse\n",
    "range of high-quality, interactive courses.\n",
    "**All rights reserved to BrainyBits. Unauthorized reproduction or distribution of this content is prohibited.**"
   ]
  },
  {
   "cell_type": "markdown",
   "id": "66418655-0820-4510-be7e-d23c400f27e8",
   "metadata": {},
   "source": [
    "# Decision Tree"
   ]
  },
  {
   "cell_type": "markdown",
   "id": "334866cc-925e-4cab-b096-6314ec188e50",
   "metadata": {},
   "source": [
    "### 1. Importing the libraries"
   ]
  },
  {
   "cell_type": "code",
   "execution_count": null,
   "id": "13873d1f-15f4-4883-a9be-1dcb4b242d20",
   "metadata": {},
   "outputs": [],
   "source": [
    "import numpy as np\n",
    "import pandas as pd\n",
    "import matplotlib.pyplot as plt\n",
    "import seaborn as s"
   ]
  },
  {
   "cell_type": "markdown",
   "id": "0585fcd7-9d33-4123-9115-208a22210057",
   "metadata": {},
   "source": [
    "### 2. Importing the dataset"
   ]
  },
  {
   "cell_type": "code",
   "execution_count": null,
   "id": "7214ea8a-4419-4999-8d3f-2dc4de580153",
   "metadata": {},
   "outputs": [],
   "source": [
    "data=pd.read_csv('diabetes.csv')"
   ]
  },
  {
   "cell_type": "markdown",
   "id": "54ce61e3-6d34-49f2-8a94-727e8d231a68",
   "metadata": {},
   "source": [
    "### 3. Preprocessing the data"
   ]
  },
  {
   "cell_type": "code",
   "execution_count": null,
   "id": "dfb3d563-c61d-4151-b47b-c3d7383bdbde",
   "metadata": {},
   "outputs": [],
   "source": [
    "data.isnull().sum()"
   ]
  },
  {
   "cell_type": "code",
   "execution_count": null,
   "id": "5bfa2010-09fc-4c7b-bc7b-7311673828a1",
   "metadata": {},
   "outputs": [],
   "source": [
    "data.info()"
   ]
  },
  {
   "cell_type": "code",
   "execution_count": null,
   "id": "3e213adc-ea27-4f3e-a09f-f5faebf0bbf1",
   "metadata": {},
   "outputs": [],
   "source": [
    "data. describe()"
   ]
  },
  {
   "cell_type": "markdown",
   "id": "1268c401-4c5a-4be6-ab5c-f9d670d9aa67",
   "metadata": {},
   "source": [
    "### 4. Correlation of data"
   ]
  },
  {
   "cell_type": "code",
   "execution_count": null,
   "id": "4feed5c0-7efc-4189-9740-952bcb9cdcb3",
   "metadata": {},
   "outputs": [],
   "source": [
    "data.corr()\n"
   ]
  },
  {
   "cell_type": "markdown",
   "id": "ce49ad8f-636c-423f-bee3-83ef21208956",
   "metadata": {},
   "source": [
    "### 5. Splitting the data"
   ]
  },
  {
   "cell_type": "code",
   "execution_count": null,
   "id": "aa0a1ddc-2c30-4448-b042-961fe034a4b8",
   "metadata": {},
   "outputs": [],
   "source": [
    "feature_cols = [\"Glucose\", \"BloodPressure\",\"SkinThickness\" ,\"Insulin\", \"DiabetesPedigreeFunction\",\"Age\"]\n",
    "X = data[feature_cols]\n",
    "y = data[\"Outcome\"]"
   ]
  },
  {
   "cell_type": "markdown",
   "id": "c67af6d5-947f-4170-98bb-9723f6b3c8a5",
   "metadata": {},
   "source": [
    "### 6.Splitting the dataset train and test"
   ]
  },
  {
   "cell_type": "code",
   "execution_count": null,
   "id": "e81a81ef-5bca-4cd1-a4a7-1a9e0a00f9fa",
   "metadata": {},
   "outputs": [],
   "source": [
    "from sklearn.model_selection import train_test_split\n",
    "X_train,X_test,y_train,y_test=train_test_split(X,y,test_size=0.1,random_state=1)"
   ]
  },
  {
   "cell_type": "code",
   "execution_count": null,
   "id": "64749e86-a301-4197-8744-649d9039cf52",
   "metadata": {},
   "outputs": [],
   "source": [
    "X_train.shape"
   ]
  },
  {
   "cell_type": "markdown",
   "id": "cb45ae9f-a285-4362-b0e6-09e8164c2c66",
   "metadata": {},
   "source": [
    "### 7. Build Decision Tree model"
   ]
  },
  {
   "cell_type": "code",
   "execution_count": null,
   "id": "256022a0-40a5-45e0-bd7f-a8baa1fb3869",
   "metadata": {},
   "outputs": [],
   "source": [
    "from sklearn.tree import DecisionTreeClassifier\n",
    "dt_clf=DecisionTreeClassifier()"
   ]
  },
  {
   "cell_type": "markdown",
   "id": "0c1389f8-7003-4c84-b1cb-005698320d0f",
   "metadata": {},
   "source": [
    "### 8. hyperparameter tunning"
   ]
  },
  {
   "cell_type": "code",
   "execution_count": null,
   "id": "f4f44242-e383-458f-a6f2-56b723f09e38",
   "metadata": {},
   "outputs": [],
   "source": [
    "from sklearn.model_selection import GridSearchCV\n",
    "param_grid = {\n",
    "    'max_depth': [None, 5, 10, 15],\n",
    "    'min_samples_split': [2, 5, 10],\n",
    "    'min_samples_leaf': [1, 2, 4]\n",
    "}\n",
    "grid_search = GridSearchCV(estimator=dt_clf, param_grid=param_grid, cv=5, scoring='accuracy', n_jobs=-1)"
   ]
  },
  {
   "cell_type": "markdown",
   "id": "ba4b6408-c056-477e-bb6a-e6111787c98c",
   "metadata": {},
   "source": [
    "### 9. Training  the Decision Tree Model using grid_search"
   ]
  },
  {
   "cell_type": "code",
   "execution_count": null,
   "id": "04352e58-d78d-4c7c-8ddf-5e78f7337139",
   "metadata": {},
   "outputs": [],
   "source": [
    "grid_search.fit(X_train, y_train)"
   ]
  },
  {
   "cell_type": "markdown",
   "id": "e2238c58-bb0a-4b3a-b6ec-57cbdc173dff",
   "metadata": {},
   "source": [
    "### 10. Get Best_Hyperparameters and Best Model"
   ]
  },
  {
   "cell_type": "code",
   "execution_count": null,
   "id": "1df66c51-f077-4db0-a1ed-0817268a5c35",
   "metadata": {},
   "outputs": [],
   "source": [
    "Best_Hyperparameters =  grid_search.best_params_\n",
    "Best_Hyperparameters\n",
    "best_dt_model = grid_search.best_estimator_\n",
    "best_dt_model"
   ]
  },
  {
   "cell_type": "markdown",
   "id": "12705ffd-e91e-4037-8ba0-adc909d1405d",
   "metadata": {},
   "source": [
    "### 11. Predicting for test data"
   ]
  },
  {
   "cell_type": "code",
   "execution_count": null,
   "id": "0a44fd6a-420e-439d-9003-064a3aa7f5d8",
   "metadata": {},
   "outputs": [],
   "source": [
    "y_pred=best_dt_model.predict(X_test)\n",
    "y_pred"
   ]
  },
  {
   "cell_type": "markdown",
   "id": "349439ca-0f22-411e-8019-b9f556b7c0db",
   "metadata": {},
   "source": [
    "### 11. Model Accuracy"
   ]
  },
  {
   "cell_type": "code",
   "execution_count": null,
   "id": "f5ab7689-2c5d-4514-ae45-de814261e83b",
   "metadata": {},
   "outputs": [],
   "source": [
    "from sklearn.metrics import accuracy_score, confusion_matrix\n",
    "Accuracy = accuracy_score(y_test,y_pred)\n",
    "Accuracy"
   ]
  },
  {
   "cell_type": "markdown",
   "id": "d40d62b4-d4a3-4e5f-a924-ba730dfe396d",
   "metadata": {},
   "source": [
    "### 12. Confussion Matrix"
   ]
  },
  {
   "cell_type": "code",
   "execution_count": null,
   "id": "922d8a19-f422-4ffc-bd33-49102e070048",
   "metadata": {},
   "outputs": [],
   "source": [
    "# confusion matrix\n",
    "\n",
    "# Print the Confusion Matrix and slice it into four pieces\n",
    "\n",
    "from sklearn.metrics import confusion_matrix\n",
    "\n",
    "cm = confusion_matrix(y_test, y_pred)\n",
    "\n",
    "print('Confusion matrix\\n\\n', cm)\n",
    "\n",
    "print('\\nTrue Positives(TP) = ', cm[0,0])\n",
    "\n",
    "print('\\nTrue Negatives(TN) = ', cm[1,1])\n",
    "\n",
    "print('\\nFalse Positives(FP) = ', cm[0,1])\n",
    "\n",
    "print('\\nFalse Negatives(FN) = ', cm[1,0])"
   ]
  },
  {
   "cell_type": "code",
   "execution_count": null,
   "id": "164533ec",
   "metadata": {},
   "outputs": [],
   "source": [
    "import seaborn as sns\n",
    "cm_matrix = pd.DataFrame(data=cm, columns=['Actual Positive:1', 'Actual Negative:0'], \n",
    "                                 index=['Predict Positive:1', 'Predict Negative:0'])\n",
    "\n",
    "sns.heatmap(cm_matrix, annot=True, fmt='d', cmap='YlGnBu')"
   ]
  },
  {
   "cell_type": "code",
   "execution_count": null,
   "id": "b3704b0d",
   "metadata": {},
   "outputs": [],
   "source": [
    "from sklearn.metrics import classification_report\n",
    "\n",
    "print(classification_report(y_test, y_pred))"
   ]
  },
  {
   "cell_type": "markdown",
   "id": "0b82ec37-6f16-437a-9b92-bfadef77945d",
   "metadata": {},
   "source": [
    "### 13. Visuvalizing the Tree"
   ]
  },
  {
   "cell_type": "code",
   "execution_count": null,
   "id": "210fca82-0e4d-4119-8894-59d335dad102",
   "metadata": {},
   "outputs": [],
   "source": [
    "from sklearn import tree\n",
    "from sklearn.tree import DecisionTreeClassifier, plot_tree\n",
    "plt.figure(figsize=(8, 6))\n",
    "plot_tree(best_dt_model, feature_names=feature_cols, filled=True)\n",
    "plt.show()"
   ]
  },
  {
   "cell_type": "code",
   "execution_count": null,
   "id": "eae72dc1-51db-4d8f-b000-db2b05aeb5ca",
   "metadata": {},
   "outputs": [],
   "source": []
  }
 ],
 "metadata": {
  "kernelspec": {
   "display_name": "Python 3 (ipykernel)",
   "language": "python",
   "name": "python3"
  },
  "language_info": {
   "codemirror_mode": {
    "name": "ipython",
    "version": 3
   },
   "file_extension": ".py",
   "mimetype": "text/x-python",
   "name": "python",
   "nbconvert_exporter": "python",
   "pygments_lexer": "ipython3",
   "version": "3.9.17"
  }
 },
 "nbformat": 4,
 "nbformat_minor": 5
}
