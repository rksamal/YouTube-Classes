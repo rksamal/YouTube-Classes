{
 "cells": [
  {
   "cell_type": "markdown",
   "id": "82f66251-d1be-4d03-9b53-b38640b0b634",
   "metadata": {},
   "source": [
    "<img src=https://lstms-brainybits.s3.ap-south-1.amazonaws.com/green+logo.png width=\"300\" height=\"200\" style=\"float: left; margin-right: 8px;\">"
   ]
  },
  {
   "cell_type": "markdown",
   "id": "4092cefb-725e-40b7-888f-9bf1d0c516bf",
   "metadata": {},
   "source": [
    "We believe in empowering individuals with the\n",
    "knowledge and skills they need to become lifelong\n",
    "learners. Our self-learning website offers a diverse\n",
    "range of high-quality, interactive courses.\n",
    "**All rights reserved to BrainyBits. Unauthorized reproduction or distribution of this content is prohibited.**"
   ]
  },
  {
   "cell_type": "markdown",
   "id": "79585070-1780-42c8-a267-7abd6a3d8b0e",
   "metadata": {},
   "source": [
    "# Naive Bayes"
   ]
  },
  {
   "cell_type": "markdown",
   "id": "5419aafc-c2ef-4005-b0f6-07ea986d3bc0",
   "metadata": {},
   "source": [
    "### 1. Importing the libraries"
   ]
  },
  {
   "cell_type": "code",
   "execution_count": null,
   "id": "c19411e3-4ca4-464d-a364-c4d35a54372b",
   "metadata": {},
   "outputs": [],
   "source": [
    "import numpy as np\n",
    "import matplotlib.pyplot as plt\n",
    "import pandas as pd\n",
    "from sklearn.model_selection import GridSearchCV\n"
   ]
  },
  {
   "cell_type": "markdown",
   "id": "679b5d83-c799-4bb1-bd54-14a62fae49ae",
   "metadata": {},
   "source": [
    "### 2. Importing the dataset"
   ]
  },
  {
   "cell_type": "code",
   "execution_count": null,
   "id": "f98d1e73-930d-4124-a976-1608d5404984",
   "metadata": {},
   "outputs": [],
   "source": [
    "dataset = pd.read_csv('diabetes.csv')\n",
    "X = dataset.iloc[:, :-1].values\n",
    "y = dataset.iloc[:, -1].values"
   ]
  },
  {
   "cell_type": "markdown",
   "id": "b3924993-07d8-4cb1-9757-f66b3ec6c466",
   "metadata": {},
   "source": [
    "### 3. Splitting the dataset into the Training set and Test set"
   ]
  },
  {
   "cell_type": "code",
   "execution_count": null,
   "id": "727095ef-1704-487f-8724-404b92e7a2d0",
   "metadata": {},
   "outputs": [],
   "source": [
    "from sklearn.model_selection import train_test_split\n",
    "X_train, X_test, y_train, y_test = train_test_split(X, y, test_size = 0.25, random_state = 42)\n"
   ]
  },
  {
   "cell_type": "code",
   "execution_count": null,
   "id": "586b9bc6-3887-48c0-a5bf-29541fb1aac8",
   "metadata": {},
   "outputs": [],
   "source": [
    "print(X_train)"
   ]
  },
  {
   "cell_type": "code",
   "execution_count": null,
   "id": "29a8dfd8-8734-4b6c-94e1-1a0b276b86dd",
   "metadata": {},
   "outputs": [],
   "source": [
    "print(y_train)"
   ]
  },
  {
   "cell_type": "code",
   "execution_count": null,
   "id": "53f8825a-aece-4ab3-bfaf-173f3fb9137e",
   "metadata": {},
   "outputs": [],
   "source": [
    "print(X_test)"
   ]
  },
  {
   "cell_type": "code",
   "execution_count": null,
   "id": "97626c73-397e-4889-83fc-4aae7571d223",
   "metadata": {},
   "outputs": [],
   "source": [
    "print(y_test)"
   ]
  },
  {
   "cell_type": "markdown",
   "id": "0ea1b599-43e2-4027-b650-e1d17d65fce8",
   "metadata": {},
   "source": [
    "### 4. Feature Scaling"
   ]
  },
  {
   "cell_type": "code",
   "execution_count": null,
   "id": "2cd13212-d8e9-4a7d-832a-9d8ce3173700",
   "metadata": {},
   "outputs": [],
   "source": [
    "from sklearn.preprocessing import StandardScaler\n",
    "sc = StandardScaler()\n",
    "X_train = sc.fit_transform(X_train)\n",
    "X_test = sc.transform(X_test)"
   ]
  },
  {
   "cell_type": "code",
   "execution_count": null,
   "id": "80eb1552-29f2-4a55-bbe5-e880aebfc169",
   "metadata": {},
   "outputs": [],
   "source": [
    "print(X_train)"
   ]
  },
  {
   "cell_type": "code",
   "execution_count": null,
   "id": "ec024dfd-abef-4784-8905-a9ec565d0b87",
   "metadata": {},
   "outputs": [],
   "source": [
    "print(X_test)"
   ]
  },
  {
   "cell_type": "markdown",
   "id": "06479928-35ed-4b13-bc34-45c14b415f66",
   "metadata": {},
   "source": [
    "### 5. Hyperperameter tuning technique for Naive Bayes model"
   ]
  },
  {
   "cell_type": "code",
   "execution_count": null,
   "id": "277f1977-57b3-4d07-bd68-f34ad1c43f81",
   "metadata": {},
   "outputs": [],
   "source": [
    "from sklearn.naive_bayes import GaussianNB\n",
    "gnb =  GaussianNB()\n",
    "from sklearn.model_selection import GridSearchCV\n",
    "param_grid_nb = {\n",
    "    'var_smoothing': np.logspace(0,-9, num=100)\n",
    "}\n",
    "nbModel_grid = GridSearchCV(estimator=GaussianNB(), param_grid=param_grid_nb, verbose=1, cv=10, n_jobs=-1)"
   ]
  },
  {
   "cell_type": "markdown",
   "id": "5b7df763-2973-4b6a-adeb-b04bbb139422",
   "metadata": {},
   "source": [
    "### 6.training the model"
   ]
  },
  {
   "cell_type": "code",
   "execution_count": null,
   "id": "75eae8b8-5873-4b9f-8e2d-c8f01739f22e",
   "metadata": {},
   "outputs": [],
   "source": [
    "nbModel_grid.fit(X_train, y_train)"
   ]
  },
  {
   "cell_type": "markdown",
   "id": "c7d3cd51-b514-4ef0-b044-cfb68447d6ae",
   "metadata": {},
   "source": [
    "### 7. Best estimator"
   ]
  },
  {
   "cell_type": "code",
   "execution_count": null,
   "id": "fd9b1512-2b8d-4850-9105-19d6f11ce270",
   "metadata": {},
   "outputs": [],
   "source": [
    "Best_estimator = nbModel_grid.best_estimator_"
   ]
  },
  {
   "cell_type": "markdown",
   "id": "adbe900d-e770-4164-b2fd-22421f04acb5",
   "metadata": {},
   "source": [
    "### 8. Prediction"
   ]
  },
  {
   "cell_type": "code",
   "execution_count": null,
   "id": "9d5934c3-3370-4755-bc3a-f519fa63827e",
   "metadata": {},
   "outputs": [],
   "source": [
    "y_pred = nbModel_grid.predict(X_test)\n",
    "print(y_pred)"
   ]
  },
  {
   "cell_type": "markdown",
   "id": "889a59a9-cb0b-4c21-b28a-f3571925f0ad",
   "metadata": {},
   "source": [
    "### 9.Confussion Matrix"
   ]
  },
  {
   "cell_type": "code",
   "execution_count": null,
   "id": "4933d267-5943-4743-a14a-65dfe2684a7c",
   "metadata": {},
   "outputs": [],
   "source": [
    "from sklearn.metrics import confusion_matrix\n",
    "confussion_matrix = confusion_matrix(y_test, y_pred)\n",
    "confussion_matrix"
   ]
  },
  {
   "cell_type": "markdown",
   "id": "a14cc2a5-1cb9-42ad-a721-176c27e42dc6",
   "metadata": {},
   "source": [
    "### 10. Accuracy Score"
   ]
  },
  {
   "cell_type": "code",
   "execution_count": null,
   "id": "937a6f4e-ac04-45b1-a1fc-9055ee2665a5",
   "metadata": {},
   "outputs": [],
   "source": [
    "from sklearn.metrics import accuracy_score\n",
    "accuarcy_score = accuracy_score(y_test, y_pred)\n",
    "accuarcy_score"
   ]
  },
  {
   "cell_type": "markdown",
   "id": "e25b231e-ce64-475a-9e89-be020fcd3d32",
   "metadata": {},
   "source": [
    "### 11. Precision_Score"
   ]
  },
  {
   "cell_type": "code",
   "execution_count": null,
   "id": "04066747-f92c-41e3-b399-a37b75541bfd",
   "metadata": {},
   "outputs": [],
   "source": [
    "from sklearn.metrics import precision_score\n",
    "precision_score = precision_score(y_test, y_pred)\n",
    "precision_score"
   ]
  },
  {
   "cell_type": "markdown",
   "id": "6fa7ea2c-8c56-4f6d-a8af-580c87d6e643",
   "metadata": {},
   "source": [
    "### 12.Recall_Score"
   ]
  },
  {
   "cell_type": "code",
   "execution_count": null,
   "id": "9ff1a37b-8433-4d4c-a890-fc6fb3af1c95",
   "metadata": {},
   "outputs": [],
   "source": [
    "from sklearn.metrics import recall_score\n",
    "recall_score = recall_score(y_test, y_pred)"
   ]
  },
  {
   "cell_type": "markdown",
   "id": "eb441c2c-90bc-496d-aaf8-fa054816a839",
   "metadata": {},
   "source": [
    "### 13.f1-Score"
   ]
  },
  {
   "cell_type": "code",
   "execution_count": null,
   "id": "d22a35c9-107b-4fa0-ac10-125e769517d1",
   "metadata": {},
   "outputs": [],
   "source": [
    "from sklearn.metrics import f1_score\n",
    "f1_score = f1_score(y_test, y_pred)"
   ]
  },
  {
   "cell_type": "markdown",
   "id": "5fec3b6d-238e-4b15-b0f6-f4a984f409a0",
   "metadata": {},
   "source": [
    "### 14.Classification metrices"
   ]
  },
  {
   "cell_type": "code",
   "execution_count": null,
   "id": "f41dc827-9db7-4cf6-8524-2bf34458f18f",
   "metadata": {},
   "outputs": [],
   "source": [
    "from sklearn.metrics import classification_report\n",
    "\n",
    "print(classification_report(y_test, y_pred))"
   ]
  },
  {
   "cell_type": "markdown",
   "id": "543b4e33-d4fc-4b39-bdb2-c6a1bc8eeda8",
   "metadata": {},
   "source": [
    "### 15. Cross -Validated ROC AUC"
   ]
  },
  {
   "cell_type": "code",
   "execution_count": null,
   "id": "f9957182-7090-42a9-bcfb-e55e15bdd6e2",
   "metadata": {},
   "outputs": [],
   "source": [
    "from sklearn.model_selection import cross_val_score\n",
    "\n",
    "Cross_validated_ROC_AUC = cross_val_score(gnb, X_train, y_train, cv=5, scoring='roc_auc').mean()\n",
    "\n",
    "print('Cross validated ROC AUC : {:.4f}'.format(Cross_validated_ROC_AUC))"
   ]
  },
  {
   "cell_type": "markdown",
   "id": "640feeae-6b7a-42c4-96c7-9ad354352140",
   "metadata": {},
   "source": [
    "### 16.K-fold Cross Validationa"
   ]
  },
  {
   "cell_type": "code",
   "execution_count": null,
   "id": "f3bcee27-4303-40c2-a56c-1ee89c3d8c87",
   "metadata": {},
   "outputs": [],
   "source": [
    "from sklearn.model_selection import cross_val_score\n",
    "\n",
    "scores = cross_val_score(gnb, X_train, y_train, cv = 10, scoring='accuracy')\n",
    "\n",
    "print('Cross-validation scores:{}'.format(scores))"
   ]
  },
  {
   "cell_type": "markdown",
   "id": "c5fc940e-30b4-4f03-b0dc-db842cedc99f",
   "metadata": {},
   "source": [
    "### 17. Average Cross Validation"
   ]
  },
  {
   "cell_type": "code",
   "execution_count": null,
   "id": "0620ad8f-b1f8-48ac-963b-67fab72f94db",
   "metadata": {},
   "outputs": [],
   "source": [
    "print('Average cross-validation score: {:.4f}'.format(scores.mean()))"
   ]
  }
 ],
 "metadata": {
  "kernelspec": {
   "display_name": "Python 3 (ipykernel)",
   "language": "python",
   "name": "python3"
  },
  "language_info": {
   "codemirror_mode": {
    "name": "ipython",
    "version": 3
   },
   "file_extension": ".py",
   "mimetype": "text/x-python",
   "name": "python",
   "nbconvert_exporter": "python",
   "pygments_lexer": "ipython3",
   "version": "3.9.17"
  }
 },
 "nbformat": 4,
 "nbformat_minor": 5
}
