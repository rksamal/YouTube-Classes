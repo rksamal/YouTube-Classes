{
 "cells": [
  {
   "cell_type": "markdown",
   "id": "34c8d602-108d-4499-b466-81e650f90018",
   "metadata": {},
   "source": [
    "<img src=https://lstms-brainybits.s3.ap-south-1.amazonaws.com/green+logo.png width=\"300\" height=\"200\" style=\"float: left; margin-right: 8px;\">"
   ]
  },
  {
   "cell_type": "markdown",
   "id": "77ac7175-4027-4adf-9727-c98c44ad47be",
   "metadata": {},
   "source": [
    "We believe in empowering individuals with the\n",
    "knowledge and skills they need to become lifelong\n",
    "learners. Our self-learning website offers a diverse\n",
    "range of high-quality, interactive courses.\n",
    "**All rights reserved to BrainyBits. Unauthorized reproduction or distribution of this content is prohibited.**\n"
   ]
  },
  {
   "cell_type": "markdown",
   "id": "93a346b6-a645-4c71-87fe-2a86377425d0",
   "metadata": {},
   "source": [
    "# Hierarchial Clustering"
   ]
  },
  {
   "cell_type": "markdown",
   "id": "cf446523-59b6-42d3-b291-16cdf0b10f12",
   "metadata": {},
   "source": [
    "### 1. Importing the libraries"
   ]
  },
  {
   "cell_type": "code",
   "execution_count": null,
   "id": "d59735d7-49cb-4c57-b624-4b076fe80718",
   "metadata": {},
   "outputs": [],
   "source": [
    "import numpy as np\n",
    "import matplotlib.pyplot as plt\n",
    "import pandas as pd"
   ]
  },
  {
   "cell_type": "markdown",
   "id": "3364e5f3-ff8a-4706-8d1b-7a39beefb59e",
   "metadata": {},
   "source": [
    "### 2. Importing the dataset"
   ]
  },
  {
   "cell_type": "code",
   "execution_count": null,
   "id": "c73776f0-0543-4033-837a-09bd45ce4e4e",
   "metadata": {},
   "outputs": [],
   "source": [
    "data=pd.read_csv('CC GENERAL.csv')"
   ]
  },
  {
   "cell_type": "code",
   "execution_count": null,
   "id": "6aaf2914-5e21-4f0f-a20d-2f08823ab1dc",
   "metadata": {},
   "outputs": [],
   "source": [
    "data = data.drop('CUST_ID', axis = 1) \n",
    "data.fillna(method ='ffill', inplace = True) \n",
    "data.head(5)"
   ]
  },
  {
   "cell_type": "markdown",
   "id": "f087ba59-3ec9-4cde-bad8-aad957d4f183",
   "metadata": {},
   "source": [
    "###  3.Standardize  and Normalizing the 0data"
   ]
  },
  {
   "cell_type": "code",
   "execution_count": null,
   "id": "fe3ba298-da70-4cb6-a16e-ba968ab947f0",
   "metadata": {},
   "outputs": [],
   "source": [
    "from sklearn.preprocessing import StandardScaler, normalize\n",
    "scaler = StandardScaler() \n",
    "scaled_df = scaler.fit_transform(data)\n",
    "normalized_df = normalize(scaled_df) "
   ]
  },
  {
   "cell_type": "markdown",
   "id": "1dbae407-ded9-403b-a3a7-76ceeaa3c795",
   "metadata": {},
   "source": [
    "### 4. Converting the numpy array into a pandas DataFrame and reducing dimensions"
   ]
  },
  {
   "cell_type": "code",
   "execution_count": null,
   "id": "85eab28d-bf5d-4ada-9998-f0b947d9130c",
   "metadata": {},
   "outputs": [],
   "source": [
    "from sklearn.decomposition import PCA\n",
    "normalized_df = pd.DataFrame(normalized_df)\n",
    "pca = PCA(n_components = 2) \n",
    "X_principal = pca.fit_transform(normalized_df) \n",
    "X_principal = pd.DataFrame(X_principal) \n",
    "X_principal.columns = ['P1', 'P2']   \n",
    "X_principal.head(2)"
   ]
  },
  {
   "cell_type": "markdown",
   "id": "cd010f09-63d2-4fb5-8e31-bbd13bd1e1f5",
   "metadata": {},
   "source": [
    "### 5. Dendograms"
   ]
  },
  {
   "cell_type": "code",
   "execution_count": null,
   "id": "75e782e8-caf3-4935-9c51-d6f1dc4e20dd",
   "metadata": {},
   "outputs": [],
   "source": [
    "import scipy.cluster.hierarchy as shc\n",
    "plt.figure(figsize =(6, 6)) \n",
    "plt.title('Visualising the data') \n",
    "Dendrogram = shc.dendrogram((shc.linkage(X_principal, method ='ward'))) "
   ]
  },
  {
   "cell_type": "markdown",
   "id": "5249e602-4958-4286-b0a4-97e32e6756a9",
   "metadata": {},
   "source": [
    "### 6. Silhouette Score"
   ]
  },
  {
   "cell_type": "code",
   "execution_count": null,
   "id": "7dc8c03a-40a1-49bd-b16a-166a9760b3d5",
   "metadata": {},
   "outputs": [],
   "source": [
    "from sklearn.metrics import silhouette_score\n",
    "from sklearn.cluster import AgglomerativeClustering \n",
    "silhouette_scores = [] \n",
    "\n",
    "for n_cluster in range(2, 8):\n",
    "    silhouette_scores.append( \n",
    "        silhouette_score(X_principal, AgglomerativeClustering(n_clusters = n_cluster).fit_predict(X_principal))) \n",
    "    "
   ]
  },
  {
   "cell_type": "markdown",
   "id": "28c1ca42-5c73-4c8b-86a7-06fad2d4ae31",
   "metadata": {},
   "source": [
    "### 7. Plotting a bar graph to compare the results"
   ]
  },
  {
   "cell_type": "code",
   "execution_count": null,
   "id": "c674eec2-3261-4235-8b0e-fe8d58c1fe54",
   "metadata": {},
   "outputs": [],
   "source": [
    "k = [2, 3, 4, 5, 6,7] \n",
    "plt.bar(k, silhouette_scores) \n",
    "plt.xlabel('Number of clusters', fontsize = 10) \n",
    "plt.ylabel('Silhouette Score', fontsize = 10) \n",
    "plt.show() "
   ]
  },
  {
   "cell_type": "markdown",
   "id": "e73fdccd-8af6-45f4-9865-356a66f6a414",
   "metadata": {},
   "source": [
    "### 8. Building and Visualizing clustering model for k = 3"
   ]
  },
  {
   "cell_type": "code",
   "execution_count": null,
   "id": "f693ca2c-db73-410d-b339-16916b75275d",
   "metadata": {},
   "outputs": [],
   "source": [
    "agg = AgglomerativeClustering(n_clusters=3)\n",
    "agg.fit(X_principal)"
   ]
  },
  {
   "cell_type": "markdown",
   "id": "cd657c75-fe4e-4d8e-a1b3-6943b0be6262",
   "metadata": {},
   "source": [
    "### 9. Visualizing the clustering "
   ]
  },
  {
   "cell_type": "code",
   "execution_count": null,
   "id": "22bc38fa-8a80-49ca-bc1d-8483903092a5",
   "metadata": {},
   "outputs": [],
   "source": [
    "plt.scatter(X_principal['P1'], X_principal['P2'],  \n",
    "           c = AgglomerativeClustering(n_clusters = 3).fit_predict(X_principal), cmap =plt.cm.winter) \n",
    "plt.show()"
   ]
  },
  {
   "cell_type": "code",
   "execution_count": null,
   "id": "f6a4a025-3937-46fb-858a-e1543454399a",
   "metadata": {},
   "outputs": [],
   "source": []
  }
 ],
 "metadata": {
  "kernelspec": {
   "display_name": "Python 3 (ipykernel)",
   "language": "python",
   "name": "python3"
  },
  "language_info": {
   "codemirror_mode": {
    "name": "ipython",
    "version": 3
   },
   "file_extension": ".py",
   "mimetype": "text/x-python",
   "name": "python",
   "nbconvert_exporter": "python",
   "pygments_lexer": "ipython3",
   "version": "3.9.17"
  }
 },
 "nbformat": 4,
 "nbformat_minor": 5
}
