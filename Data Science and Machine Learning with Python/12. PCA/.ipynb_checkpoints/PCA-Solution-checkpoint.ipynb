{
 "cells": [
  {
   "cell_type": "markdown",
   "id": "4a1cb8e8-dfcd-43e0-ae7f-dd593ceb65ea",
   "metadata": {},
   "source": [
    "<img src=https://lstms-brainybits.s3.ap-south-1.amazonaws.com/green+logo.png width=\"300\" height=\"200\" style=\"float: left; margin-right: 8px;\">"
   ]
  },
  {
   "cell_type": "markdown",
   "id": "971a35fe-48e5-4c23-b88d-4c40bc903c48",
   "metadata": {},
   "source": [
    "We believe in empowering individuals with the\n",
    "knowledge and skills they need to become lifelong\n",
    "learners. Our self-learning website offers a diverse\n",
    "range of high-quality, interactive courses.\n",
    "**All rights reserved to BrainyBits. Unauthorized reproduction or distribution of this content is prohibited.**"
   ]
  },
  {
   "cell_type": "markdown",
   "id": "f1850ff1-7f2c-4ad2-8035-1290952eb542",
   "metadata": {},
   "source": [
    "# Principal Component Analysis"
   ]
  },
  {
   "cell_type": "markdown",
   "id": "6a142158-3000-47ec-85ae-a4953775e39d",
   "metadata": {},
   "source": [
    "### 1. Importing libraries"
   ]
  },
  {
   "cell_type": "code",
   "execution_count": null,
   "id": "c6ab4673-193b-42c4-bc9a-d9f7d1da6da0",
   "metadata": {},
   "outputs": [],
   "source": [
    "import pandas as pd\n",
    "import matplotlib as mpl\n",
    "import matplotlib.pyplot as plt\n",
    "import seaborn as sns\n",
    "%matplotlib inline"
   ]
  },
  {
   "cell_type": "markdown",
   "id": "4fb5706b-1b32-4431-bf70-92f19bb07b81",
   "metadata": {},
   "source": [
    "### 2.Loading the dataset"
   ]
  },
  {
   "cell_type": "code",
   "execution_count": null,
   "id": "6d043de9-c092-4e8f-be9d-f9462d0b8f02",
   "metadata": {},
   "outputs": [],
   "source": [
    "df = pd.read_csv('HR_comma_sep.csv')"
   ]
  },
  {
   "cell_type": "code",
   "execution_count": null,
   "id": "2a8eddb3-36c4-4f07-b086-a1467fe82f48",
   "metadata": {},
   "outputs": [],
   "source": [
    "columns_names=df.columns.tolist()\n",
    "print(\"Columns names:\")\n",
    "print(columns_names)"
   ]
  },
  {
   "cell_type": "code",
   "execution_count": null,
   "id": "5078b519-fdea-47ce-9709-f4d2e0bdcae2",
   "metadata": {},
   "outputs": [],
   "source": [
    "df.shape"
   ]
  },
  {
   "cell_type": "code",
   "execution_count": null,
   "id": "644f1f22-c1f5-4087-be55-2d9ea0d98fb5",
   "metadata": {},
   "outputs": [],
   "source": [
    "df.head()"
   ]
  },
  {
   "cell_type": "code",
   "execution_count": null,
   "id": "0d1402b9-1257-48f4-82f1-6b0119a24a20",
   "metadata": {},
   "outputs": [],
   "source": [
    "df_drop=df.drop(labels=['sales','salary'],axis=1)\n",
    "df_drop.head()"
   ]
  },
  {
   "cell_type": "code",
   "execution_count": null,
   "id": "ddab783f-d859-480c-bcf0-9a891b44e3df",
   "metadata": {},
   "outputs": [],
   "source": [
    "cols = df_drop.columns.tolist()\n",
    "\n",
    "cols.insert(0, cols.pop(cols.index('left')))\n",
    "\n",
    "df_drop = df_drop.reindex(columns= cols)\n",
    "df_drop.head()"
   ]
  },
  {
   "cell_type": "markdown",
   "id": "f4895ba8-454a-4f34-ae20-a57f0b448218",
   "metadata": {},
   "source": [
    "### 3. Splitting the data"
   ]
  },
  {
   "cell_type": "code",
   "execution_count": null,
   "id": "ce67284c-e844-43d8-b69e-475eb125afd3",
   "metadata": {},
   "outputs": [],
   "source": [
    "X = df_drop.iloc[:,1:8].values\n",
    "y = df_drop.iloc[:,0].values\n",
    "X"
   ]
  },
  {
   "cell_type": "code",
   "execution_count": null,
   "id": "39d5f9af-ec1e-4de4-a107-f9bf14fe3fde",
   "metadata": {},
   "outputs": [],
   "source": [
    "y"
   ]
  },
  {
   "cell_type": "code",
   "execution_count": null,
   "id": "0a4fd716-85ef-4f53-a13c-3131f791fec8",
   "metadata": {},
   "outputs": [],
   "source": [
    "\n",
    "import numpy as np\n",
    "np.shape(X)"
   ]
  },
  {
   "cell_type": "code",
   "execution_count": null,
   "id": "579cc0c8-00cf-4b31-87fb-4d5d74f6884a",
   "metadata": {},
   "outputs": [],
   "source": [
    "np.shape(y)"
   ]
  },
  {
   "cell_type": "markdown",
   "id": "7eccd4c9-724f-430a-b9bc-8d2e4b3f2e55",
   "metadata": {},
   "source": [
    "### 4. Data Standardisation "
   ]
  },
  {
   "cell_type": "code",
   "execution_count": null,
   "id": "87e8299c-ef5a-4d13-847d-67ec868ff338",
   "metadata": {},
   "outputs": [],
   "source": [
    "from sklearn.preprocessing import StandardScaler\n",
    "X_std = StandardScaler().fit_transform(X)"
   ]
  },
  {
   "cell_type": "markdown",
   "id": "172f4aa3-bf29-4193-a977-17f017b22e1c",
   "metadata": {},
   "source": [
    "### 5. Covariance matrix"
   ]
  },
  {
   "cell_type": "code",
   "execution_count": null,
   "id": "c08ba4e6-41e4-4c62-9049-b41957fe1cf0",
   "metadata": {},
   "outputs": [],
   "source": [
    "mean_vec = np.mean(X_std, axis=0)\n",
    "cov_mat = (X_std - mean_vec).T.dot((X_std - mean_vec)) / (X_std.shape[0]-1)\n",
    "cov_mat"
   ]
  },
  {
   "cell_type": "code",
   "execution_count": null,
   "id": "e041ec47-275e-4cf7-b847-ea141aab12d1",
   "metadata": {},
   "outputs": [],
   "source": [
    "plt.figure(figsize=(8,8))\n",
    "sns.heatmap(cov_mat, vmax=1, square=True,annot=True,cmap='cubehelix')\n",
    "\n",
    "plt.title('Correlation between different features')"
   ]
  },
  {
   "cell_type": "markdown",
   "id": "36e7f524-a618-47e9-b457-ffac735ff5e6",
   "metadata": {},
   "source": [
    "### 6. Eigen decomposition of the covariance matrix"
   ]
  },
  {
   "cell_type": "code",
   "execution_count": null,
   "id": "65a2c492-ffaf-4dba-89b3-ba111e184eda",
   "metadata": {},
   "outputs": [],
   "source": [
    "eig_vals, eig_vecs = np.linalg.eig(cov_mat)\n",
    "\n",
    "print('Eigenvectors \\n%s' %eig_vecs)\n",
    "print('\\nEigenvalues \\n%s' %eig_vals)"
   ]
  },
  {
   "cell_type": "code",
   "execution_count": null,
   "id": "b12bb9c0-8ebc-418d-9217-93782463c944",
   "metadata": {},
   "outputs": [],
   "source": [
    "tot = sum(eig_vals)\n",
    "var_exp = [(i / tot)*100 for i in sorted(eig_vals, reverse=True)]"
   ]
  },
  {
   "cell_type": "code",
   "execution_count": null,
   "id": "b20aeeff-90eb-423d-bec8-f4b976666c8c",
   "metadata": {},
   "outputs": [],
   "source": [
    "with plt.style.context('dark_background'):\n",
    "    plt.figure(figsize=(6, 4))\n",
    "\n",
    "    plt.bar(range(7), var_exp, alpha=0.5, align='center',\n",
    "            label='individual explained variance')\n",
    "    plt.ylabel('Explained variance ratio')\n",
    "    plt.xlabel('Principal components')\n",
    "    plt.legend(loc='best')\n",
    "    plt.tight_layout()"
   ]
  },
  {
   "cell_type": "markdown",
   "id": "b5acef31-22a0-458b-bfd3-f9f04d8b8b9d",
   "metadata": {},
   "source": [
    "### 7. Applying PCA"
   ]
  },
  {
   "cell_type": "code",
   "execution_count": null,
   "id": "edf7e695-e01d-4662-a4ff-375d05c3ddfc",
   "metadata": {},
   "outputs": [],
   "source": [
    "from sklearn.decomposition import PCA\n",
    "pca = PCA()\n",
    "pca.fit_transform(X)"
   ]
  },
  {
   "cell_type": "code",
   "execution_count": null,
   "id": "fcdd82cc-1778-4854-a79c-503940303569",
   "metadata": {},
   "outputs": [],
   "source": [
    "pca.get_covariance()"
   ]
  },
  {
   "cell_type": "code",
   "execution_count": null,
   "id": "30caa4d9-33d2-4a6b-96cc-840f18b2da3e",
   "metadata": {},
   "outputs": [],
   "source": [
    "explained_variance=pca.explained_variance_ratio_\n",
    "explained_variance"
   ]
  },
  {
   "cell_type": "code",
   "execution_count": null,
   "id": "a34a4dcf-6483-4a9b-969d-00a0bba14723",
   "metadata": {},
   "outputs": [],
   "source": [
    "from sklearn.decomposition import PCA\n",
    "pca = PCA().fit(X_std)\n",
    "plt.plot(np.cumsum(pca.explained_variance_ratio_))\n",
    "plt.xlim(0,7)\n",
    "plt.xlabel('Number of components')\n",
    "plt.ylabel('Cumulative explained variance')"
   ]
  },
  {
   "cell_type": "code",
   "execution_count": null,
   "id": "2a8e83f5-12d1-4bfc-bb16-36e161c459df",
   "metadata": {},
   "outputs": [],
   "source": [
    "from sklearn.decomposition import PCA \n",
    "sklearn_pca = PCA(n_components=6)\n",
    "Y_sklearn = sklearn_pca.fit_transform(X_std)"
   ]
  },
  {
   "cell_type": "code",
   "execution_count": null,
   "id": "0d97b289-acb6-430c-9f3f-a87828b5c605",
   "metadata": {},
   "outputs": [],
   "source": [
    "print(Y_sklearn)"
   ]
  },
  {
   "cell_type": "code",
   "execution_count": null,
   "id": "8237c48d-2098-4dbd-8d9c-c39318da06f1",
   "metadata": {},
   "outputs": [],
   "source": []
  }
 ],
 "metadata": {
  "kernelspec": {
   "display_name": "Python 3 (ipykernel)",
   "language": "python",
   "name": "python3"
  },
  "language_info": {
   "codemirror_mode": {
    "name": "ipython",
    "version": 3
   },
   "file_extension": ".py",
   "mimetype": "text/x-python",
   "name": "python",
   "nbconvert_exporter": "python",
   "pygments_lexer": "ipython3",
   "version": "3.9.17"
  }
 },
 "nbformat": 4,
 "nbformat_minor": 5
}
