{
 "cells": [
  {
   "cell_type": "markdown",
   "id": "5ce0c901-27c7-4abe-abb8-26455924cd0a",
   "metadata": {},
   "source": [
    "<img src=https://lstms-brainybits.s3.ap-south-1.amazonaws.com/green+logo.png width=\"300\" height=\"200\" style=\"float: left; margin-right: 8px;\">"
   ]
  },
  {
   "cell_type": "markdown",
   "id": "197b441f-2bd1-49d0-ba64-1b6ed77db4cc",
   "metadata": {},
   "source": [
    "We believe in empowering individuals with the\n",
    "knowledge and skills they need to become lifelong\n",
    "learners. Our self-learning website offers a diverse\n",
    "range of high-quality, interactive courses.\n",
    "**All rights reserved to BrainyBits. Unauthorized reproduction or distribution of this content is prohibited.** "
   ]
  },
  {
   "cell_type": "markdown",
   "id": "a9f96e6d-7480-4717-8ac2-1fd2a44e0f9e",
   "metadata": {},
   "source": [
    "# Simple Linear Regression for Predicting Salary"
   ]
  },
  {
   "cell_type": "markdown",
   "id": "ef5d842f-76dc-44ed-8e72-3dfa3dcb6405",
   "metadata": {},
   "source": [
    "### 1. Import libraries"
   ]
  },
  {
   "cell_type": "code",
   "execution_count": null,
   "id": "8d9096eb-e666-4f5b-bbbd-c792bb088977",
   "metadata": {},
   "outputs": [],
   "source": [
    "import numpy as np\n",
    "import pandas as pd\n",
    "import matplotlib.pyplot as plt\n",
    "import seaborn as sns\n",
    "\n",
    "import warnings\n",
    "warnings.filterwarnings(\"ignore\") "
   ]
  },
  {
   "cell_type": "markdown",
   "id": "a04f5bbe-e849-46e6-b3da-89879c883aa1",
   "metadata": {},
   "source": [
    "### 2) Reading dataset"
   ]
  },
  {
   "cell_type": "code",
   "execution_count": null,
   "id": "45f219d4-38bd-450f-9d7e-0d19858ab380",
   "metadata": {},
   "outputs": [],
   "source": [
    "df = pd.read_csv(\"Salary_Data.csv\")"
   ]
  },
  {
   "cell_type": "markdown",
   "id": "6760d5b1",
   "metadata": {},
   "source": [
    "### 3) Exploratory Data Analysis"
   ]
  },
  {
   "cell_type": "code",
   "execution_count": null,
   "id": "cdd8213a",
   "metadata": {},
   "outputs": [],
   "source": [
    "df.head()"
   ]
  },
  {
   "cell_type": "code",
   "execution_count": null,
   "id": "1ca11899",
   "metadata": {},
   "outputs": [],
   "source": [
    "df.tail()"
   ]
  },
  {
   "cell_type": "code",
   "execution_count": null,
   "id": "59378753",
   "metadata": {},
   "outputs": [],
   "source": [
    "df.sample(10)   #Random Sample of 10 rows "
   ]
  },
  {
   "cell_type": "code",
   "execution_count": null,
   "id": "49c77cf7",
   "metadata": {},
   "outputs": [],
   "source": [
    "df.shape        # Rows and Columns of the Dataset. "
   ]
  },
  {
   "cell_type": "code",
   "execution_count": null,
   "id": "76d69205",
   "metadata": {},
   "outputs": [],
   "source": [
    "#Data type of the Data\n",
    "\n",
    "df.info()"
   ]
  },
  {
   "cell_type": "code",
   "execution_count": null,
   "id": "fdd55655",
   "metadata": {},
   "outputs": [],
   "source": [
    "df.describe()"
   ]
  },
  {
   "cell_type": "code",
   "execution_count": null,
   "id": "53cf59ed",
   "metadata": {},
   "outputs": [],
   "source": [
    "df.describe().T"
   ]
  },
  {
   "cell_type": "code",
   "execution_count": null,
   "id": "89573a36",
   "metadata": {},
   "outputs": [],
   "source": [
    "# Check for Outliers\n",
    "\n",
    "fig, axs = plt.subplots(1, figsize = (5,5))\n",
    "plt1 = sns.boxplot(df['YearsExperience'])\n",
    "plt.tight_layout()"
   ]
  },
  {
   "cell_type": "code",
   "execution_count": null,
   "id": "bbf0d7ed",
   "metadata": {},
   "outputs": [],
   "source": [
    "# Checking the Null Values in the Data. \n",
    "\n",
    "df.isnull().sum()"
   ]
  },
  {
   "cell_type": "code",
   "execution_count": null,
   "id": "904d0935",
   "metadata": {},
   "outputs": [],
   "source": [
    "# Checking zero values in the data. \n",
    "\n",
    "(df == 0).sum()   "
   ]
  },
  {
   "cell_type": "code",
   "execution_count": null,
   "id": "cf5c021a",
   "metadata": {},
   "outputs": [],
   "source": [
    "df.Salary.value_counts()"
   ]
  },
  {
   "cell_type": "code",
   "execution_count": null,
   "id": "a9151941",
   "metadata": {},
   "outputs": [],
   "source": [
    "df.Salary.value_counts().sum()     #Total Unique Values in the Data. "
   ]
  },
  {
   "cell_type": "code",
   "execution_count": null,
   "id": "b2bb550b",
   "metadata": {},
   "outputs": [],
   "source": [
    "# Correlation of input and output columns\n",
    "\n",
    "corrmat = df.corr()                        #pariwise correlation of all the columns \n",
    "top_corr_features = corrmat.index                    \n",
    "plt.figure(figsize = (5,5))\n",
    "\n",
    "#heatmap of the data\n",
    "\n",
    "g = sns.heatmap(df[corrmat.index].corr(),annot = True, cmap=\"RdYlGn\") # annot present values in the blocks. cmap = colormap \n",
    "\n",
    "# g = sns.heatmap(df[top_corr_features].corr(),annot = True, cmap=\"RdYlGn\") "
   ]
  },
  {
   "cell_type": "code",
   "execution_count": null,
   "id": "f3902021",
   "metadata": {},
   "outputs": [],
   "source": [
    "df.corr()   #Correlation between Variables."
   ]
  },
  {
   "cell_type": "code",
   "execution_count": null,
   "id": "8f59fa75",
   "metadata": {},
   "outputs": [],
   "source": [
    "import seaborn as sns\n",
    "sns.pairplot(df)"
   ]
  },
  {
   "cell_type": "code",
   "execution_count": null,
   "id": "1b878f66",
   "metadata": {
    "scrolled": false
   },
   "outputs": [],
   "source": [
    "# correlation with scatter plot\n",
    "\n",
    "X = df['YearsExperience']\n",
    "y = df['Salary']  \n",
    "\n",
    "plt.figure(figsize=(6,6))\n",
    "\n",
    "plt.scatter(X, y, label = \"label_name\" )\n",
    "\n",
    "# Set x and y axes labels\n",
    "plt.xlabel('YearsExperience')\n",
    "plt.ylabel('Salary')\n",
    "\n",
    "plt.title('Scatter Plot')\n",
    "\n",
    "plt.show()"
   ]
  },
  {
   "cell_type": "markdown",
   "id": "90223e39",
   "metadata": {},
   "source": [
    "### 4) Model Building"
   ]
  },
  {
   "cell_type": "markdown",
   "id": "6fc32ef9",
   "metadata": {},
   "source": [
    "## Simple Linear Regression Model using Classic methods (manual calculation)"
   ]
  },
  {
   "cell_type": "code",
   "execution_count": null,
   "id": "b5894a62",
   "metadata": {},
   "outputs": [],
   "source": [
    "df1 = pd.DataFrame({'YearsExperience as X': df['YearsExperience'], 'Salary as Y ':df['Salary'] })   \n",
    "df1.head(10)"
   ]
  },
  {
   "cell_type": "code",
   "execution_count": null,
   "id": "10c01f8b",
   "metadata": {},
   "outputs": [],
   "source": [
    "# Calculating the mean of X and Y \n",
    "\n",
    "mean_x = df['YearsExperience'].sum() / df['YearsExperience'].count()  \n",
    "round(mean_x,2) \n",
    "\n",
    "mean_y = df['Salary'].sum() / df['Salary'].count()   \n",
    "round(mean_y,2) \n",
    "\n",
    "print(round(mean_x,2) , round(mean_y,2))"
   ]
  },
  {
   "cell_type": "code",
   "execution_count": null,
   "id": "831b07f1",
   "metadata": {},
   "outputs": [],
   "source": [
    "X = df['YearsExperience'].values          \n",
    "Y = df['Salary'].values \n",
    "n = len(X)\n",
    "\n",
    "\n",
    "# Using the formula to calculate m and c\n",
    "\n",
    "numer = 0\n",
    "denom = 0\n",
    "for i in range(n):\n",
    "    numer += (X[i] - mean_x) * (Y[i] - mean_y)\n",
    "    denom += (X[i] - mean_x) ** 2\n",
    "    m = numer / denom\n",
    "    c = mean_y - (m * mean_x)"
   ]
  },
  {
   "cell_type": "code",
   "execution_count": null,
   "id": "e2d22719",
   "metadata": {},
   "outputs": [],
   "source": [
    "Y = m * 1.3 + c  \n",
    "\n",
    "print(m)\n",
    "print(c)\n",
    "print(Y)"
   ]
  },
  {
   "cell_type": "markdown",
   "id": "1f323824",
   "metadata": {},
   "source": [
    "## Simple Linear Regression Model using OLS method"
   ]
  },
  {
   "cell_type": "code",
   "execution_count": null,
   "id": "1c4030c5",
   "metadata": {},
   "outputs": [],
   "source": [
    "#  OLS = ordinary least square method. \n",
    "\n",
    "import statsmodels.api as sm\n",
    "X2 = sm.add_constant(X)\n",
    "est = sm.OLS(y,X2)                                   \n",
    "est2 = est.fit()\n",
    "est2.summary()"
   ]
  },
  {
   "cell_type": "code",
   "execution_count": null,
   "id": "b80ee155",
   "metadata": {},
   "outputs": [],
   "source": []
  },
  {
   "cell_type": "markdown",
   "id": "28e90884",
   "metadata": {},
   "source": [
    "## Simple Linear Regression model using sklearn"
   ]
  },
  {
   "cell_type": "code",
   "execution_count": null,
   "id": "e6129322",
   "metadata": {},
   "outputs": [],
   "source": [
    "import sklearn.linear_model as skl_lm\n",
    "from sklearn.linear_model import LinearRegression\n",
    "\n",
    "regr = skl_lm.LinearRegression()\n",
    "X = df.YearsExperience.values.reshape(-1,1)\n",
    "y = df.Salary\n",
    "\n",
    "regr.fit(X,y)"
   ]
  },
  {
   "cell_type": "code",
   "execution_count": null,
   "id": "934f5ed4",
   "metadata": {},
   "outputs": [],
   "source": [
    "regr.intercept_"
   ]
  },
  {
   "cell_type": "code",
   "execution_count": null,
   "id": "66b9d929",
   "metadata": {},
   "outputs": [],
   "source": [
    "regr.coef_"
   ]
  },
  {
   "cell_type": "code",
   "execution_count": null,
   "id": "3817416a",
   "metadata": {},
   "outputs": [],
   "source": [
    "regr.score(X, y)"
   ]
  },
  {
   "cell_type": "code",
   "execution_count": null,
   "id": "676e434b-c13a-4995-aee8-b72bef78462a",
   "metadata": {},
   "outputs": [],
   "source": [
    "# Accuracy Score of the Model.\n",
    "\n",
    "(regr.score(X,y) ) * 100             "
   ]
  },
  {
   "cell_type": "markdown",
   "id": "89eaf342",
   "metadata": {},
   "source": [
    "## Observation"
   ]
  },
  {
   "cell_type": "markdown",
   "id": "859285b5",
   "metadata": {},
   "source": [
    "### We can see that Our values from the Classical Method and Sklearn Model are same."
   ]
  },
  {
   "cell_type": "code",
   "execution_count": null,
   "id": "49551972",
   "metadata": {},
   "outputs": [],
   "source": [
    "# Now We can Make Prediction. \n",
    "\n",
    "regr.predict([[1.1]])"
   ]
  },
  {
   "cell_type": "code",
   "execution_count": null,
   "id": "4269fbca",
   "metadata": {},
   "outputs": [],
   "source": [
    "list1 = []\n",
    "\n",
    "for x in df['YearsExperience']:\n",
    "    print(regr.predict([[x]]))   \n",
    "    list1.append(regr.predict([[x]]))"
   ]
  },
  {
   "cell_type": "code",
   "execution_count": null,
   "id": "4fe59eed",
   "metadata": {},
   "outputs": [],
   "source": [
    "from itertools import chain\n",
    "flatten_list = list(chain.from_iterable(list1))\n",
    "str(flatten_list)\n",
    "results = list(map(float, flatten_list))\n",
    "results"
   ]
  },
  {
   "cell_type": "code",
   "execution_count": null,
   "id": "9ed14ce4",
   "metadata": {},
   "outputs": [],
   "source": [
    "df1 = pd.DataFrame({'Actual': df['Salary'], 'Predicted': results, 'Difference': round( (df['Salary']-results),2 ) }) \n",
    "df1.head(10)\n"
   ]
  },
  {
   "cell_type": "markdown",
   "id": "b5af42ed",
   "metadata": {},
   "source": [
    "### 5) Model Evaluation with Regression Metrics"
   ]
  },
  {
   "cell_type": "markdown",
   "id": "50468c5b",
   "metadata": {},
   "source": [
    "#### 1) Sum of residuals"
   ]
  },
  {
   "cell_type": "code",
   "execution_count": null,
   "id": "8bfdb864",
   "metadata": {},
   "outputs": [],
   "source": [
    "#Sum of Residuals \n",
    "\n",
    "round( (df['Salary']-results),2 ).sum() "
   ]
  },
  {
   "cell_type": "markdown",
   "id": "1e96eb0b",
   "metadata": {},
   "source": [
    "#### 2) Square Sum of Residual errors"
   ]
  },
  {
   "cell_type": "code",
   "execution_count": null,
   "id": "57f66ea9",
   "metadata": {},
   "outputs": [],
   "source": [
    "# Square Sum of Residual errors are : \n",
    "SRS = round( (df['Salary']-results),2 )**2    \n",
    "SRS\n",
    "SRS.sum()"
   ]
  },
  {
   "cell_type": "markdown",
   "id": "11e0aae7",
   "metadata": {},
   "source": [
    "#### 3) R2 Value"
   ]
  },
  {
   "cell_type": "code",
   "execution_count": null,
   "id": "9f12d9dd",
   "metadata": {},
   "outputs": [],
   "source": [
    "from sklearn.metrics import mean_squared_error, r2_score\n",
    "Sales_pred = regr.predict(X)                       # Value of Target variable when we predict it with the Independent variable. \n",
    "r2_score(df['Salary'], results) "
   ]
  },
  {
   "cell_type": "markdown",
   "id": "a7882729",
   "metadata": {},
   "source": [
    "#### 4) Regression plot"
   ]
  },
  {
   "cell_type": "code",
   "execution_count": null,
   "id": "504619a2",
   "metadata": {},
   "outputs": [],
   "source": [
    "# Plotting the actual line\n",
    "sns.regplot(x=df['YearsExperience'], y=df['Salary'], order=1, ci=None, scatter_kws={'color':'r', 's':9})\n",
    "\n",
    "# Plotting the predicted line\n",
    "sns.regplot(x=df['YearsExperience'], y=results, order=1, ci=None, scatter_kws={'color':'g', 's':9})\n",
    "\n",
    "plt.xlim(2, 10)\n",
    "plt.ylim(bottom=30000)\n",
    "\n",
    "plt.show()"
   ]
  }
 ],
 "metadata": {
  "kernelspec": {
   "display_name": "Python 3 (ipykernel)",
   "language": "python",
   "name": "python3"
  },
  "language_info": {
   "codemirror_mode": {
    "name": "ipython",
    "version": 3
   },
   "file_extension": ".py",
   "mimetype": "text/x-python",
   "name": "python",
   "nbconvert_exporter": "python",
   "pygments_lexer": "ipython3",
   "version": "3.9.17"
  }
 },
 "nbformat": 4,
 "nbformat_minor": 5
}
