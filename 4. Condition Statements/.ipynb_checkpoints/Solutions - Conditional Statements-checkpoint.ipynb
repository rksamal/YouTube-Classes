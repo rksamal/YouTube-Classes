{
 "cells": [
  {
   "cell_type": "markdown",
   "id": "6e4d8917",
   "metadata": {},
   "source": [
    "<img src=https://lstms-brainybits.s3.ap-south-1.amazonaws.com/green+logo.png width=\"300\" height=\"200\" style=\"float: left; margin-right: 8px;\">"
   ]
  },
  {
   "cell_type": "markdown",
   "id": "4225a942",
   "metadata": {},
   "source": [
    "We believe in empowering individuals with the\n",
    "knowledge and skills they need to become lifelong\n",
    "learners. Our self-learning website offers a diverse\n",
    "range of high-quality, interactive courses.\n",
    "**All rights reserved to BrainyBits. Unauthorized reproduction or distribution of this content is prohibited.** "
   ]
  },
  {
   "cell_type": "markdown",
   "id": "4414d114",
   "metadata": {},
   "source": [
    "# Manipulation of strings"
   ]
  },
  {
   "cell_type": "markdown",
   "id": "9cb3dd68",
   "metadata": {},
   "source": [
    "### IF condition"
   ]
  },
  {
   "cell_type": "markdown",
   "id": "5b569ebb",
   "metadata": {},
   "source": [
    "**1. Write a program that takes an integer as input and prints if it is \"Positive Number.\".**"
   ]
  },
  {
   "cell_type": "code",
   "execution_count": 2,
   "id": "a41aeb1b",
   "metadata": {},
   "outputs": [
    {
     "name": "stdout",
     "output_type": "stream",
     "text": [
      "Enter an integer: 10\n",
      "Positive Number.\n"
     ]
    }
   ],
   "source": [
    "## Write your code below ##\n",
    "\n",
    "# Take an integer as input\n",
    "user_input = int(input(\"Enter an integer: \"))\n",
    "\n",
    "# Check if the number is positive\n",
    "if user_input > 0:\n",
    "    print(\"Positive Number.\")"
   ]
  },
  {
   "cell_type": "markdown",
   "id": "277a529e",
   "metadata": {},
   "source": [
    "**2. Write a program that takes an integer as input and prints if it's even**"
   ]
  },
  {
   "cell_type": "code",
   "execution_count": 3,
   "id": "2e37bddd",
   "metadata": {},
   "outputs": [
    {
     "name": "stdout",
     "output_type": "stream",
     "text": [
      "Enter an integer: 4\n",
      "Even Number.\n"
     ]
    }
   ],
   "source": [
    "## Write your code below ##\n",
    "\n",
    "# Take an integer as input\n",
    "user_input = int(input(\"Enter an integer: \"))\n",
    "\n",
    "# Check if the number is even\n",
    "if user_input % 2 == 0:\n",
    "    print(\"Even Number.\")"
   ]
  },
  {
   "cell_type": "markdown",
   "id": "9a03bd43",
   "metadata": {},
   "source": [
    "### IF ELSE Conditions"
   ]
  },
  {
   "cell_type": "markdown",
   "id": "c8accf1d",
   "metadata": {},
   "source": [
    "**3. Write a program that takes an integer as input. If the number is even, print \"Even Number\"; else, print \"Odd Number.\"**"
   ]
  },
  {
   "cell_type": "code",
   "execution_count": 4,
   "id": "6d620564",
   "metadata": {},
   "outputs": [
    {
     "name": "stdout",
     "output_type": "stream",
     "text": [
      "Enter an integer: 7\n",
      "Odd Number.\n"
     ]
    }
   ],
   "source": [
    "## Write your code below ##\n",
    "\n",
    "# Take an integer as input\n",
    "user_input = int(input(\"Enter an integer: \"))\n",
    "\n",
    "# Check if the number is even or odd\n",
    "if user_input % 2 == 0:\n",
    "    print(\"Even Number.\")\n",
    "else:\n",
    "    print(\"Odd Number.\")\n"
   ]
  },
  {
   "cell_type": "markdown",
   "id": "5f699989",
   "metadata": {},
   "source": [
    "**4. Write a program that takes the current temperature as input. If the temperature is above 30 degrees Celsius, print \"High Temperature Alert.\", else \"Low Temperature\"**"
   ]
  },
  {
   "cell_type": "code",
   "execution_count": 5,
   "id": "bfaa1a19",
   "metadata": {},
   "outputs": [
    {
     "name": "stdout",
     "output_type": "stream",
     "text": [
      "Enter the current temperature in degrees Celsius: 25\n",
      "Low Temperature.\n"
     ]
    }
   ],
   "source": [
    "## Write your code below ##\n",
    "# Take the current temperature as input\n",
    "temperature = float(input(\"Enter the current temperature in degrees Celsius: \"))\n",
    "\n",
    "# Check if the temperature is above 30 degrees Celsius\n",
    "if temperature > 30:\n",
    "    print(\"High Temperature Alert.\")\n",
    "else:\n",
    "    print(\"Low Temperature.\")\n"
   ]
  },
  {
   "cell_type": "markdown",
   "id": "79e51ecb",
   "metadata": {},
   "source": [
    "### IF ELIF ELSE Conditions"
   ]
  },
  {
   "cell_type": "markdown",
   "id": "078af0b7",
   "metadata": {},
   "source": [
    "**5. Write a program that takes an integer as input and prints whether it's positive, negative, or zero.**"
   ]
  },
  {
   "cell_type": "code",
   "execution_count": 6,
   "id": "ae629787",
   "metadata": {},
   "outputs": [
    {
     "name": "stdout",
     "output_type": "stream",
     "text": [
      "Enter an integer: 10\n",
      "The number is positive.\n"
     ]
    }
   ],
   "source": [
    "## Write your code below ##\n",
    "\n",
    "# Get input from the user\n",
    "num = int(input(\"Enter an integer: \"))\n",
    "\n",
    "# Check the sign of the number\n",
    "if num > 0:\n",
    "    print(\"The number is positive.\")\n",
    "elif num < 0:\n",
    "    print(\"The number is negative.\")\n",
    "else:\n",
    "    print(\"The number is zero.\")\n"
   ]
  },
  {
   "cell_type": "markdown",
   "id": "cf245588",
   "metadata": {},
   "source": [
    "**6. Write a program that takes a student's score as input and prints their grade (A, B, C, D, or F) based on the following criteria:**"
   ]
  },
  {
   "cell_type": "code",
   "execution_count": 7,
   "id": "16f72928",
   "metadata": {},
   "outputs": [
    {
     "name": "stdout",
     "output_type": "stream",
     "text": [
      "Enter the student's score: 82\n",
      "The student's grade is: B\n"
     ]
    }
   ],
   "source": [
    "## Write your code below ##\n",
    "\n",
    "# Get input from the user\n",
    "score = float(input(\"Enter the student's score: \"))\n",
    "\n",
    "# Determine the grade based on the score\n",
    "if score >= 90:\n",
    "    grade = 'A'\n",
    "elif score >= 80:\n",
    "    grade = 'B'\n",
    "elif score >= 70:\n",
    "    grade = 'C'\n",
    "elif score >= 60:\n",
    "    grade = 'D'\n",
    "else:\n",
    "    grade = 'F'\n",
    "\n",
    "# Print the result\n",
    "print(f\"The student's grade is: {grade}\")\n"
   ]
  }
 ],
 "metadata": {
  "kernelspec": {
   "display_name": "Python 3 (ipykernel)",
   "language": "python",
   "name": "python3"
  },
  "language_info": {
   "codemirror_mode": {
    "name": "ipython",
    "version": 3
   },
   "file_extension": ".py",
   "mimetype": "text/x-python",
   "name": "python",
   "nbconvert_exporter": "python",
   "pygments_lexer": "ipython3",
   "version": "3.9.17"
  }
 },
 "nbformat": 4,
 "nbformat_minor": 5
}
