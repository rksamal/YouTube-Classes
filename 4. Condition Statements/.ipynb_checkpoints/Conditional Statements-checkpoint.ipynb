{
 "cells": [
  {
   "cell_type": "markdown",
   "id": "6e4d8917",
   "metadata": {},
   "source": [
    "<img src=https://lstms-brainybits.s3.ap-south-1.amazonaws.com/green+logo.png width=\"300\" height=\"200\" style=\"float: left; margin-right: 8px;\">"
   ]
  },
  {
   "cell_type": "markdown",
   "id": "4225a942",
   "metadata": {},
   "source": [
    "We believe in empowering individuals with the\n",
    "knowledge and skills they need to become lifelong\n",
    "learners. Our self-learning website offers a diverse\n",
    "range of high-quality, interactive courses.\n",
    "**All rights reserved to BrainyBits. Unauthorized reproduction or distribution of this content is prohibited.** "
   ]
  },
  {
   "cell_type": "markdown",
   "id": "4414d114",
   "metadata": {},
   "source": [
    "# Condition Statements"
   ]
  },
  {
   "cell_type": "markdown",
   "id": "5b569ebb",
   "metadata": {},
   "source": [
    "### 1. IF Conditions"
   ]
  },
  {
   "cell_type": "code",
   "execution_count": 1,
   "id": "a41aeb1b",
   "metadata": {},
   "outputs": [
    {
     "name": "stdout",
     "output_type": "stream",
     "text": [
      "Yes its true\n"
     ]
    }
   ],
   "source": [
    "a = 10\n",
    "\n",
    "if a == 10:\n",
    "    print(\"Yes its true\")"
   ]
  },
  {
   "cell_type": "code",
   "execution_count": 2,
   "id": "f1662796",
   "metadata": {},
   "outputs": [
    {
     "name": "stdout",
     "output_type": "stream",
     "text": [
      "abc has something in it\n"
     ]
    }
   ],
   "source": [
    "abc = \"BrainyBits\"\n",
    "\n",
    "if abc:\n",
    "    print(\"abc has something in it\")"
   ]
  },
  {
   "cell_type": "code",
   "execution_count": 3,
   "id": "d922b125",
   "metadata": {},
   "outputs": [],
   "source": [
    "del abc"
   ]
  },
  {
   "cell_type": "code",
   "execution_count": 7,
   "id": "94d824bc",
   "metadata": {},
   "outputs": [],
   "source": [
    "abc = \"BrainyBits\""
   ]
  },
  {
   "cell_type": "code",
   "execution_count": 8,
   "id": "eb4b0693",
   "metadata": {},
   "outputs": [],
   "source": [
    "if abc == 0:\n",
    "    print(\"abc has something in it\")"
   ]
  },
  {
   "cell_type": "markdown",
   "id": "277a529e",
   "metadata": {},
   "source": [
    "### 2. IF ELSE Conditions"
   ]
  },
  {
   "cell_type": "code",
   "execution_count": null,
   "id": "2e37bddd",
   "metadata": {},
   "outputs": [],
   "source": []
  },
  {
   "cell_type": "code",
   "execution_count": null,
   "id": "d694acce",
   "metadata": {},
   "outputs": [],
   "source": []
  },
  {
   "cell_type": "markdown",
   "id": "9a03bd43",
   "metadata": {},
   "source": [
    "### 3. IF ELIF ELSE Conditions"
   ]
  },
  {
   "cell_type": "code",
   "execution_count": null,
   "id": "933f84f8",
   "metadata": {},
   "outputs": [],
   "source": []
  },
  {
   "cell_type": "code",
   "execution_count": null,
   "id": "6d620564",
   "metadata": {},
   "outputs": [],
   "source": []
  },
  {
   "cell_type": "markdown",
   "id": "79e51ecb",
   "metadata": {},
   "source": [
    "### 4. Chaining of Conditions"
   ]
  },
  {
   "cell_type": "code",
   "execution_count": null,
   "id": "f48aa412",
   "metadata": {},
   "outputs": [],
   "source": []
  },
  {
   "cell_type": "code",
   "execution_count": null,
   "id": "ae629787",
   "metadata": {},
   "outputs": [],
   "source": []
  },
  {
   "cell_type": "code",
   "execution_count": null,
   "id": "c3973155",
   "metadata": {},
   "outputs": [],
   "source": []
  }
 ],
 "metadata": {
  "kernelspec": {
   "display_name": "Python 3 (ipykernel)",
   "language": "python",
   "name": "python3"
  },
  "language_info": {
   "codemirror_mode": {
    "name": "ipython",
    "version": 3
   },
   "file_extension": ".py",
   "mimetype": "text/x-python",
   "name": "python",
   "nbconvert_exporter": "python",
   "pygments_lexer": "ipython3",
   "version": "3.9.17"
  }
 },
 "nbformat": 4,
 "nbformat_minor": 5
}
