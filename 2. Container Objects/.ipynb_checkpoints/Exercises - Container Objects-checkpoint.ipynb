{
 "cells": [
  {
   "cell_type": "markdown",
   "id": "d6f6c472",
   "metadata": {},
   "source": [
    "<img src=https://lstms-brainybits.s3.ap-south-1.amazonaws.com/green+logo.png width=\"300\" height=\"200\" style=\"float: left; margin-right: 8px;\">"
   ]
  },
  {
   "cell_type": "markdown",
   "id": "9b00b280",
   "metadata": {},
   "source": [
    "We believe in empowering individuals with the\n",
    "knowledge and skills they need to become lifelong\n",
    "learners. Our self-learning website offers a diverse\n",
    "range of high-quality, interactive courses.\n",
    "**All rights reserved to BrainyBits. Unauthorized reproduction or distribution of this content is prohibited.** "
   ]
  },
  {
   "cell_type": "markdown",
   "id": "4eb32d95",
   "metadata": {},
   "source": [
    "# List Mutation "
   ]
  },
  {
   "cell_type": "markdown",
   "id": "97be22d4",
   "metadata": {},
   "source": [
    "**1. Create a list of your favorite fruits.**\n",
    "\n",
    "* Append a new fruit to the list.\n",
    "* Extend the list by adding three more fruits."
   ]
  },
  {
   "cell_type": "code",
   "execution_count": null,
   "id": "f1b20b07",
   "metadata": {},
   "outputs": [],
   "source": [
    "## Write your code below ##\n",
    "\n",
    "\n",
    "\n",
    "\n",
    "\n",
    "\n",
    "\n"
   ]
  },
  {
   "cell_type": "markdown",
   "id": "d32d89bd",
   "metadata": {},
   "source": [
    "**2. Create a list of programming languages.**\n",
    "\n",
    "* Insert a new language at a specific index.\n",
    "* Remove a language from the list."
   ]
  },
  {
   "cell_type": "code",
   "execution_count": null,
   "id": "a750efc2",
   "metadata": {},
   "outputs": [],
   "source": [
    "## Write your code below ##\n",
    "\n",
    "\n",
    "\n",
    "\n",
    "\n",
    "\n",
    "\n"
   ]
  },
  {
   "cell_type": "markdown",
   "id": "5321b039",
   "metadata": {},
   "source": [
    "**3. Create a list and make a copy of it.**\n",
    "\n",
    "* Modify the copy and observe if the original list is affected.\n"
   ]
  },
  {
   "cell_type": "code",
   "execution_count": null,
   "id": "c58beccb",
   "metadata": {},
   "outputs": [],
   "source": [
    "## Write your code below ##\n",
    "\n",
    "\n",
    "\n",
    "\n",
    "\n",
    "\n",
    "\n"
   ]
  },
  {
   "cell_type": "markdown",
   "id": "769ed2a1",
   "metadata": {},
   "source": [
    "# Set Mutation"
   ]
  },
  {
   "cell_type": "markdown",
   "id": "82aa6e67",
   "metadata": {},
   "source": [
    "**4. Create a set of your favorite colors.**\n",
    "\n",
    "* Add a new color to the set.\n",
    "* Update the set by adding three more colors."
   ]
  },
  {
   "cell_type": "code",
   "execution_count": null,
   "id": "76c0b3ed",
   "metadata": {},
   "outputs": [],
   "source": [
    "## Write your code below ##\n",
    "\n",
    "\n",
    "\n",
    "\n",
    "\n",
    "\n",
    "\n"
   ]
  },
  {
   "cell_type": "markdown",
   "id": "f7025ed7",
   "metadata": {},
   "source": [
    "**5. Create a set of animals.**\n",
    "\n",
    "* Remove one animal from the set.\n",
    "* Discard another animal from the set."
   ]
  },
  {
   "cell_type": "code",
   "execution_count": null,
   "id": "5da24445",
   "metadata": {},
   "outputs": [],
   "source": [
    "## Write your code below ##\n",
    "\n",
    "\n",
    "\n",
    "\n",
    "\n",
    "\n",
    "\n"
   ]
  },
  {
   "cell_type": "markdown",
   "id": "ca162772",
   "metadata": {},
   "source": [
    "# Dictionary Mutation"
   ]
  },
  {
   "cell_type": "markdown",
   "id": "e1b67606",
   "metadata": {},
   "source": [
    "**6. Create a dictionary representing information about a person (name, age, occupation).**\n",
    "\n",
    "* Add a new key-value pair to include the person's location.\n",
    "* Update the dictionary with new information, such as a change in occupation."
   ]
  },
  {
   "cell_type": "code",
   "execution_count": null,
   "id": "ac145b6d",
   "metadata": {},
   "outputs": [],
   "source": [
    "## Write your code below ##\n",
    "\n",
    "\n",
    "\n",
    "\n",
    "\n",
    "\n",
    "\n"
   ]
  },
  {
   "cell_type": "markdown",
   "id": "c801b6d5",
   "metadata": {},
   "source": [
    "**7. Create a dictionary of book titles and their authors.**\n",
    "\n",
    "* Remove a book from the dictionary using the del statement.\n",
    "* Use the pop() method to remove another book from the dictionary."
   ]
  },
  {
   "cell_type": "code",
   "execution_count": null,
   "id": "0970395d",
   "metadata": {},
   "outputs": [],
   "source": [
    "## Write your code below ##\n",
    "\n",
    "\n",
    "\n",
    "\n",
    "\n",
    "\n",
    "\n"
   ]
  },
  {
   "cell_type": "markdown",
   "id": "bde23b19",
   "metadata": {},
   "source": [
    "**8. Create two dictionaries representing student grades in two subjects.**\n",
    "\n",
    "* Merge the two dictionaries to create a single dictionary with grades in both subjects."
   ]
  },
  {
   "cell_type": "code",
   "execution_count": null,
   "id": "399bfda3",
   "metadata": {},
   "outputs": [],
   "source": [
    "## Write your code below ##\n",
    "\n",
    "\n",
    "\n",
    "\n",
    "\n",
    "\n",
    "\n"
   ]
  },
  {
   "cell_type": "code",
   "execution_count": null,
   "id": "e1b2a298",
   "metadata": {},
   "outputs": [],
   "source": []
  }
 ],
 "metadata": {
  "kernelspec": {
   "display_name": "Python 3 (ipykernel)",
   "language": "python",
   "name": "python3"
  },
  "language_info": {
   "codemirror_mode": {
    "name": "ipython",
    "version": 3
   },
   "file_extension": ".py",
   "mimetype": "text/x-python",
   "name": "python",
   "nbconvert_exporter": "python",
   "pygments_lexer": "ipython3",
   "version": "3.9.17"
  }
 },
 "nbformat": 4,
 "nbformat_minor": 5
}
